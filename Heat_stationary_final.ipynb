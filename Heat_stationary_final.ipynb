{
 "cells": [
  {
   "cell_type": "markdown",
   "id": "2014cf8c",
   "metadata": {},
   "source": [
    "# 1.Introduction "
   ]
  },
  {
   "cell_type": "markdown",
   "id": "90a3d5e4",
   "metadata": {},
   "source": [
    "This report presents the modeling of heat transfer in a copper beam using the finite difference method and boundary conditions applied at 10 C° from the left end and 50 C° from the right end. Heat transfer is a fundamental phenomenon encountered in various engineering applications, and understanding the temperature distribution in solid structures is crucial for designing efficient thermal systems.\n",
    "\n",
    "The heat equation is a partial differential equation that describes how temperature changes over time in a given domain. In one dimension, the heat equation can be expressed as:\n",
    "\n",
    "$$\n",
    "    \\kappa \\frac{\\partial^2{u}}{\\partial{x}^2} = \\frac{\\partial{u}}{\\partial{t}}\n",
    "$$\n",
    "\n",
    "where u(x, t) represents the temperature distribution along the beam at position x and time t, and α is the thermal diffusivity of the material.\n",
    "\n",
    "In our case, we are considering the steady-state or time-independent heat equation. This means that the temperature distribution does not change with time, and the equation simplifies to:\n",
    "\n",
    "$$\n",
    "    \\kappa \\frac{\\partial^2{u}}{\\partial{x}^2} = 0\n",
    "$$\n",
    "\n",
    "We seek to solve this equation numerically using the finite difference method, which discretises the domain into dx intervals. The boundary conditions specify the temperatures at the ends of the beam, with a fixed temperature of 10°C at 0 cm from the left and 50°C at 80 cm from the right.\n",
    "\n",
    "By solving the heat equation with these boundary conditions, we can determine the temperature profile along the copper beam. "
   ]
  },
  {
   "cell_type": "code",
   "execution_count": 1,
   "id": "a2546834",
   "metadata": {},
   "outputs": [],
   "source": [
    "using BoundaryValueDiffEq\n",
    "using Plots\n",
    "using SparseArrays\n",
    "using LinearAlgebra\n",
    "using BenchmarkTools"
   ]
  },
  {
   "cell_type": "markdown",
   "id": "a5a1c787",
   "metadata": {},
   "source": [
    "# 2.Source Fonction \n"
   ]
  },
  {
   "cell_type": "markdown",
   "id": "e8dc8270",
   "metadata": {},
   "source": [
    "In this part, I model a single force acting on the beam. To do this, I will create a function that takes the form of a Gaussian function with a maximum value A representing the magnitude of the force, a width represented by the parameter σ, and located at position X0 on the beam.\n",
    "\n",
    "\n",
    "$$ f(x) = A\\exp{(-\\frac{(x-x_0)^2}{\\sigma^2})} $$\n",
    "\n",
    "For the heat equation, this force is actually a heat peak of magnitude A, width σ and located at position X0 on the beam. In this example, the heat peak is located 60 cm along the beam, with a narrow width.\n",
    "\n",
    "\n"
   ]
  },
  {
   "cell_type": "code",
   "execution_count": null,
   "id": "8b6dc2ee",
   "metadata": {},
   "outputs": [],
   "source": [
    "function source_function(x)\n",
    "    X0 = 60.0\n",
    "    σ = 0.8\n",
    "    A = 10.\n",
    "    return  A .* exp.(.-((x .- X0).^2)./σ^2)\n",
    "end"
   ]
  },
  {
   "cell_type": "code",
   "execution_count": null,
   "id": "cdf24ff4",
   "metadata": {},
   "outputs": [],
   "source": [
    "function source(N)\n",
    "#Parameter\n",
    "    l = 80.\n",
    "    dx = l/N\n",
    "#Mesh\n",
    "    X_vect = Vector(0:dx:l)\n",
    "# Function source\n",
    "    f = source_function(X_vect)\n",
    "    return f\n",
    "end"
   ]
  },
  {
   "cell_type": "markdown",
   "id": "4b2af110",
   "metadata": {},
   "source": [
    "# 3.Finite difference modelling."
   ]
  },
  {
   "cell_type": "markdown",
   "id": "4bef4036",
   "metadata": {},
   "source": [
    "The 1D time-independent heat equation is a mathematical model used to describe the distribution of heat in a one-dimensional medium over time.\n",
    "$$\\frac{\\partial^2{u}}{\\partial{x}^2} = 0$$\n",
    "Where u represents the temperature distribution along the x-axis. To solve this equation numerically, we discretize the domain into small intervals dx and approximate the second derivative using finite differences.\n",
    "$$\n",
    "    \\frac{\\kappa(U_{i+1} -2U_{i} + U{i-1})}{dx^2} = 0\n",
    "$$\n",
    "With the boudarys conditions :\n",
    "\n",
    "$$\n",
    "    U_0 = 10\\\\\n",
    "    U_N = 50\n",
    "$$\n",
    "This leads to a system of linear equations Au = b, where A is a tridiagonal matrix that represents the coefficients of the finite difference scheme, x is the vector containing the unknown temperature values at each discretized point. \n",
    "$$\n",
    "A = \\frac{\\kappa}{dx^2} \\begin{bmatrix}\n",
    "1 & 0 & 0 & \\dots & 0 \\\\\n",
    "-1 & 2 & -1 & \\dots & 0 \\\\\n",
    "0 & -1 & 2 & \\dots & 0 \\\\\n",
    "\\vdots & \\ddots & \\ddots & \\ddots & \\vdots \\\\\n",
    "0  & \\ddots & \\ddots  & -1 & 2 \\\\\n",
    "0 & \\dots & \\dots & 0 & 1 \\\\\n",
    "\\end{bmatrix}\n",
    "$$\n",
    "\n",
    "The vector b is is containing the known boundary conditions, so for this example the vector will be : \n",
    "$$\n",
    "    \\mathbf{b} = \\begin{bmatrix} 10 \\\\ 0 \\\\ 0 \\\\ \\vdots \\\\ 0 \\\\ 50\\end{bmatrix}\n",
    "$$\n",
    "\n",
    "The heat source must be added to the linear system to get the real case. \n",
    "\n",
    "$$\n",
    "    \\mathbf{S} = \\begin{bmatrix} f(0) \\\\ \\vdots \\\\ \\vdots \\\\ \\vdots \\\\ \\vdots \\\\ f(L)\\end{bmatrix}\n",
    "$$\n",
    "\n",
    "So the linear system that we trying to solve is :\n",
    "\n",
    "$$\n",
    "   \\fbox{ Au = b+S}\n",
    "$$\n",
    "\n"
   ]
  },
  {
   "cell_type": "markdown",
   "id": "3465f429",
   "metadata": {},
   "source": [
    "Firstly, we will create the matrix A with the data used for a copper beam. We'll use the material density d, thermal conductivity tc and specifc heatsh. This will give : \n",
    "$$\n",
    "    \\kappa = \\frac{tc}{sh \\times d}\n",
    "$$\n"
   ]
  },
  {
   "cell_type": "code",
   "execution_count": null,
   "id": "aef57278",
   "metadata": {},
   "outputs": [],
   "source": [
    "function matrix(n) #8 times faster than before (calculate with @btime)\n",
    "\n",
    "# Parameter for a copper bar \n",
    "    d= 8.92 #density \n",
    "    sh= 0.092 #specific_heat\n",
    "    tc= 0.95 #thermal_conductivity\n",
    "    l= 80 #length\n",
    "    c = ( tc / (sh * d))^(1/2)\n",
    "    dx = l/ n\n",
    "    k = 1 #normally it's k = c²\n",
    "    \n",
    "# Build of the tridiagonal Matrix\n",
    "    A = spdiagm(-1 =>  -(k / dx^2)* ones(n), 0 => 2 * (k / dx^2) * ones(n+1), 1 => - (k / dx^2) * ones(n)) \n",
    "    A[1,1] = 1\n",
    "    A[1,2] = 0\n",
    "    A[n+1,n+1] = 1 \n",
    "    A[n+1,n] = 0\n",
    "    return A\n",
    "end"
   ]
  },
  {
   "cell_type": "code",
   "execution_count": null,
   "id": "32ac2e87",
   "metadata": {},
   "outputs": [],
   "source": [
    "function heat(N)\n",
    "\n",
    "#Parameter of the bar \n",
    "    l= 80 #length\n",
    "    dx = l/ N  \n",
    "\n",
    "# Build of the matrix A\n",
    "    A = matrix(N)\n",
    "    #print(A)\n",
    "\n",
    "# Vector B from Au = B (Boundary)\n",
    "    b = zeros(N+1)\n",
    "    b[1] = 10\n",
    "    b[end] = 50\n",
    "\n",
    "# Vector S for the source power\n",
    "    X_vect = Vector(0:dx:l)\n",
    "    S = source_function(X_vect) \n",
    "    S[1] = 0                        #Not sure about this \n",
    "    S[end] = 0                      #Not sure about this \n",
    "                                    #Dont know if it's B[1] = 10 or S[1] + B[1] = U[1] = 50 same for n\n",
    "    \n",
    "# Solving of the Linear System\n",
    "    u = A \\ (b+S)   \n",
    "    return u \n",
    "end "
   ]
  },
  {
   "cell_type": "markdown",
   "id": "2b640534",
   "metadata": {},
   "source": [
    "We also need to test the calculation time for this resolution. We can see that for a 1000x1000 matrix, the resolution time is fairly short."
   ]
  },
  {
   "cell_type": "code",
   "execution_count": null,
   "id": "1e335059",
   "metadata": {},
   "outputs": [],
   "source": [
    "@btime heat(1000)"
   ]
  },
  {
   "cell_type": "markdown",
   "id": "20a2bb72",
   "metadata": {},
   "source": [
    "# 4.Using BoundaryValueDiffEq from julia"
   ]
  },
  {
   "cell_type": "markdown",
   "id": "4c100fb3",
   "metadata": {},
   "source": [
    "Modeling with BoundaryValueDiffEq involves solving boundary value problems (BVPs) for differential equations in Julia. The BoundaryValueDiffEq package provides a comprehensive set of tools for solving BVPs, including a wide range of solvers and utilities.\n",
    "\n",
    "To use BoundaryValueDiffEq, we define our BVP by specifying the differential equation, boundary conditions, and the domain or spatial range. The differential equation is typically defined as a function that calculates the derivatives of the dependent variables with respect to the independent variable(s). The boundary conditions define the values or relationships at the boundaries of the domain.\n",
    "\n",
    "Once the BVP is defined, we create a BVProblem object, which encapsulates the differential equation, boundary conditions, and domain information. We can then use the solve() function to solve the BVP and obtain the solution.\n",
    "\n",
    "BoundaryValueDiffEq supports various numerical methods for solving BVPs, including shooting methods, finite difference methods, and collocation methods. The choice of solver depends on the specific problem characteristics and requirements.\n",
    "\n",
    "I will divide the programme into three parts : \n",
    "\n",
    "The first of which will explain the problem of diffusion. The problem can be explained in the same way as the heat equation.\n",
    "\n",
    "\n",
    "   $$ \\frac{\\partial^2{u}}{\\partial{x}^2} = - f $$\n",
    "    $$ \\frac{\\partial{u}}{\\partial{x}} = U_2  = flux $$\n",
    "    $$ \\frac{\\partial^2{u}}{\\partial{x}^2} = 0 - f $$\n",
    "\n",
    "\n",
    "The second part is the boundarys are explicited. Indeed, there are two boudarys conditions.\n",
    "\n",
    "$$\n",
    "    U(0) = 10 $$\n",
    "   $$ U(L) = 50\n",
    "$$\n",
    "\n",
    "The last part is the resolution of the diffusion function and the boundarys function. As before, the parameters are those of an 80cm copper beam. With this programme, my result (sol1) is an N x 2 matrix, but to plot the solution, I only need the first term of each line. So I create a loop to obtain the solution vector sol2.\n",
    "\n"
   ]
  },
  {
   "cell_type": "code",
   "execution_count": null,
   "id": "dad16918",
   "metadata": {},
   "outputs": [],
   "source": [
    "# Define diffusion equation using BoudaryValuDiffEq"
   ]
  },
  {
   "cell_type": "code",
   "execution_count": null,
   "id": "65acc162",
   "metadata": {},
   "outputs": [],
   "source": [
    "function diffusion!(du, u, p, x)\n",
    "    # u[1]: concentration \n",
    "    # u[2]: fluc \n",
    "    # d/dx(concentration)  = flux \n",
    "    du[1] = u[2]\n",
    "    # d/dx(flux)  = sourceFct\n",
    "    du[2] = 0 - source_function(x)\n",
    "end    "
   ]
  },
  {
   "cell_type": "code",
   "execution_count": null,
   "id": "d99caa8c",
   "metadata": {},
   "outputs": [],
   "source": [
    "# Define boundary conditions "
   ]
  },
  {
   "cell_type": "code",
   "execution_count": null,
   "id": "905f4703",
   "metadata": {},
   "outputs": [],
   "source": [
    "function boundaries!(residual, u, p, x)\n",
    "    # residual boundary condition in the left end-point \n",
    "    residual[1] = u[1][1] - 10\n",
    "    # residual boundary condition in the left end-point\n",
    "    residual[2] = u[end][1] - 50\n",
    "end "
   ]
  },
  {
   "cell_type": "code",
   "execution_count": null,
   "id": "e4c3ba5d",
   "metadata": {},
   "outputs": [],
   "source": [
    "# Set the boundary value problem to solve"
   ]
  },
  {
   "cell_type": "code",
   "execution_count": null,
   "id": "1fe38883",
   "metadata": {},
   "outputs": [],
   "source": [
    "function set_boundarys(N)\n",
    "    \n",
    "# define spatial range \n",
    "    xspan = (0.0, 80.)\n",
    "    \n",
    "# Parameter for a copper bar \n",
    "    d= 8.92 #density \n",
    "    sh= 0.092 #specific_heat\n",
    "    tc= 0.95 #thermal_conductivity\n",
    "    l = 80.\n",
    "    dx = l/N\n",
    "    xvec = Vector(0:dx:l)\n",
    "\n",
    "    c = ( tc / (sh * d))^(1/2) \n",
    "    p = [c^2]; \n",
    "    \n",
    "# set the boundary value problem to solve\n",
    "    bvp1 = BVProblem(diffusion!, boundaries!, [10., 50.], xspan,p)\n",
    "\n",
    "# set the boundary value problem  \n",
    "    sol1 = solve(bvp1, GeneralMIRK4(), dt = 0.8)\n",
    "    \n",
    "# Take the first terme of every sublist for the first solution \n",
    "    sol2 = zeros(length(sol1))\n",
    "    for i in 1:length(sol1)\n",
    "        sol2[i] = sol1[i][1]  \n",
    "    end\n",
    "    return sol2\n",
    "end"
   ]
  },
  {
   "cell_type": "markdown",
   "id": "7ccf5083",
   "metadata": {},
   "source": [
    "We also need to test the calculation time for this resolution. We can see that for a 100 points, the resolution time is fairly short. But it is important to note that the finite difference mode is shorter."
   ]
  },
  {
   "cell_type": "code",
   "execution_count": null,
   "id": "5275e85c",
   "metadata": {},
   "outputs": [],
   "source": [
    "@btime set_boundarys(100)"
   ]
  },
  {
   "cell_type": "markdown",
   "id": "181c7a6f",
   "metadata": {},
   "source": [
    "# 5.Conclusion"
   ]
  },
  {
   "cell_type": "markdown",
   "id": "bb748633",
   "metadata": {},
   "source": [
    "In conclusion, the plots of the two methods are identical, and it can be seen that the source interferes with the solution of the heat equation, which is normal. However, using the finite difference method to solve the heat equation is better because of the reduced calculation time.\n",
    "Moreover, the relative error between these two methods is around $2.10^{-3}$ maximum, which is another good point for the finite differential method."
   ]
  },
  {
   "cell_type": "code",
   "execution_count": null,
   "id": "9cb08ccf",
   "metadata": {},
   "outputs": [],
   "source": [
    "#Set the Parameter N "
   ]
  },
  {
   "cell_type": "code",
   "execution_count": null,
   "id": "53868ceb",
   "metadata": {},
   "outputs": [],
   "source": [
    "N = 100\n",
    "l= 80.\n",
    "dx = l/N"
   ]
  },
  {
   "cell_type": "code",
   "execution_count": null,
   "id": "0e128db5",
   "metadata": {},
   "outputs": [],
   "source": [
    "# Plot the computed solution: the source solution "
   ]
  },
  {
   "cell_type": "code",
   "execution_count": null,
   "id": "d82d0168",
   "metadata": {
    "scrolled": true
   },
   "outputs": [],
   "source": [
    "xvec = Vector(0:dx:l)\n",
    "fvec = source_function.(xvec)\n",
    "\n",
    "p1 = plot(xvec, fvec, label = \"Source\", xlabel = \"x\", ylabel = \"Source\")\n",
    "\n",
    "p2 = plot(xvec, set_boundarys(N), label = \"Reference\", xlabel = \"x\", ylabel = \"Reference_sol\", linecolor = :red)\n",
    "\n",
    "p3 = plot(xvec, heat(N), label = \"Finite_Dif\", xlabel = \"x\", ylabel = \"Modele_sol\", linecolor = :green)\n",
    "\n",
    "plot(p1, p2, p3, layout = (3, 1))\n"
   ]
  },
  {
   "cell_type": "code",
   "execution_count": null,
   "id": "5c622d7c",
   "metadata": {},
   "outputs": [],
   "source": [
    "exact = set_boundarys(N)\n",
    "modele = heat(N)\n",
    "error = (abs.(exact .- modele) ./ exact) \n",
    "title = \"Relative error for $N points\"\n",
    "plot(xvec, error, label = \"Relative error\", xlabel = \"Length of the beam\", ylabel = \"Error\", title = title)"
   ]
  },
  {
   "cell_type": "code",
   "execution_count": null,
   "id": "2baaa8c6",
   "metadata": {},
   "outputs": [],
   "source": []
  }
 ],
 "metadata": {
  "kernelspec": {
   "display_name": "Julia 1.4.1",
   "language": "julia",
   "name": "julia-1.4"
  },
  "language_info": {
   "file_extension": ".jl",
   "mimetype": "application/julia",
   "name": "julia",
   "version": "1.4.1"
  }
 },
 "nbformat": 4,
 "nbformat_minor": 5
}
