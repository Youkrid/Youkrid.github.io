{
 "cells": [
  {
   "cell_type": "markdown",
   "id": "2014cf8c",
   "metadata": {},
   "source": [
    "# 1.Introduction "
   ]
  },
  {
   "cell_type": "markdown",
   "id": "90a3d5e4",
   "metadata": {},
   "source": [
    "This report presents the modeling of heat transfer in a copper beam using the finite difference method and boundary conditions applied at 10 cm from the left end and 50 cm from the right end. Heat transfer is a fundamental phenomenon encountered in various engineering applications, and understanding the temperature distribution in solid structures is crucial for designing efficient thermal systems.\n",
    "\n",
    "The heat equation is a partial differential equation that describes how temperature changes over time in a given domain. In one dimension, the heat equation can be expressed as:\n",
    "\n",
    "$$\n",
    "    \\kappa \\frac{\\partial^2{u}}{\\partial{x}^2} = \\frac{\\partial{u}}{\\partial{t}}\n",
    "$$\n",
    "\n",
    "where u(x, t) represents the temperature distribution along the beam at position x and time t, and α is the thermal diffusivity of the material.\n",
    "\n",
    "In our case, we are considering the steady-state or time-independent heat equation. This means that the temperature distribution does not change with time, and the equation simplifies to:\n",
    "\n",
    "$$\n",
    "    \\kappa \\frac{\\partial^2{u}}{\\partial{x}^2} = 0\n",
    "$$\n",
    "\n",
    "We seek to solve this equation numerically using the finite difference method, which discretises the domain into dx intervals. The boundary conditions specify the temperatures at the ends of the beam, with a fixed temperature of 10°C at 0 cm from the left and 50°C at 80 cm from the right.\n",
    "\n",
    "By solving the heat equation with these boundary conditions, we can determine the temperature profile along the copper beam. "
   ]
  },
  {
   "cell_type": "code",
   "execution_count": 46,
   "id": "a2546834",
   "metadata": {},
   "outputs": [],
   "source": [
    "using BoundaryValueDiffEq\n",
    "using Plots\n",
    "using SparseArrays\n",
    "using LinearAlgebra\n",
    "using BenchmarkTools"
   ]
  },
  {
   "cell_type": "markdown",
   "id": "a5a1c787",
   "metadata": {},
   "source": [
    "# 2.Source Fonction \n"
   ]
  },
  {
   "cell_type": "markdown",
   "id": "e8dc8270",
   "metadata": {},
   "source": [
    "In this part, I model a single force acting on the beam. To do this, I will create a function that takes the form of a Gaussian function with a maximum value A representing the magnitude of the force, a width represented by the parameter σ, and located at position X0 on the beam.\n",
    "\n",
    "\n",
    "$$ f(x) = A\\exp{(-\\frac{(x-x_0)^2}{\\sigma^2})} $$\n",
    "\n",
    "For the heat equation, this force is actually a heat peak of magnitude A, width σ and located at position X0 on the beam. In this example, the heat peak is located 60 cm along the beam, with a narrow width.\n",
    "\n",
    "\n"
   ]
  },
  {
   "cell_type": "code",
   "execution_count": 47,
   "id": "8b6dc2ee",
   "metadata": {},
   "outputs": [
    {
     "data": {
      "text/plain": [
       "source_function (generic function with 1 method)"
      ]
     },
     "execution_count": 47,
     "metadata": {},
     "output_type": "execute_result"
    }
   ],
   "source": [
    "function source_function(x)\n",
    "    X0 = 60.0\n",
    "    σ = 0.8\n",
    "    A = 10.\n",
    "    return  A .* exp.(.-((x .- X0).^2)./σ^2)\n",
    "end"
   ]
  },
  {
   "cell_type": "code",
   "execution_count": 48,
   "id": "cdf24ff4",
   "metadata": {},
   "outputs": [
    {
     "data": {
      "text/plain": [
       "source (generic function with 1 method)"
      ]
     },
     "execution_count": 48,
     "metadata": {},
     "output_type": "execute_result"
    }
   ],
   "source": [
    "function source(N)\n",
    "#Parameter\n",
    "    l = 80.\n",
    "    dx = l/N\n",
    "#Mesh\n",
    "    X_vect = Vector(0:dx:l)\n",
    "# Function source\n",
    "    f = source_function(X_vect)\n",
    "    return f\n",
    "end"
   ]
  },
  {
   "cell_type": "markdown",
   "id": "4b2af110",
   "metadata": {},
   "source": [
    "# 3.Finite difference modelling."
   ]
  },
  {
   "cell_type": "markdown",
   "id": "4bef4036",
   "metadata": {},
   "source": [
    "The 1D time-independent heat equation is a mathematical model used to describe the distribution of heat in a one-dimensional medium over time.\n",
    "$$\\frac{\\partial^2{u}}{\\partial{x}^2} = 0$$\n",
    "Where u represents the temperature distribution along the x-axis. To solve this equation numerically, we discretize the domain into small intervals dx and approximate the second derivative using finite differences.\n",
    "$$\n",
    "    \\frac{\\kappa(U_{i+1} -2U_{i} + U{i-1})}{dx^2} = 0\n",
    "$$\n",
    "With the boudarys conditions :\n",
    "\n",
    "$$\n",
    "    U_0 = 10\\\\\n",
    "    U_N = 50\n",
    "$$\n",
    "This leads to a system of linear equations Au = b, where A is a tridiagonal matrix that represents the coefficients of the finite difference scheme, x is the vector containing the unknown temperature values at each discretized point. \n",
    "$$\n",
    "A = \\frac{\\kappa}{dx^2} \\begin{bmatrix}\n",
    "1 & 0 & 0 & \\dots & 0 \\\\\n",
    "-1 & 2 & -1 & \\dots & 0 \\\\\n",
    "0 & -1 & 2 & \\dots & 0 \\\\\n",
    "\\vdots & \\vdots & \\vdots & \\ddots & \\vdots \\\\\n",
    "0 & 0 & \\dots & -1 & 2 \\\\\n",
    "0 & 0 & \\dots & 0 & 1 \\\\\n",
    "\\end{bmatrix}\n",
    "$$\n",
    "\n",
    "The vector b is is containing the known boundary conditions, so for this example the vector will be : \n",
    "$$\n",
    "    \\mathbf{b} = \\begin{bmatrix} 10 \\\\ 0 \\\\ 0 \\\\ \\vdots \\\\ 0 \\\\ 50\\end{bmatrix}\n",
    "$$\n",
    "\n",
    "The heat source must be added to the linear system to get the real case. \n",
    "\n",
    "$$\n",
    "    \\mathbf{S} = \\begin{bmatrix} f(0) \\\\ \\vdots \\\\ \\vdots \\\\ \\vdots \\\\ \\vdots \\\\ f(L)\\end{bmatrix}\n",
    "$$\n",
    "\n",
    "So the linear system that we trying to solve is :\n",
    "\n",
    "$$\n",
    "   \\fbox{ Au = b+S}\n",
    "$$\n",
    "\n"
   ]
  },
  {
   "cell_type": "markdown",
   "id": "3465f429",
   "metadata": {},
   "source": [
    "Firstly, we will create the matrix A with the data used for a copper beam. We'll use the material density d, thermal conductivity tc and specifc heatsh. This will give : \n",
    "$$\n",
    "    \\kappa = \\frac{tc}{sh \\times d}\n",
    "$$\n"
   ]
  },
  {
   "cell_type": "code",
   "execution_count": 49,
   "id": "aef57278",
   "metadata": {},
   "outputs": [
    {
     "data": {
      "text/plain": [
       "matrix (generic function with 1 method)"
      ]
     },
     "execution_count": 49,
     "metadata": {},
     "output_type": "execute_result"
    }
   ],
   "source": [
    "function matrix(n) #8 times faster than before (calculate with @btime)\n",
    "\n",
    "# Parameter for a copper bar \n",
    "    d= 8.92 #density \n",
    "    sh= 0.092 #specific_heat\n",
    "    tc= 0.95 #thermal_conductivity\n",
    "    l= 80 #length\n",
    "    c = ( tc / (sh * d))^(1/2)\n",
    "    dx = l/ n\n",
    "    k = 1 #normally it's k = c²\n",
    "    \n",
    "# Build of the tridiagonal Matrix\n",
    "    A = spdiagm(-1 =>  -(k / dx^2)* ones(n), 0 => 2 * (k / dx^2) * ones(n+1), 1 => - (k / dx^2) * ones(n)) \n",
    "    A[1,1] = 1\n",
    "    A[1,2] = 0\n",
    "    A[n+1,n+1] = 1 \n",
    "    A[n+1,n] = 0\n",
    "    return A\n",
    "end"
   ]
  },
  {
   "cell_type": "code",
   "execution_count": 50,
   "id": "32ac2e87",
   "metadata": {},
   "outputs": [
    {
     "data": {
      "text/plain": [
       "heat (generic function with 1 method)"
      ]
     },
     "execution_count": 50,
     "metadata": {},
     "output_type": "execute_result"
    }
   ],
   "source": [
    "function heat(N)\n",
    "\n",
    "#Parameter of the bar \n",
    "    l= 80 #length\n",
    "    dx = l/ N  \n",
    "\n",
    "# Build of the matrix A\n",
    "    A = matrix(N)\n",
    "    #print(A)\n",
    "\n",
    "# Vector B from Au = B (Boundary)\n",
    "    b = zeros(N+1)\n",
    "    b[1] = 10\n",
    "    b[end] = 50\n",
    "\n",
    "# Vector S for the source power\n",
    "    X_vect = Vector(0:dx:l)\n",
    "    S = source_function(X_vect) \n",
    "    S[1] = 0                        #Not sure about this \n",
    "    S[end] = 0                      #Not sure about this \n",
    "                                    #Dont know if it's B[1] = 10 or S[1] + B[1] = U[1] = 50 same for n\n",
    "    \n",
    "# Solving of the Linear System\n",
    "    u = A \\ (b+S)   \n",
    "    return u \n",
    "end "
   ]
  },
  {
   "cell_type": "markdown",
   "id": "2b640534",
   "metadata": {},
   "source": [
    "We also need to test the calculation time for this resolution. We can see that for a 1000x1000 matrix, the resolution time is fairly short."
   ]
  },
  {
   "cell_type": "code",
   "execution_count": 51,
   "id": "1e335059",
   "metadata": {},
   "outputs": [
    {
     "name": "stdout",
     "output_type": "stream",
     "text": [
      "  586.095 μs (118 allocations: 1.32 MiB)\n"
     ]
    },
    {
     "data": {
      "text/plain": [
       "1001-element Array{Float64,1}:\n",
       " 10.0\n",
       " 10.323592616144829\n",
       " 10.647185232289658\n",
       " 10.970777848434485\n",
       " 11.294370464579313\n",
       " 11.61796308072414\n",
       " 11.941555696868967\n",
       " 12.265148313013794\n",
       " 12.58874092915862\n",
       " 12.912333545303445\n",
       " 13.23592616144827\n",
       " 13.559518777593095\n",
       " 13.88311139373792\n",
       "  ⋮\n",
       " 58.91855633278034\n",
       " 58.10777848434576\n",
       " 57.29700063591118\n",
       " 56.486222787476606\n",
       " 55.67544493904203\n",
       " 54.86466709060746\n",
       " 54.05388924217288\n",
       " 53.243111393738296\n",
       " 52.43233354530371\n",
       " 51.621555696869144\n",
       " 50.81077784843457\n",
       " 50.0"
      ]
     },
     "execution_count": 51,
     "metadata": {},
     "output_type": "execute_result"
    }
   ],
   "source": [
    "@btime heat(1000)"
   ]
  },
  {
   "cell_type": "markdown",
   "id": "20a2bb72",
   "metadata": {},
   "source": [
    "# 4.Using BoundaryValueDiffEq from julia"
   ]
  },
  {
   "cell_type": "markdown",
   "id": "4c100fb3",
   "metadata": {},
   "source": [
    "Modeling with BoundaryValueDiffEq involves solving boundary value problems (BVPs) for differential equations in Julia. The BoundaryValueDiffEq package provides a comprehensive set of tools for solving BVPs, including a wide range of solvers and utilities.\n",
    "\n",
    "To use BoundaryValueDiffEq, we define our BVP by specifying the differential equation, boundary conditions, and the domain or spatial range. The differential equation is typically defined as a function that calculates the derivatives of the dependent variables with respect to the independent variable(s). The boundary conditions define the values or relationships at the boundaries of the domain.\n",
    "\n",
    "Once the BVP is defined, we create a BVProblem object, which encapsulates the differential equation, boundary conditions, and domain information. We can then use the solve() function to solve the BVP and obtain the solution.\n",
    "\n",
    "BoundaryValueDiffEq supports various numerical methods for solving BVPs, including shooting methods, finite difference methods, and collocation methods. The choice of solver depends on the specific problem characteristics and requirements.\n",
    "\n",
    "I will divide the programme into three parts : \n",
    "\n",
    "The first of which will explain the problem of diffusion. The problem can be explained in the same way as the heat equation.\n",
    "\n",
    "$$\n",
    "    \\frac{\\partial^2{u}}{\\partial{x}^2} = - f \\\\\n",
    "    \\frac{\\partial{u}}{\\partial{x}} = U_2  = flux\\\\\n",
    "    \\frac{\\partial^2{u}}{\\partial{x}^2} = 0 - f\n",
    "$$\n",
    "\n",
    "The second part is the boundarys are explicited. Indeed, there are two boudarys conditions.\n",
    "\n",
    "$$\n",
    "    U(0) = 10\\\\\n",
    "    U(L) = 50\n",
    "$$\n",
    "\n",
    "The last part is the resolution of the diffusion function and the boundarys function. As before, the parameters are those of an 80cm copper beam. With this programme, my result (sol1) is an N x 2 matrix, but to plot the solution, I only need the first term of each line. So I create a loop to obtain the solution vector sol2.\n",
    "\n"
   ]
  },
  {
   "cell_type": "code",
   "execution_count": 52,
   "id": "dad16918",
   "metadata": {},
   "outputs": [],
   "source": [
    "# Define diffusion equation using BoudaryValuDiffEq"
   ]
  },
  {
   "cell_type": "code",
   "execution_count": 53,
   "id": "65acc162",
   "metadata": {},
   "outputs": [
    {
     "data": {
      "text/plain": [
       "diffusion! (generic function with 1 method)"
      ]
     },
     "execution_count": 53,
     "metadata": {},
     "output_type": "execute_result"
    }
   ],
   "source": [
    "function diffusion!(du, u, p, x)\n",
    "    # u[1]: concentration \n",
    "    # u[2]: fluc \n",
    "    # d/dx(concentration)  = flux \n",
    "    du[1] = u[2]\n",
    "    # d/dx(flux)  = sourceFct\n",
    "    du[2] = 0 - source_function(x)\n",
    "end    "
   ]
  },
  {
   "cell_type": "code",
   "execution_count": 54,
   "id": "d99caa8c",
   "metadata": {},
   "outputs": [],
   "source": [
    "# Define boundary conditions "
   ]
  },
  {
   "cell_type": "code",
   "execution_count": 55,
   "id": "905f4703",
   "metadata": {},
   "outputs": [
    {
     "data": {
      "text/plain": [
       "boundaries! (generic function with 1 method)"
      ]
     },
     "execution_count": 55,
     "metadata": {},
     "output_type": "execute_result"
    }
   ],
   "source": [
    "function boundaries!(residual, u, p, x)\n",
    "    # residual boundary condition in the left end-point \n",
    "    residual[1] = u[1][1] - 10\n",
    "    # residual boundary condition in the left end-point\n",
    "    residual[2] = u[end][1] - 50\n",
    "end "
   ]
  },
  {
   "cell_type": "code",
   "execution_count": 56,
   "id": "e4c3ba5d",
   "metadata": {},
   "outputs": [],
   "source": [
    "# Set the boundary value problem to solve"
   ]
  },
  {
   "cell_type": "code",
   "execution_count": 57,
   "id": "1fe38883",
   "metadata": {},
   "outputs": [
    {
     "data": {
      "text/plain": [
       "set_boundarys (generic function with 1 method)"
      ]
     },
     "execution_count": 57,
     "metadata": {},
     "output_type": "execute_result"
    }
   ],
   "source": [
    "function set_boundarys(N)\n",
    "    \n",
    "# define spatial range \n",
    "    xspan = (0.0, 80.)\n",
    "    \n",
    "# Parameter for a copper bar \n",
    "    d= 8.92 #density \n",
    "    sh= 0.092 #specific_heat\n",
    "    tc= 0.95 #thermal_conductivity\n",
    "    l = 80.\n",
    "    dx = l/N\n",
    "    xvec = Vector(0:dx:l)\n",
    "\n",
    "    c = ( tc / (sh * d))^(1/2) \n",
    "    p = [c^2]; \n",
    "    \n",
    "# set the boundary value problem to solve\n",
    "    bvp1 = BVProblem(diffusion!, boundaries!, [10., 50.], xspan,p)\n",
    "\n",
    "# set the boundary value problem  \n",
    "    sol1 = solve(bvp1, GeneralMIRK4(), dt = 0.8)\n",
    "    \n",
    "# Take the first terme of every sublist for the first solution \n",
    "    sol2 = zeros(length(sol1))\n",
    "    for i in 1:length(sol1)\n",
    "        sol2[i] = sol1[i][1]  \n",
    "    end\n",
    "    return sol2\n",
    "end"
   ]
  },
  {
   "cell_type": "markdown",
   "id": "7ccf5083",
   "metadata": {},
   "source": [
    "We also need to test the calculation time for this resolution. We can see that for a 100 points, the resolution time is fairly short. But it is important to note that the finite difference mode is shorter."
   ]
  },
  {
   "cell_type": "code",
   "execution_count": 58,
   "id": "5275e85c",
   "metadata": {},
   "outputs": [
    {
     "name": "stdout",
     "output_type": "stream",
     "text": [
      "  258.184 ms (4920718 allocations: 385.84 MiB)\n"
     ]
    },
    {
     "data": {
      "text/plain": [
       "101-element Array{Float64,1}:\n",
       "  10.0\n",
       "  13.235828372690884\n",
       "  16.471656745381768\n",
       "  19.70748511807265\n",
       "  22.943313490763536\n",
       "  26.17914186345442\n",
       "  29.4149702361453\n",
       "  32.65079860883618\n",
       "  35.886626981527066\n",
       "  39.12245535421795\n",
       "  42.35828372690884\n",
       "  45.59411209959972\n",
       "  48.8299404722906\n",
       "   ⋮\n",
       " 139.18233629879913\n",
       " 131.0748511807265\n",
       " 122.96736606265388\n",
       " 114.85988094458126\n",
       " 106.7523958265085\n",
       "  98.64491070843587\n",
       "  90.53742559036326\n",
       "  82.42994047229062\n",
       "  74.32245535421801\n",
       "  66.21497023614525\n",
       "  58.107485118072624\n",
       "  50.0"
      ]
     },
     "execution_count": 58,
     "metadata": {},
     "output_type": "execute_result"
    }
   ],
   "source": [
    "@btime set_boundarys(100)"
   ]
  },
  {
   "cell_type": "markdown",
   "id": "181c7a6f",
   "metadata": {},
   "source": [
    "# 5.Conclusion"
   ]
  },
  {
   "cell_type": "markdown",
   "id": "bb748633",
   "metadata": {},
   "source": [
    "In conclusion, the plots of the two methods are identical, and it can be seen that the source interferes with the solution of the heat equation, which is normal. However, using the finite difference method to solve the heat equation is better because of the reduced calculation time.\n",
    "Moreover, the relative error between these two methods is around $2.10^{-3}$ maximum, which is another good point for the finite differential method."
   ]
  },
  {
   "cell_type": "code",
   "execution_count": 59,
   "id": "9cb08ccf",
   "metadata": {},
   "outputs": [],
   "source": [
    "#Set the Parameter N "
   ]
  },
  {
   "cell_type": "code",
   "execution_count": 60,
   "id": "53868ceb",
   "metadata": {},
   "outputs": [
    {
     "data": {
      "text/plain": [
       "0.8"
      ]
     },
     "execution_count": 60,
     "metadata": {},
     "output_type": "execute_result"
    }
   ],
   "source": [
    "N = 100\n",
    "l= 80.\n",
    "dx = l/N"
   ]
  },
  {
   "cell_type": "code",
   "execution_count": 61,
   "id": "0e128db5",
   "metadata": {},
   "outputs": [],
   "source": [
    "# Plot the computed solution: the source solution "
   ]
  },
  {
   "cell_type": "code",
   "execution_count": 62,
   "id": "d82d0168",
   "metadata": {
    "scrolled": true
   },
   "outputs": [
    {
     "data": {
      "image/svg+xml": [
       "<?xml version=\"1.0\" encoding=\"utf-8\"?>\n",
       "<svg xmlns=\"http://www.w3.org/2000/svg\" xmlns:xlink=\"http://www.w3.org/1999/xlink\" width=\"600\" height=\"400\" viewBox=\"0 0 2400 1600\">\n",
       "<defs>\n",
       "  <clipPath id=\"clip310\">\n",
       "    <rect x=\"0\" y=\"0\" width=\"2400\" height=\"1600\"/>\n",
       "  </clipPath>\n",
       "</defs>\n",
       "<path clip-path=\"url(#clip310)\" d=\"\n",
       "M0 1600 L2400 1600 L2400 0 L0 0  Z\n",
       "  \" fill=\"#ffffff\" fill-rule=\"evenodd\" fill-opacity=\"1\"/>\n",
       "<defs>\n",
       "  <clipPath id=\"clip311\">\n",
       "    <rect x=\"480\" y=\"0\" width=\"1681\" height=\"1600\"/>\n",
       "  </clipPath>\n",
       "</defs>\n",
       "<path clip-path=\"url(#clip310)\" d=\"\n",
       "M234.82 356.513 L2352.76 356.513 L2352.76 47.2441 L234.82 47.2441  Z\n",
       "  \" fill=\"#ffffff\" fill-rule=\"evenodd\" fill-opacity=\"1\"/>\n",
       "<defs>\n",
       "  <clipPath id=\"clip312\">\n",
       "    <rect x=\"234\" y=\"47\" width=\"2119\" height=\"310\"/>\n",
       "  </clipPath>\n",
       "</defs>\n",
       "<polyline clip-path=\"url(#clip312)\" style=\"stroke:#000000; stroke-width:2; stroke-opacity:0.1; fill:none\" points=\"\n",
       "  294.761,356.513 294.761,47.2441 \n",
       "  \"/>\n",
       "<polyline clip-path=\"url(#clip312)\" style=\"stroke:#000000; stroke-width:2; stroke-opacity:0.1; fill:none\" points=\"\n",
       "  794.275,356.513 794.275,47.2441 \n",
       "  \"/>\n",
       "<polyline clip-path=\"url(#clip312)\" style=\"stroke:#000000; stroke-width:2; stroke-opacity:0.1; fill:none\" points=\"\n",
       "  1293.79,356.513 1293.79,47.2441 \n",
       "  \"/>\n",
       "<polyline clip-path=\"url(#clip312)\" style=\"stroke:#000000; stroke-width:2; stroke-opacity:0.1; fill:none\" points=\"\n",
       "  1793.3,356.513 1793.3,47.2441 \n",
       "  \"/>\n",
       "<polyline clip-path=\"url(#clip312)\" style=\"stroke:#000000; stroke-width:2; stroke-opacity:0.1; fill:none\" points=\"\n",
       "  2292.81,356.513 2292.81,47.2441 \n",
       "  \"/>\n",
       "<polyline clip-path=\"url(#clip310)\" style=\"stroke:#000000; stroke-width:4; stroke-opacity:1; fill:none\" points=\"\n",
       "  234.82,356.513 2352.76,356.513 \n",
       "  \"/>\n",
       "<polyline clip-path=\"url(#clip310)\" style=\"stroke:#000000; stroke-width:4; stroke-opacity:1; fill:none\" points=\"\n",
       "  294.761,356.513 294.761,352.802 \n",
       "  \"/>\n",
       "<polyline clip-path=\"url(#clip310)\" style=\"stroke:#000000; stroke-width:4; stroke-opacity:1; fill:none\" points=\"\n",
       "  794.275,356.513 794.275,352.802 \n",
       "  \"/>\n",
       "<polyline clip-path=\"url(#clip310)\" style=\"stroke:#000000; stroke-width:4; stroke-opacity:1; fill:none\" points=\"\n",
       "  1293.79,356.513 1293.79,352.802 \n",
       "  \"/>\n",
       "<polyline clip-path=\"url(#clip310)\" style=\"stroke:#000000; stroke-width:4; stroke-opacity:1; fill:none\" points=\"\n",
       "  1793.3,356.513 1793.3,352.802 \n",
       "  \"/>\n",
       "<polyline clip-path=\"url(#clip310)\" style=\"stroke:#000000; stroke-width:4; stroke-opacity:1; fill:none\" points=\"\n",
       "  2292.81,356.513 2292.81,352.802 \n",
       "  \"/>\n",
       "<path clip-path=\"url(#clip310)\" d=\"M 0 0 M294.761 385.704 Q291.15 385.704 289.322 389.269 Q287.516 392.81 287.516 399.94 Q287.516 407.046 289.322 410.611 Q291.15 414.153 294.761 414.153 Q298.396 414.153 300.201 410.611 Q302.03 407.046 302.03 399.94 Q302.03 392.81 300.201 389.269 Q298.396 385.704 294.761 385.704 M294.761 382 Q300.572 382 303.627 386.607 Q306.706 391.19 306.706 399.94 Q306.706 408.667 303.627 413.273 Q300.572 417.856 294.761 417.856 Q288.951 417.856 285.873 413.273 Q282.817 408.667 282.817 399.94 Q282.817 391.19 285.873 386.607 Q288.951 382 294.761 382 Z\" fill=\"#000000\" fill-rule=\"evenodd\" fill-opacity=\"1\" /><path clip-path=\"url(#clip310)\" d=\"M 0 0 M775.421 413.25 L791.74 413.25 L791.74 417.185 L769.796 417.185 L769.796 413.25 Q772.458 410.495 777.041 405.866 Q781.647 401.213 782.828 399.87 Q785.073 397.347 785.953 395.611 Q786.856 393.852 786.856 392.162 Q786.856 389.408 784.911 387.671 Q782.99 385.935 779.888 385.935 Q777.689 385.935 775.235 386.699 Q772.805 387.463 770.027 389.014 L770.027 384.292 Q772.851 383.158 775.305 382.579 Q777.759 382 779.796 382 Q785.166 382 788.36 384.685 Q791.555 387.371 791.555 391.861 Q791.555 393.991 790.745 395.912 Q789.958 397.81 787.851 400.403 Q787.272 401.074 784.171 404.292 Q781.069 407.486 775.421 413.25 Z\" fill=\"#000000\" fill-rule=\"evenodd\" fill-opacity=\"1\" /><path clip-path=\"url(#clip310)\" d=\"M 0 0 M806.809 385.704 Q803.198 385.704 801.37 389.269 Q799.564 392.81 799.564 399.94 Q799.564 407.046 801.37 410.611 Q803.198 414.153 806.809 414.153 Q810.444 414.153 812.249 410.611 Q814.078 407.046 814.078 399.94 Q814.078 392.81 812.249 389.269 Q810.444 385.704 806.809 385.704 M806.809 382 Q812.619 382 815.675 386.607 Q818.754 391.19 818.754 399.94 Q818.754 408.667 815.675 413.273 Q812.619 417.856 806.809 417.856 Q800.999 417.856 797.921 413.273 Q794.865 408.667 794.865 399.94 Q794.865 391.19 797.921 386.607 Q800.999 382 806.809 382 Z\" fill=\"#000000\" fill-rule=\"evenodd\" fill-opacity=\"1\" /><path clip-path=\"url(#clip310)\" d=\"M 0 0 M1283.29 386.699 L1271.48 405.148 L1283.29 405.148 L1283.29 386.699 M1282.06 382.625 L1287.94 382.625 L1287.94 405.148 L1292.87 405.148 L1292.87 409.037 L1287.94 409.037 L1287.94 417.185 L1283.29 417.185 L1283.29 409.037 L1267.69 409.037 L1267.69 404.523 L1282.06 382.625 Z\" fill=\"#000000\" fill-rule=\"evenodd\" fill-opacity=\"1\" /><path clip-path=\"url(#clip310)\" d=\"M 0 0 M1307.94 385.704 Q1304.33 385.704 1302.5 389.269 Q1300.7 392.81 1300.7 399.94 Q1300.7 407.046 1302.5 410.611 Q1304.33 414.153 1307.94 414.153 Q1311.58 414.153 1313.38 410.611 Q1315.21 407.046 1315.21 399.94 Q1315.21 392.81 1313.38 389.269 Q1311.58 385.704 1307.94 385.704 M1307.94 382 Q1313.75 382 1316.81 386.607 Q1319.89 391.19 1319.89 399.94 Q1319.89 408.667 1316.81 413.273 Q1313.75 417.856 1307.94 417.856 Q1302.13 417.856 1299.05 413.273 Q1296 408.667 1296 399.94 Q1296 391.19 1299.05 386.607 Q1302.13 382 1307.94 382 Z\" fill=\"#000000\" fill-rule=\"evenodd\" fill-opacity=\"1\" /><path clip-path=\"url(#clip310)\" d=\"M 0 0 M1780.2 398.042 Q1777.05 398.042 1775.2 400.195 Q1773.37 402.347 1773.37 406.097 Q1773.37 409.824 1775.2 412 Q1777.05 414.153 1780.2 414.153 Q1783.35 414.153 1785.18 412 Q1787.03 409.824 1787.03 406.097 Q1787.03 402.347 1785.18 400.195 Q1783.35 398.042 1780.2 398.042 M1789.48 383.389 L1789.48 387.648 Q1787.72 386.815 1785.92 386.375 Q1784.13 385.935 1782.38 385.935 Q1777.75 385.935 1775.29 389.06 Q1772.86 392.185 1772.51 398.505 Q1773.88 396.491 1775.94 395.426 Q1778 394.338 1780.48 394.338 Q1785.69 394.338 1788.69 397.509 Q1791.73 400.657 1791.73 406.097 Q1791.73 411.421 1788.58 414.639 Q1785.43 417.856 1780.2 417.856 Q1774.2 417.856 1771.03 413.273 Q1767.86 408.667 1767.86 399.94 Q1767.86 391.745 1771.75 386.884 Q1775.64 382 1782.19 382 Q1783.95 382 1785.73 382.347 Q1787.54 382.695 1789.48 383.389 Z\" fill=\"#000000\" fill-rule=\"evenodd\" fill-opacity=\"1\" /><path clip-path=\"url(#clip310)\" d=\"M 0 0 M1806.8 385.704 Q1803.19 385.704 1801.36 389.269 Q1799.55 392.81 1799.55 399.94 Q1799.55 407.046 1801.36 410.611 Q1803.19 414.153 1806.8 414.153 Q1810.43 414.153 1812.24 410.611 Q1814.06 407.046 1814.06 399.94 Q1814.06 392.81 1812.24 389.269 Q1810.43 385.704 1806.8 385.704 M1806.8 382 Q1812.61 382 1815.66 386.607 Q1818.74 391.19 1818.74 399.94 Q1818.74 408.667 1815.66 413.273 Q1812.61 417.856 1806.8 417.856 Q1800.99 417.856 1797.91 413.273 Q1794.85 408.667 1794.85 399.94 Q1794.85 391.19 1797.91 386.607 Q1800.99 382 1806.8 382 Z\" fill=\"#000000\" fill-rule=\"evenodd\" fill-opacity=\"1\" /><path clip-path=\"url(#clip310)\" d=\"M 0 0 M2279.31 400.773 Q2275.97 400.773 2274.05 402.556 Q2272.15 404.338 2272.15 407.463 Q2272.15 410.588 2274.05 412.37 Q2275.97 414.153 2279.31 414.153 Q2282.64 414.153 2284.56 412.37 Q2286.48 410.565 2286.48 407.463 Q2286.48 404.338 2284.56 402.556 Q2282.66 400.773 2279.31 400.773 M2274.63 398.782 Q2271.62 398.042 2269.93 395.982 Q2268.27 393.921 2268.27 390.958 Q2268.27 386.815 2271.21 384.408 Q2274.17 382 2279.31 382 Q2284.47 382 2287.41 384.408 Q2290.35 386.815 2290.35 390.958 Q2290.35 393.921 2288.66 395.982 Q2286.99 398.042 2284.01 398.782 Q2287.39 399.57 2289.26 401.861 Q2291.16 404.153 2291.16 407.463 Q2291.16 412.486 2288.08 415.171 Q2285.03 417.856 2279.31 417.856 Q2273.59 417.856 2270.51 415.171 Q2267.46 412.486 2267.46 407.463 Q2267.46 404.153 2269.35 401.861 Q2271.25 399.57 2274.63 398.782 M2272.92 391.398 Q2272.92 394.083 2274.59 395.588 Q2276.28 397.093 2279.31 397.093 Q2282.32 397.093 2284.01 395.588 Q2285.72 394.083 2285.72 391.398 Q2285.72 388.713 2284.01 387.208 Q2282.32 385.704 2279.31 385.704 Q2276.28 385.704 2274.59 387.208 Q2272.92 388.713 2272.92 391.398 Z\" fill=\"#000000\" fill-rule=\"evenodd\" fill-opacity=\"1\" /><path clip-path=\"url(#clip310)\" d=\"M 0 0 M2306.23 385.704 Q2302.62 385.704 2300.79 389.269 Q2298.98 392.81 2298.98 399.94 Q2298.98 407.046 2300.79 410.611 Q2302.62 414.153 2306.23 414.153 Q2309.86 414.153 2311.67 410.611 Q2313.5 407.046 2313.5 399.94 Q2313.5 392.81 2311.67 389.269 Q2309.86 385.704 2306.23 385.704 M2306.23 382 Q2312.04 382 2315.09 386.607 Q2318.17 391.19 2318.17 399.94 Q2318.17 408.667 2315.09 413.273 Q2312.04 417.856 2306.23 417.856 Q2300.42 417.856 2297.34 413.273 Q2294.28 408.667 2294.28 399.94 Q2294.28 391.19 2297.34 386.607 Q2300.42 382 2306.23 382 Z\" fill=\"#000000\" fill-rule=\"evenodd\" fill-opacity=\"1\" /><path clip-path=\"url(#clip310)\" d=\"M 0 0 M1310.4 453.729 L1297.51 471.076 L1311.07 489.377 L1304.16 489.377 L1293.79 475.373 L1283.41 489.377 L1276.51 489.377 L1290.35 470.726 L1277.68 453.729 L1284.59 453.729 L1294.04 466.429 L1303.5 453.729 L1310.4 453.729 Z\" fill=\"#000000\" fill-rule=\"evenodd\" fill-opacity=\"1\" /><polyline clip-path=\"url(#clip312)\" style=\"stroke:#000000; stroke-width:2; stroke-opacity:0.1; fill:none\" points=\"\n",
       "  234.82,347.76 2352.76,347.76 \n",
       "  \"/>\n",
       "<polyline clip-path=\"url(#clip312)\" style=\"stroke:#000000; stroke-width:2; stroke-opacity:0.1; fill:none\" points=\"\n",
       "  234.82,274.819 2352.76,274.819 \n",
       "  \"/>\n",
       "<polyline clip-path=\"url(#clip312)\" style=\"stroke:#000000; stroke-width:2; stroke-opacity:0.1; fill:none\" points=\"\n",
       "  234.82,201.879 2352.76,201.879 \n",
       "  \"/>\n",
       "<polyline clip-path=\"url(#clip312)\" style=\"stroke:#000000; stroke-width:2; stroke-opacity:0.1; fill:none\" points=\"\n",
       "  234.82,128.938 2352.76,128.938 \n",
       "  \"/>\n",
       "<polyline clip-path=\"url(#clip312)\" style=\"stroke:#000000; stroke-width:2; stroke-opacity:0.1; fill:none\" points=\"\n",
       "  234.82,55.997 2352.76,55.997 \n",
       "  \"/>\n",
       "<polyline clip-path=\"url(#clip310)\" style=\"stroke:#000000; stroke-width:4; stroke-opacity:1; fill:none\" points=\"\n",
       "  234.82,356.513 234.82,47.2441 \n",
       "  \"/>\n",
       "<polyline clip-path=\"url(#clip310)\" style=\"stroke:#000000; stroke-width:4; stroke-opacity:1; fill:none\" points=\"\n",
       "  234.82,347.76 260.235,347.76 \n",
       "  \"/>\n",
       "<polyline clip-path=\"url(#clip310)\" style=\"stroke:#000000; stroke-width:4; stroke-opacity:1; fill:none\" points=\"\n",
       "  234.82,274.819 260.235,274.819 \n",
       "  \"/>\n",
       "<polyline clip-path=\"url(#clip310)\" style=\"stroke:#000000; stroke-width:4; stroke-opacity:1; fill:none\" points=\"\n",
       "  234.82,201.879 260.235,201.879 \n",
       "  \"/>\n",
       "<polyline clip-path=\"url(#clip310)\" style=\"stroke:#000000; stroke-width:4; stroke-opacity:1; fill:none\" points=\"\n",
       "  234.82,128.938 260.235,128.938 \n",
       "  \"/>\n",
       "<polyline clip-path=\"url(#clip310)\" style=\"stroke:#000000; stroke-width:4; stroke-opacity:1; fill:none\" points=\"\n",
       "  234.82,55.997 260.235,55.997 \n",
       "  \"/>\n",
       "<path clip-path=\"url(#clip310)\" d=\"M 0 0 M149.908 333.559 Q146.297 333.559 144.468 337.124 Q142.663 340.665 142.663 347.795 Q142.663 354.901 144.468 358.466 Q146.297 362.008 149.908 362.008 Q153.542 362.008 155.348 358.466 Q157.177 354.901 157.177 347.795 Q157.177 340.665 155.348 337.124 Q153.542 333.559 149.908 333.559 M149.908 329.855 Q155.718 329.855 158.774 334.462 Q161.852 339.045 161.852 347.795 Q161.852 356.522 158.774 361.128 Q155.718 365.712 149.908 365.712 Q144.098 365.712 141.019 361.128 Q137.964 356.522 137.964 347.795 Q137.964 339.045 141.019 334.462 Q144.098 329.855 149.908 329.855 Z\" fill=\"#000000\" fill-rule=\"evenodd\" fill-opacity=\"1\" /><path clip-path=\"url(#clip310)\" d=\"M 0 0 M166.922 359.161 L171.806 359.161 L171.806 365.04 L166.922 365.04 L166.922 359.161 Z\" fill=\"#000000\" fill-rule=\"evenodd\" fill-opacity=\"1\" /><path clip-path=\"url(#clip310)\" d=\"M 0 0 M186.876 333.559 Q183.264 333.559 181.436 337.124 Q179.63 340.665 179.63 347.795 Q179.63 354.901 181.436 358.466 Q183.264 362.008 186.876 362.008 Q190.51 362.008 192.315 358.466 Q194.144 354.901 194.144 347.795 Q194.144 340.665 192.315 337.124 Q190.51 333.559 186.876 333.559 M186.876 329.855 Q192.686 329.855 195.741 334.462 Q198.82 339.045 198.82 347.795 Q198.82 356.522 195.741 361.128 Q192.686 365.712 186.876 365.712 Q181.065 365.712 177.987 361.128 Q174.931 356.522 174.931 347.795 Q174.931 339.045 177.987 334.462 Q181.065 329.855 186.876 329.855 Z\" fill=\"#000000\" fill-rule=\"evenodd\" fill-opacity=\"1\" /><path clip-path=\"url(#clip310)\" d=\"M 0 0 M146.529 288.164 L162.848 288.164 L162.848 292.099 L140.904 292.099 L140.904 288.164 Q143.566 285.41 148.149 280.78 Q152.755 276.127 153.936 274.785 Q156.181 272.262 157.061 270.525 Q157.964 268.766 157.964 267.076 Q157.964 264.322 156.019 262.586 Q154.098 260.85 150.996 260.85 Q148.797 260.85 146.343 261.614 Q143.913 262.377 141.135 263.928 L141.135 259.206 Q143.959 258.072 146.413 257.493 Q148.866 256.914 150.903 256.914 Q156.274 256.914 159.468 259.6 Q162.663 262.285 162.663 266.776 Q162.663 268.905 161.852 270.826 Q161.065 272.725 158.959 275.317 Q158.38 275.988 155.278 279.206 Q152.177 282.4 146.529 288.164 Z\" fill=\"#000000\" fill-rule=\"evenodd\" fill-opacity=\"1\" /><path clip-path=\"url(#clip310)\" d=\"M 0 0 M167.917 286.22 L172.802 286.22 L172.802 292.099 L167.917 292.099 L167.917 286.22 Z\" fill=\"#000000\" fill-rule=\"evenodd\" fill-opacity=\"1\" /><path clip-path=\"url(#clip310)\" d=\"M 0 0 M177.917 257.539 L196.274 257.539 L196.274 261.475 L182.2 261.475 L182.2 269.947 Q183.218 269.6 184.237 269.438 Q185.255 269.252 186.274 269.252 Q192.061 269.252 195.44 272.424 Q198.82 275.595 198.82 281.012 Q198.82 286.59 195.348 289.692 Q191.875 292.771 185.556 292.771 Q183.38 292.771 181.112 292.4 Q178.866 292.03 176.459 291.289 L176.459 286.59 Q178.542 287.724 180.764 288.28 Q182.987 288.836 185.463 288.836 Q189.468 288.836 191.806 286.729 Q194.144 284.623 194.144 281.012 Q194.144 277.4 191.806 275.294 Q189.468 273.188 185.463 273.188 Q183.588 273.188 181.713 273.604 Q179.862 274.021 177.917 274.9 L177.917 257.539 Z\" fill=\"#000000\" fill-rule=\"evenodd\" fill-opacity=\"1\" /><path clip-path=\"url(#clip310)\" d=\"M 0 0 M140.95 184.599 L159.306 184.599 L159.306 188.534 L145.232 188.534 L145.232 197.006 Q146.251 196.659 147.269 196.497 Q148.288 196.312 149.306 196.312 Q155.093 196.312 158.473 199.483 Q161.852 202.654 161.852 208.071 Q161.852 213.649 158.38 216.751 Q154.908 219.83 148.589 219.83 Q146.413 219.83 144.144 219.46 Q141.899 219.089 139.492 218.348 L139.492 213.649 Q141.575 214.784 143.797 215.339 Q146.019 215.895 148.496 215.895 Q152.501 215.895 154.839 213.788 Q157.177 211.682 157.177 208.071 Q157.177 204.46 154.839 202.353 Q152.501 200.247 148.496 200.247 Q146.621 200.247 144.746 200.663 Q142.894 201.08 140.95 201.96 L140.95 184.599 Z\" fill=\"#000000\" fill-rule=\"evenodd\" fill-opacity=\"1\" /><path clip-path=\"url(#clip310)\" d=\"M 0 0 M166.922 213.279 L171.806 213.279 L171.806 219.159 L166.922 219.159 L166.922 213.279 Z\" fill=\"#000000\" fill-rule=\"evenodd\" fill-opacity=\"1\" /><path clip-path=\"url(#clip310)\" d=\"M 0 0 M186.876 187.677 Q183.264 187.677 181.436 191.242 Q179.63 194.784 179.63 201.913 Q179.63 209.02 181.436 212.585 Q183.264 216.126 186.876 216.126 Q190.51 216.126 192.315 212.585 Q194.144 209.02 194.144 201.913 Q194.144 194.784 192.315 191.242 Q190.51 187.677 186.876 187.677 M186.876 183.974 Q192.686 183.974 195.741 188.58 Q198.82 193.163 198.82 201.913 Q198.82 210.64 195.741 215.247 Q192.686 219.83 186.876 219.83 Q181.065 219.83 177.987 215.247 Q174.931 210.64 174.931 201.913 Q174.931 193.163 177.987 188.58 Q181.065 183.974 186.876 183.974 Z\" fill=\"#000000\" fill-rule=\"evenodd\" fill-opacity=\"1\" /><path clip-path=\"url(#clip310)\" d=\"M 0 0 M140.626 111.658 L162.848 111.658 L162.848 113.649 L150.302 146.218 L145.417 146.218 L157.223 115.593 L140.626 115.593 L140.626 111.658 Z\" fill=\"#000000\" fill-rule=\"evenodd\" fill-opacity=\"1\" /><path clip-path=\"url(#clip310)\" d=\"M 0 0 M167.917 140.338 L172.802 140.338 L172.802 146.218 L167.917 146.218 L167.917 140.338 Z\" fill=\"#000000\" fill-rule=\"evenodd\" fill-opacity=\"1\" /><path clip-path=\"url(#clip310)\" d=\"M 0 0 M177.917 111.658 L196.274 111.658 L196.274 115.593 L182.2 115.593 L182.2 124.065 Q183.218 123.718 184.237 123.556 Q185.255 123.371 186.274 123.371 Q192.061 123.371 195.44 126.542 Q198.82 129.713 198.82 135.13 Q198.82 140.709 195.348 143.81 Q191.875 146.889 185.556 146.889 Q183.38 146.889 181.112 146.519 Q178.866 146.148 176.459 145.408 L176.459 140.709 Q178.542 141.843 180.764 142.398 Q182.987 142.954 185.463 142.954 Q189.468 142.954 191.806 140.847 Q194.144 138.741 194.144 135.13 Q194.144 131.519 191.806 129.412 Q189.468 127.306 185.463 127.306 Q183.588 127.306 181.713 127.723 Q179.862 128.139 177.917 129.019 L177.917 111.658 Z\" fill=\"#000000\" fill-rule=\"evenodd\" fill-opacity=\"1\" /><path clip-path=\"url(#clip310)\" d=\"M 0 0 M114.931 69.3418 L122.57 69.3418 L122.57 42.9762 L114.26 44.6429 L114.26 40.3837 L122.524 38.717 L127.2 38.717 L127.2 69.3418 L134.839 69.3418 L134.839 73.277 L114.931 73.277 L114.931 69.3418 Z\" fill=\"#000000\" fill-rule=\"evenodd\" fill-opacity=\"1\" /><path clip-path=\"url(#clip310)\" d=\"M 0 0 M149.908 41.7957 Q146.297 41.7957 144.468 45.3605 Q142.663 48.9021 142.663 56.0317 Q142.663 63.1382 144.468 66.703 Q146.297 70.2446 149.908 70.2446 Q153.542 70.2446 155.348 66.703 Q157.177 63.1382 157.177 56.0317 Q157.177 48.9021 155.348 45.3605 Q153.542 41.7957 149.908 41.7957 M149.908 38.092 Q155.718 38.092 158.774 42.6985 Q161.852 47.2818 161.852 56.0317 Q161.852 64.7585 158.774 69.365 Q155.718 73.9483 149.908 73.9483 Q144.098 73.9483 141.019 69.365 Q137.964 64.7585 137.964 56.0317 Q137.964 47.2818 141.019 42.6985 Q144.098 38.092 149.908 38.092 Z\" fill=\"#000000\" fill-rule=\"evenodd\" fill-opacity=\"1\" /><path clip-path=\"url(#clip310)\" d=\"M 0 0 M166.922 67.3974 L171.806 67.3974 L171.806 73.277 L166.922 73.277 L166.922 67.3974 Z\" fill=\"#000000\" fill-rule=\"evenodd\" fill-opacity=\"1\" /><path clip-path=\"url(#clip310)\" d=\"M 0 0 M186.876 41.7957 Q183.264 41.7957 181.436 45.3605 Q179.63 48.9021 179.63 56.0317 Q179.63 63.1382 181.436 66.703 Q183.264 70.2446 186.876 70.2446 Q190.51 70.2446 192.315 66.703 Q194.144 63.1382 194.144 56.0317 Q194.144 48.9021 192.315 45.3605 Q190.51 41.7957 186.876 41.7957 M186.876 38.092 Q192.686 38.092 195.741 42.6985 Q198.82 47.2818 198.82 56.0317 Q198.82 64.7585 195.741 69.365 Q192.686 73.9483 186.876 73.9483 Q181.065 73.9483 177.987 69.365 Q174.931 64.7585 174.931 56.0317 Q174.931 47.2818 177.987 42.6985 Q181.065 38.092 186.876 38.092 Z\" fill=\"#000000\" fill-rule=\"evenodd\" fill-opacity=\"1\" /><path clip-path=\"url(#clip310)\" d=\"M 0 0 M42.0438 270.771 L48.314 270.771 Q46.5634 274.432 45.704 277.678 Q44.8447 280.925 44.8447 283.949 Q44.8447 289.2 46.8817 292.065 Q48.9187 294.898 52.6745 294.898 Q55.8255 294.898 57.4488 293.02 Q59.0402 291.11 60.0269 285.826 L60.8226 281.943 Q62.1912 274.75 65.6605 271.344 Q69.098 267.907 74.8908 267.907 Q81.7976 267.907 85.3624 272.554 Q88.9272 277.169 88.9272 286.113 Q88.9272 289.487 88.1633 293.306 Q87.3994 297.094 85.9035 301.168 L79.2831 301.168 Q81.4793 297.253 82.5933 293.497 Q83.7073 289.741 83.7073 286.113 Q83.7073 280.607 81.543 277.615 Q79.3786 274.623 75.3682 274.623 Q71.8671 274.623 69.8937 276.787 Q67.9204 278.92 66.9337 283.821 L66.1698 287.736 Q64.7375 294.929 61.682 298.144 Q58.6264 301.359 53.1837 301.359 Q46.8817 301.359 43.2532 296.935 Q39.6248 292.479 39.6248 284.681 Q39.6248 281.339 40.2295 277.869 Q40.8343 274.4 42.0438 270.771 Z\" fill=\"#000000\" fill-rule=\"evenodd\" fill-opacity=\"1\" /><path clip-path=\"url(#clip310)\" d=\"M 0 0 M56.4621 247.95 Q56.4621 252.661 60.1542 255.398 Q63.8145 258.136 70.212 258.136 Q76.6095 258.136 80.3017 255.43 Q83.9619 252.693 83.9619 247.95 Q83.9619 243.272 80.2698 240.534 Q76.5777 237.797 70.212 237.797 Q63.8781 237.797 60.186 240.534 Q56.4621 243.272 56.4621 247.95 M51.4968 247.95 Q51.4968 240.312 56.4621 235.951 Q61.4273 231.591 70.212 231.591 Q78.9649 231.591 83.9619 235.951 Q88.9272 240.312 88.9272 247.95 Q88.9272 255.621 83.9619 259.982 Q78.9649 264.31 70.212 264.31 Q61.4273 264.31 56.4621 259.982 Q51.4968 255.621 51.4968 247.95 Z\" fill=\"#000000\" fill-rule=\"evenodd\" fill-opacity=\"1\" /><path clip-path=\"url(#clip310)\" d=\"M 0 0 M73.9359 226.052 L52.3562 226.052 L52.3562 220.196 L73.7131 220.196 Q78.7739 220.196 81.3202 218.223 Q83.8346 216.249 83.8346 212.302 Q83.8346 207.56 80.8109 204.823 Q77.7872 202.054 72.5673 202.054 L52.3562 202.054 L52.3562 196.197 L88.0042 196.197 L88.0042 202.054 L82.5296 202.054 Q85.7762 204.186 87.3676 207.019 Q88.9272 209.82 88.9272 213.544 Q88.9272 219.687 85.1078 222.87 Q81.2883 226.052 73.9359 226.052 M51.4968 211.316 L51.4968 211.316 Z\" fill=\"#000000\" fill-rule=\"evenodd\" fill-opacity=\"1\" /><path clip-path=\"url(#clip310)\" d=\"M 0 0 M57.8307 169.398 Q57.2578 170.384 57.0032 171.562 Q56.7167 172.708 56.7167 174.108 Q56.7167 179.073 59.9632 181.747 Q63.1779 184.389 69.2253 184.389 L88.0042 184.389 L88.0042 190.277 L52.3562 190.277 L52.3562 184.389 L57.8944 184.389 Q54.6479 182.543 53.0883 179.583 Q51.4968 176.623 51.4968 172.389 Q51.4968 171.785 51.5923 171.053 Q51.656 170.321 51.8151 169.429 L57.8307 169.398 Z\" fill=\"#000000\" fill-rule=\"evenodd\" fill-opacity=\"1\" /><path clip-path=\"url(#clip310)\" d=\"M 0 0 M53.7248 139.033 L59.1993 139.033 Q57.8307 141.516 57.1623 144.03 Q56.4621 146.513 56.4621 149.059 Q56.4621 154.756 60.0905 157.908 Q63.6872 161.059 70.212 161.059 Q76.7369 161.059 80.3653 157.908 Q83.9619 154.756 83.9619 149.059 Q83.9619 146.513 83.2935 144.03 Q82.5933 141.516 81.2247 139.033 L86.6355 139.033 Q87.7814 141.484 88.3543 144.126 Q88.9272 146.736 88.9272 149.696 Q88.9272 157.748 83.8664 162.491 Q78.8057 167.233 70.212 167.233 Q61.491 167.233 56.4939 162.459 Q51.4968 157.653 51.4968 149.314 Q51.4968 146.608 52.0697 144.03 Q52.6108 141.452 53.7248 139.033 Z\" fill=\"#000000\" fill-rule=\"evenodd\" fill-opacity=\"1\" /><path clip-path=\"url(#clip310)\" d=\"M 0 0 M68.7161 102.399 L71.5806 102.399 L71.5806 129.325 Q77.6281 128.944 80.8109 125.697 Q83.9619 122.419 83.9619 116.594 Q83.9619 113.22 83.1344 110.069 Q82.3069 106.886 80.6518 103.767 L86.1899 103.767 Q87.5267 106.918 88.227 110.228 Q88.9272 113.539 88.9272 116.944 Q88.9272 125.474 83.9619 130.471 Q78.9967 135.437 70.5303 135.437 Q61.7774 135.437 56.6531 130.726 Q51.4968 125.983 51.4968 117.963 Q51.4968 110.769 56.1438 106.6 Q60.7589 102.399 68.7161 102.399 M66.9973 108.255 Q62.1912 108.319 59.3266 110.96 Q56.4621 113.57 56.4621 117.899 Q56.4621 122.801 59.2312 125.761 Q62.0002 128.689 67.0292 129.135 L66.9973 108.255 Z\" fill=\"#000000\" fill-rule=\"evenodd\" fill-opacity=\"1\" /><polyline clip-path=\"url(#clip312)\" style=\"stroke:#009af9; stroke-width:4; stroke-opacity:1; fill:none\" points=\"\n",
       "  294.761,347.76 314.742,347.76 334.723,347.76 354.703,347.76 374.684,347.76 394.664,347.76 414.645,347.76 434.625,347.76 454.606,347.76 474.586,347.76 \n",
       "  494.567,347.76 514.547,347.76 534.528,347.76 554.508,347.76 574.489,347.76 594.469,347.76 614.45,347.76 634.43,347.76 654.411,347.76 674.392,347.76 \n",
       "  694.372,347.76 714.353,347.76 734.333,347.76 754.314,347.76 774.294,347.76 794.275,347.76 814.255,347.76 834.236,347.76 854.216,347.76 874.197,347.76 \n",
       "  894.177,347.76 914.158,347.76 934.138,347.76 954.119,347.76 974.099,347.76 994.08,347.76 1014.06,347.76 1034.04,347.76 1054.02,347.76 1074,347.76 \n",
       "  1093.98,347.76 1113.96,347.76 1133.94,347.76 1153.92,347.76 1173.9,347.76 1193.89,347.76 1213.87,347.76 1233.85,347.76 1253.83,347.76 1273.81,347.76 \n",
       "  1293.79,347.76 1313.77,347.76 1333.75,347.76 1353.73,347.76 1373.71,347.76 1393.69,347.76 1413.67,347.76 1433.65,347.76 1453.63,347.76 1473.61,347.76 \n",
       "  1493.59,347.76 1513.57,347.76 1533.55,347.76 1553.53,347.76 1573.52,347.76 1593.5,347.76 1613.48,347.76 1633.46,347.76 1653.44,347.76 1673.42,347.76 \n",
       "  1693.4,347.76 1713.38,347.76 1733.36,347.724 1753.34,342.416 1773.32,240.427 1793.3,55.997 1813.28,240.427 1833.26,342.416 1853.24,347.724 1873.22,347.76 \n",
       "  1893.2,347.76 1913.18,347.76 1933.16,347.76 1953.15,347.76 1973.13,347.76 1993.11,347.76 2013.09,347.76 2033.07,347.76 2053.05,347.76 2073.03,347.76 \n",
       "  2093.01,347.76 2112.99,347.76 2132.97,347.76 2152.95,347.76 2172.93,347.76 2192.91,347.76 2212.89,347.76 2232.87,347.76 2252.85,347.76 2272.83,347.76 \n",
       "  2292.81,347.76 \n",
       "  \"/>\n",
       "<path clip-path=\"url(#clip310)\" d=\"\n",
       "M1902.13 178.513 L2282.16 178.513 L2282.16 57.5531 L1902.13 57.5531  Z\n",
       "  \" fill=\"#ffffff\" fill-rule=\"evenodd\" fill-opacity=\"1\"/>\n",
       "<polyline clip-path=\"url(#clip310)\" style=\"stroke:#000000; stroke-width:4; stroke-opacity:1; fill:none\" points=\"\n",
       "  1902.13,178.513 2282.16,178.513 2282.16,57.5531 1902.13,57.5531 1902.13,178.513 \n",
       "  \"/>\n",
       "<polyline clip-path=\"url(#clip310)\" style=\"stroke:#009af9; stroke-width:4; stroke-opacity:1; fill:none\" points=\"\n",
       "  1925.67,118.033 2066.86,118.033 \n",
       "  \"/>\n",
       "<path clip-path=\"url(#clip310)\" d=\"M 0 0 M2112.64 101.887 L2112.64 106.447 Q2109.98 105.174 2107.62 104.549 Q2105.26 103.924 2103.06 103.924 Q2099.24 103.924 2097.15 105.406 Q2095.09 106.887 2095.09 109.619 Q2095.09 111.91 2096.46 113.091 Q2097.85 114.248 2101.69 114.966 L2104.51 115.545 Q2109.75 116.54 2112.22 119.063 Q2114.72 121.563 2114.72 125.776 Q2114.72 130.799 2111.34 133.392 Q2107.99 135.984 2101.48 135.984 Q2099.03 135.984 2096.25 135.429 Q2093.5 134.873 2090.53 133.785 L2090.53 128.971 Q2093.38 130.568 2096.11 131.378 Q2098.84 132.188 2101.48 132.188 Q2105.49 132.188 2107.66 130.614 Q2109.84 129.04 2109.84 126.123 Q2109.84 123.577 2108.26 122.142 Q2106.71 120.707 2103.15 119.989 L2100.3 119.434 Q2095.07 118.392 2092.73 116.17 Q2090.39 113.947 2090.39 109.989 Q2090.39 105.406 2093.61 102.767 Q2096.85 100.128 2102.52 100.128 Q2104.95 100.128 2107.48 100.568 Q2110 101.008 2112.64 101.887 Z\" fill=\"#000000\" fill-rule=\"evenodd\" fill-opacity=\"1\" /><path clip-path=\"url(#clip310)\" d=\"M 0 0 M2129.24 112.373 Q2125.81 112.373 2123.82 115.059 Q2121.83 117.721 2121.83 122.373 Q2121.83 127.026 2123.8 129.711 Q2125.79 132.373 2129.24 132.373 Q2132.64 132.373 2134.63 129.688 Q2136.62 127.003 2136.62 122.373 Q2136.62 117.767 2134.63 115.082 Q2132.64 112.373 2129.24 112.373 M2129.24 108.762 Q2134.79 108.762 2137.96 112.373 Q2141.13 115.984 2141.13 122.373 Q2141.13 128.739 2137.96 132.373 Q2134.79 135.984 2129.24 135.984 Q2123.66 135.984 2120.49 132.373 Q2117.34 128.739 2117.34 122.373 Q2117.34 115.984 2120.49 112.373 Q2123.66 108.762 2129.24 108.762 Z\" fill=\"#000000\" fill-rule=\"evenodd\" fill-opacity=\"1\" /><path clip-path=\"url(#clip310)\" d=\"M 0 0 M2145.16 125.082 L2145.16 109.387 L2149.42 109.387 L2149.42 124.92 Q2149.42 128.6 2150.86 130.452 Q2152.29 132.281 2155.16 132.281 Q2158.61 132.281 2160.6 130.082 Q2162.62 127.883 2162.62 124.086 L2162.62 109.387 L2166.88 109.387 L2166.88 135.313 L2162.62 135.313 L2162.62 131.332 Q2161.07 133.693 2159.01 134.85 Q2156.97 135.984 2154.26 135.984 Q2149.79 135.984 2147.48 133.207 Q2145.16 130.429 2145.16 125.082 M2155.88 108.762 L2155.88 108.762 Z\" fill=\"#000000\" fill-rule=\"evenodd\" fill-opacity=\"1\" /><path clip-path=\"url(#clip310)\" d=\"M 0 0 M2186.37 113.369 Q2185.65 112.952 2184.79 112.767 Q2183.96 112.559 2182.94 112.559 Q2179.33 112.559 2177.38 114.92 Q2175.46 117.258 2175.46 121.656 L2175.46 135.313 L2171.18 135.313 L2171.18 109.387 L2175.46 109.387 L2175.46 113.415 Q2176.81 111.054 2178.96 109.92 Q2181.11 108.762 2184.19 108.762 Q2184.63 108.762 2185.16 108.832 Q2185.69 108.878 2186.34 108.994 L2186.37 113.369 Z\" fill=\"#000000\" fill-rule=\"evenodd\" fill-opacity=\"1\" /><path clip-path=\"url(#clip310)\" d=\"M 0 0 M2208.45 110.383 L2208.45 114.364 Q2206.64 113.369 2204.82 112.883 Q2203.01 112.373 2201.16 112.373 Q2197.01 112.373 2194.72 115.012 Q2192.43 117.628 2192.43 122.373 Q2192.43 127.119 2194.72 129.758 Q2197.01 132.373 2201.16 132.373 Q2203.01 132.373 2204.82 131.887 Q2206.64 131.378 2208.45 130.383 L2208.45 134.318 Q2206.67 135.151 2204.75 135.568 Q2202.85 135.984 2200.69 135.984 Q2194.84 135.984 2191.39 132.304 Q2187.94 128.623 2187.94 122.373 Q2187.94 116.031 2191.41 112.397 Q2194.91 108.762 2200.97 108.762 Q2202.94 108.762 2204.82 109.179 Q2206.69 109.572 2208.45 110.383 Z\" fill=\"#000000\" fill-rule=\"evenodd\" fill-opacity=\"1\" /><path clip-path=\"url(#clip310)\" d=\"M 0 0 M2235.09 121.285 L2235.09 123.369 L2215.51 123.369 Q2215.79 127.767 2218.15 130.082 Q2220.53 132.373 2224.77 132.373 Q2227.22 132.373 2229.51 131.771 Q2231.83 131.17 2234.1 129.966 L2234.1 133.994 Q2231.81 134.966 2229.4 135.475 Q2226.99 135.984 2224.51 135.984 Q2218.31 135.984 2214.68 132.373 Q2211.07 128.762 2211.07 122.605 Q2211.07 116.239 2214.49 112.512 Q2217.94 108.762 2223.77 108.762 Q2229 108.762 2232.04 112.142 Q2235.09 115.498 2235.09 121.285 M2230.83 120.035 Q2230.79 116.54 2228.87 114.457 Q2226.97 112.373 2223.82 112.373 Q2220.25 112.373 2218.1 114.387 Q2215.97 116.401 2215.65 120.059 L2230.83 120.035 Z\" fill=\"#000000\" fill-rule=\"evenodd\" fill-opacity=\"1\" /><path clip-path=\"url(#clip310)\" d=\"\n",
       "M234.82 889.847 L2352.76 889.847 L2352.76 580.577 L234.82 580.577  Z\n",
       "  \" fill=\"#ffffff\" fill-rule=\"evenodd\" fill-opacity=\"1\"/>\n",
       "<defs>\n",
       "  <clipPath id=\"clip313\">\n",
       "    <rect x=\"234\" y=\"580\" width=\"2119\" height=\"310\"/>\n",
       "  </clipPath>\n",
       "</defs>\n",
       "<polyline clip-path=\"url(#clip313)\" style=\"stroke:#000000; stroke-width:2; stroke-opacity:0.1; fill:none\" points=\"\n",
       "  294.761,889.847 294.761,580.577 \n",
       "  \"/>\n",
       "<polyline clip-path=\"url(#clip313)\" style=\"stroke:#000000; stroke-width:2; stroke-opacity:0.1; fill:none\" points=\"\n",
       "  794.275,889.847 794.275,580.577 \n",
       "  \"/>\n",
       "<polyline clip-path=\"url(#clip313)\" style=\"stroke:#000000; stroke-width:2; stroke-opacity:0.1; fill:none\" points=\"\n",
       "  1293.79,889.847 1293.79,580.577 \n",
       "  \"/>\n",
       "<polyline clip-path=\"url(#clip313)\" style=\"stroke:#000000; stroke-width:2; stroke-opacity:0.1; fill:none\" points=\"\n",
       "  1793.3,889.847 1793.3,580.577 \n",
       "  \"/>\n",
       "<polyline clip-path=\"url(#clip313)\" style=\"stroke:#000000; stroke-width:2; stroke-opacity:0.1; fill:none\" points=\"\n",
       "  2292.81,889.847 2292.81,580.577 \n",
       "  \"/>\n",
       "<polyline clip-path=\"url(#clip310)\" style=\"stroke:#000000; stroke-width:4; stroke-opacity:1; fill:none\" points=\"\n",
       "  234.82,889.847 2352.76,889.847 \n",
       "  \"/>\n",
       "<polyline clip-path=\"url(#clip310)\" style=\"stroke:#000000; stroke-width:4; stroke-opacity:1; fill:none\" points=\"\n",
       "  294.761,889.847 294.761,886.135 \n",
       "  \"/>\n",
       "<polyline clip-path=\"url(#clip310)\" style=\"stroke:#000000; stroke-width:4; stroke-opacity:1; fill:none\" points=\"\n",
       "  794.275,889.847 794.275,886.135 \n",
       "  \"/>\n",
       "<polyline clip-path=\"url(#clip310)\" style=\"stroke:#000000; stroke-width:4; stroke-opacity:1; fill:none\" points=\"\n",
       "  1293.79,889.847 1293.79,886.135 \n",
       "  \"/>\n",
       "<polyline clip-path=\"url(#clip310)\" style=\"stroke:#000000; stroke-width:4; stroke-opacity:1; fill:none\" points=\"\n",
       "  1793.3,889.847 1793.3,886.135 \n",
       "  \"/>\n",
       "<polyline clip-path=\"url(#clip310)\" style=\"stroke:#000000; stroke-width:4; stroke-opacity:1; fill:none\" points=\"\n",
       "  2292.81,889.847 2292.81,886.135 \n",
       "  \"/>\n",
       "<path clip-path=\"url(#clip310)\" d=\"M 0 0 M294.761 919.037 Q291.15 919.037 289.322 922.602 Q287.516 926.144 287.516 933.273 Q287.516 940.38 289.322 943.944 Q291.15 947.486 294.761 947.486 Q298.396 947.486 300.201 943.944 Q302.03 940.38 302.03 933.273 Q302.03 926.144 300.201 922.602 Q298.396 919.037 294.761 919.037 M294.761 915.334 Q300.572 915.334 303.627 919.94 Q306.706 924.523 306.706 933.273 Q306.706 942 303.627 946.606 Q300.572 951.19 294.761 951.19 Q288.951 951.19 285.873 946.606 Q282.817 942 282.817 933.273 Q282.817 924.523 285.873 919.94 Q288.951 915.334 294.761 915.334 Z\" fill=\"#000000\" fill-rule=\"evenodd\" fill-opacity=\"1\" /><path clip-path=\"url(#clip310)\" d=\"M 0 0 M775.421 946.583 L791.74 946.583 L791.74 950.519 L769.796 950.519 L769.796 946.583 Q772.458 943.829 777.041 939.199 Q781.647 934.546 782.828 933.204 Q785.073 930.681 785.953 928.945 Q786.856 927.185 786.856 925.495 Q786.856 922.741 784.911 921.005 Q782.99 919.269 779.888 919.269 Q777.689 919.269 775.235 920.033 Q772.805 920.796 770.027 922.347 L770.027 917.625 Q772.851 916.491 775.305 915.912 Q777.759 915.334 779.796 915.334 Q785.166 915.334 788.36 918.019 Q791.555 920.704 791.555 925.195 Q791.555 927.324 790.745 929.245 Q789.958 931.144 787.851 933.736 Q787.272 934.407 784.171 937.625 Q781.069 940.819 775.421 946.583 Z\" fill=\"#000000\" fill-rule=\"evenodd\" fill-opacity=\"1\" /><path clip-path=\"url(#clip310)\" d=\"M 0 0 M806.809 919.037 Q803.198 919.037 801.37 922.602 Q799.564 926.144 799.564 933.273 Q799.564 940.38 801.37 943.944 Q803.198 947.486 806.809 947.486 Q810.444 947.486 812.249 943.944 Q814.078 940.38 814.078 933.273 Q814.078 926.144 812.249 922.602 Q810.444 919.037 806.809 919.037 M806.809 915.334 Q812.619 915.334 815.675 919.94 Q818.754 924.523 818.754 933.273 Q818.754 942 815.675 946.606 Q812.619 951.19 806.809 951.19 Q800.999 951.19 797.921 946.606 Q794.865 942 794.865 933.273 Q794.865 924.523 797.921 919.94 Q800.999 915.334 806.809 915.334 Z\" fill=\"#000000\" fill-rule=\"evenodd\" fill-opacity=\"1\" /><path clip-path=\"url(#clip310)\" d=\"M 0 0 M1283.29 920.033 L1271.48 938.482 L1283.29 938.482 L1283.29 920.033 M1282.06 915.959 L1287.94 915.959 L1287.94 938.482 L1292.87 938.482 L1292.87 942.37 L1287.94 942.37 L1287.94 950.519 L1283.29 950.519 L1283.29 942.37 L1267.69 942.37 L1267.69 937.857 L1282.06 915.959 Z\" fill=\"#000000\" fill-rule=\"evenodd\" fill-opacity=\"1\" /><path clip-path=\"url(#clip310)\" d=\"M 0 0 M1307.94 919.037 Q1304.33 919.037 1302.5 922.602 Q1300.7 926.144 1300.7 933.273 Q1300.7 940.38 1302.5 943.944 Q1304.33 947.486 1307.94 947.486 Q1311.58 947.486 1313.38 943.944 Q1315.21 940.38 1315.21 933.273 Q1315.21 926.144 1313.38 922.602 Q1311.58 919.037 1307.94 919.037 M1307.94 915.334 Q1313.75 915.334 1316.81 919.94 Q1319.89 924.523 1319.89 933.273 Q1319.89 942 1316.81 946.606 Q1313.75 951.19 1307.94 951.19 Q1302.13 951.19 1299.05 946.606 Q1296 942 1296 933.273 Q1296 924.523 1299.05 919.94 Q1302.13 915.334 1307.94 915.334 Z\" fill=\"#000000\" fill-rule=\"evenodd\" fill-opacity=\"1\" /><path clip-path=\"url(#clip310)\" d=\"M 0 0 M1780.2 931.375 Q1777.05 931.375 1775.2 933.528 Q1773.37 935.681 1773.37 939.431 Q1773.37 943.157 1775.2 945.333 Q1777.05 947.486 1780.2 947.486 Q1783.35 947.486 1785.18 945.333 Q1787.03 943.157 1787.03 939.431 Q1787.03 935.681 1785.18 933.528 Q1783.35 931.375 1780.2 931.375 M1789.48 916.722 L1789.48 920.982 Q1787.72 920.148 1785.92 919.708 Q1784.13 919.269 1782.38 919.269 Q1777.75 919.269 1775.29 922.394 Q1772.86 925.519 1772.51 931.838 Q1773.88 929.824 1775.94 928.759 Q1778 927.671 1780.48 927.671 Q1785.69 927.671 1788.69 930.843 Q1791.73 933.991 1791.73 939.431 Q1791.73 944.755 1788.58 947.972 Q1785.43 951.19 1780.2 951.19 Q1774.2 951.19 1771.03 946.606 Q1767.86 942 1767.86 933.273 Q1767.86 925.079 1771.75 920.218 Q1775.64 915.334 1782.19 915.334 Q1783.95 915.334 1785.73 915.681 Q1787.54 916.028 1789.48 916.722 Z\" fill=\"#000000\" fill-rule=\"evenodd\" fill-opacity=\"1\" /><path clip-path=\"url(#clip310)\" d=\"M 0 0 M1806.8 919.037 Q1803.19 919.037 1801.36 922.602 Q1799.55 926.144 1799.55 933.273 Q1799.55 940.38 1801.36 943.944 Q1803.19 947.486 1806.8 947.486 Q1810.43 947.486 1812.24 943.944 Q1814.06 940.38 1814.06 933.273 Q1814.06 926.144 1812.24 922.602 Q1810.43 919.037 1806.8 919.037 M1806.8 915.334 Q1812.61 915.334 1815.66 919.94 Q1818.74 924.523 1818.74 933.273 Q1818.74 942 1815.66 946.606 Q1812.61 951.19 1806.8 951.19 Q1800.99 951.19 1797.91 946.606 Q1794.85 942 1794.85 933.273 Q1794.85 924.523 1797.91 919.94 Q1800.99 915.334 1806.8 915.334 Z\" fill=\"#000000\" fill-rule=\"evenodd\" fill-opacity=\"1\" /><path clip-path=\"url(#clip310)\" d=\"M 0 0 M2279.31 934.107 Q2275.97 934.107 2274.05 935.889 Q2272.15 937.671 2272.15 940.796 Q2272.15 943.921 2274.05 945.704 Q2275.97 947.486 2279.31 947.486 Q2282.64 947.486 2284.56 945.704 Q2286.48 943.898 2286.48 940.796 Q2286.48 937.671 2284.56 935.889 Q2282.66 934.107 2279.31 934.107 M2274.63 932.116 Q2271.62 931.375 2269.93 929.315 Q2268.27 927.255 2268.27 924.292 Q2268.27 920.148 2271.21 917.741 Q2274.17 915.334 2279.31 915.334 Q2284.47 915.334 2287.41 917.741 Q2290.35 920.148 2290.35 924.292 Q2290.35 927.255 2288.66 929.315 Q2286.99 931.375 2284.01 932.116 Q2287.39 932.903 2289.26 935.195 Q2291.16 937.486 2291.16 940.796 Q2291.16 945.819 2288.08 948.505 Q2285.03 951.19 2279.31 951.19 Q2273.59 951.19 2270.51 948.505 Q2267.46 945.819 2267.46 940.796 Q2267.46 937.486 2269.35 935.195 Q2271.25 932.903 2274.63 932.116 M2272.92 924.732 Q2272.92 927.417 2274.59 928.921 Q2276.28 930.426 2279.31 930.426 Q2282.32 930.426 2284.01 928.921 Q2285.72 927.417 2285.72 924.732 Q2285.72 922.046 2284.01 920.542 Q2282.32 919.037 2279.31 919.037 Q2276.28 919.037 2274.59 920.542 Q2272.92 922.046 2272.92 924.732 Z\" fill=\"#000000\" fill-rule=\"evenodd\" fill-opacity=\"1\" /><path clip-path=\"url(#clip310)\" d=\"M 0 0 M2306.23 919.037 Q2302.62 919.037 2300.79 922.602 Q2298.98 926.144 2298.98 933.273 Q2298.98 940.38 2300.79 943.944 Q2302.62 947.486 2306.23 947.486 Q2309.86 947.486 2311.67 943.944 Q2313.5 940.38 2313.5 933.273 Q2313.5 926.144 2311.67 922.602 Q2309.86 919.037 2306.23 919.037 M2306.23 915.334 Q2312.04 915.334 2315.09 919.94 Q2318.17 924.523 2318.17 933.273 Q2318.17 942 2315.09 946.606 Q2312.04 951.19 2306.23 951.19 Q2300.42 951.19 2297.34 946.606 Q2294.28 942 2294.28 933.273 Q2294.28 924.523 2297.34 919.94 Q2300.42 915.334 2306.23 915.334 Z\" fill=\"#000000\" fill-rule=\"evenodd\" fill-opacity=\"1\" /><path clip-path=\"url(#clip310)\" d=\"M 0 0 M1310.4 987.063 L1297.51 1004.41 L1311.07 1022.71 L1304.16 1022.71 L1293.79 1008.71 L1283.41 1022.71 L1276.51 1022.71 L1290.35 1004.06 L1277.68 987.063 L1284.59 987.063 L1294.04 999.762 L1303.5 987.063 L1310.4 987.063 Z\" fill=\"#000000\" fill-rule=\"evenodd\" fill-opacity=\"1\" /><polyline clip-path=\"url(#clip313)\" style=\"stroke:#000000; stroke-width:2; stroke-opacity:0.1; fill:none\" points=\"\n",
       "  234.82,832.358 2352.76,832.358 \n",
       "  \"/>\n",
       "<polyline clip-path=\"url(#clip313)\" style=\"stroke:#000000; stroke-width:2; stroke-opacity:0.1; fill:none\" points=\"\n",
       "  234.82,771.439 2352.76,771.439 \n",
       "  \"/>\n",
       "<polyline clip-path=\"url(#clip313)\" style=\"stroke:#000000; stroke-width:2; stroke-opacity:0.1; fill:none\" points=\"\n",
       "  234.82,710.519 2352.76,710.519 \n",
       "  \"/>\n",
       "<polyline clip-path=\"url(#clip313)\" style=\"stroke:#000000; stroke-width:2; stroke-opacity:0.1; fill:none\" points=\"\n",
       "  234.82,649.6 2352.76,649.6 \n",
       "  \"/>\n",
       "<polyline clip-path=\"url(#clip313)\" style=\"stroke:#000000; stroke-width:2; stroke-opacity:0.1; fill:none\" points=\"\n",
       "  234.82,588.681 2352.76,588.681 \n",
       "  \"/>\n",
       "<polyline clip-path=\"url(#clip310)\" style=\"stroke:#000000; stroke-width:4; stroke-opacity:1; fill:none\" points=\"\n",
       "  234.82,889.847 234.82,580.577 \n",
       "  \"/>\n",
       "<polyline clip-path=\"url(#clip310)\" style=\"stroke:#000000; stroke-width:4; stroke-opacity:1; fill:none\" points=\"\n",
       "  234.82,832.358 260.235,832.358 \n",
       "  \"/>\n",
       "<polyline clip-path=\"url(#clip310)\" style=\"stroke:#000000; stroke-width:4; stroke-opacity:1; fill:none\" points=\"\n",
       "  234.82,771.439 260.235,771.439 \n",
       "  \"/>\n",
       "<polyline clip-path=\"url(#clip310)\" style=\"stroke:#000000; stroke-width:4; stroke-opacity:1; fill:none\" points=\"\n",
       "  234.82,710.519 260.235,710.519 \n",
       "  \"/>\n",
       "<polyline clip-path=\"url(#clip310)\" style=\"stroke:#000000; stroke-width:4; stroke-opacity:1; fill:none\" points=\"\n",
       "  234.82,649.6 260.235,649.6 \n",
       "  \"/>\n",
       "<polyline clip-path=\"url(#clip310)\" style=\"stroke:#000000; stroke-width:4; stroke-opacity:1; fill:none\" points=\"\n",
       "  234.82,588.681 260.235,588.681 \n",
       "  \"/>\n",
       "<path clip-path=\"url(#clip310)\" d=\"M 0 0 M150.903 815.078 L169.26 815.078 L169.26 819.013 L155.186 819.013 L155.186 827.485 Q156.204 827.138 157.223 826.976 Q158.241 826.791 159.26 826.791 Q165.047 826.791 168.427 829.962 Q171.806 833.134 171.806 838.55 Q171.806 844.129 168.334 847.231 Q164.862 850.309 158.542 850.309 Q156.366 850.309 154.098 849.939 Q151.853 849.569 149.445 848.828 L149.445 844.129 Q151.528 845.263 153.751 845.819 Q155.973 846.374 158.45 846.374 Q162.454 846.374 164.792 844.268 Q167.13 842.161 167.13 838.55 Q167.13 834.939 164.792 832.833 Q162.454 830.726 158.45 830.726 Q156.575 830.726 154.7 831.143 Q152.848 831.559 150.903 832.439 L150.903 815.078 Z\" fill=\"#000000\" fill-rule=\"evenodd\" fill-opacity=\"1\" /><path clip-path=\"url(#clip310)\" d=\"M 0 0 M186.876 818.157 Q183.264 818.157 181.436 821.722 Q179.63 825.263 179.63 832.393 Q179.63 839.499 181.436 843.064 Q183.264 846.606 186.876 846.606 Q190.51 846.606 192.315 843.064 Q194.144 839.499 194.144 832.393 Q194.144 825.263 192.315 821.722 Q190.51 818.157 186.876 818.157 M186.876 814.453 Q192.686 814.453 195.741 819.06 Q198.82 823.643 198.82 832.393 Q198.82 841.12 195.741 845.726 Q192.686 850.309 186.876 850.309 Q181.065 850.309 177.987 845.726 Q174.931 841.12 174.931 832.393 Q174.931 823.643 177.987 819.06 Q181.065 814.453 186.876 814.453 Z\" fill=\"#000000\" fill-rule=\"evenodd\" fill-opacity=\"1\" /><path clip-path=\"url(#clip310)\" d=\"M 0 0 M124.885 784.784 L132.524 784.784 L132.524 758.418 L124.214 760.085 L124.214 755.825 L132.478 754.159 L137.154 754.159 L137.154 784.784 L144.792 784.784 L144.792 788.719 L124.885 788.719 L124.885 784.784 Z\" fill=\"#000000\" fill-rule=\"evenodd\" fill-opacity=\"1\" /><path clip-path=\"url(#clip310)\" d=\"M 0 0 M159.862 757.237 Q156.251 757.237 154.422 760.802 Q152.616 764.344 152.616 771.473 Q152.616 778.58 154.422 782.145 Q156.251 785.686 159.862 785.686 Q163.496 785.686 165.302 782.145 Q167.13 778.58 167.13 771.473 Q167.13 764.344 165.302 760.802 Q163.496 757.237 159.862 757.237 M159.862 753.534 Q165.672 753.534 168.727 758.14 Q171.806 762.723 171.806 771.473 Q171.806 780.2 168.727 784.807 Q165.672 789.39 159.862 789.39 Q154.052 789.39 150.973 784.807 Q147.917 780.2 147.917 771.473 Q147.917 762.723 150.973 758.14 Q154.052 753.534 159.862 753.534 Z\" fill=\"#000000\" fill-rule=\"evenodd\" fill-opacity=\"1\" /><path clip-path=\"url(#clip310)\" d=\"M 0 0 M186.876 757.237 Q183.264 757.237 181.436 760.802 Q179.63 764.344 179.63 771.473 Q179.63 778.58 181.436 782.145 Q183.264 785.686 186.876 785.686 Q190.51 785.686 192.315 782.145 Q194.144 778.58 194.144 771.473 Q194.144 764.344 192.315 760.802 Q190.51 757.237 186.876 757.237 M186.876 753.534 Q192.686 753.534 195.741 758.14 Q198.82 762.723 198.82 771.473 Q198.82 780.2 195.741 784.807 Q192.686 789.39 186.876 789.39 Q181.065 789.39 177.987 784.807 Q174.931 780.2 174.931 771.473 Q174.931 762.723 177.987 758.14 Q181.065 753.534 186.876 753.534 Z\" fill=\"#000000\" fill-rule=\"evenodd\" fill-opacity=\"1\" /><path clip-path=\"url(#clip310)\" d=\"M 0 0 M125.88 723.864 L133.519 723.864 L133.519 697.499 L125.209 699.165 L125.209 694.906 L133.473 693.239 L138.149 693.239 L138.149 723.864 L145.788 723.864 L145.788 727.799 L125.88 727.799 L125.88 723.864 Z\" fill=\"#000000\" fill-rule=\"evenodd\" fill-opacity=\"1\" /><path clip-path=\"url(#clip310)\" d=\"M 0 0 M150.903 693.239 L169.26 693.239 L169.26 697.175 L155.186 697.175 L155.186 705.647 Q156.204 705.299 157.223 705.137 Q158.241 704.952 159.26 704.952 Q165.047 704.952 168.427 708.124 Q171.806 711.295 171.806 716.711 Q171.806 722.29 168.334 725.392 Q164.862 728.471 158.542 728.471 Q156.366 728.471 154.098 728.1 Q151.853 727.73 149.445 726.989 L149.445 722.29 Q151.528 723.424 153.751 723.98 Q155.973 724.535 158.45 724.535 Q162.454 724.535 164.792 722.429 Q167.13 720.323 167.13 716.711 Q167.13 713.1 164.792 710.994 Q162.454 708.887 158.45 708.887 Q156.575 708.887 154.7 709.304 Q152.848 709.721 150.903 710.6 L150.903 693.239 Z\" fill=\"#000000\" fill-rule=\"evenodd\" fill-opacity=\"1\" /><path clip-path=\"url(#clip310)\" d=\"M 0 0 M186.876 696.318 Q183.264 696.318 181.436 699.883 Q179.63 703.424 179.63 710.554 Q179.63 717.661 181.436 721.225 Q183.264 724.767 186.876 724.767 Q190.51 724.767 192.315 721.225 Q194.144 717.661 194.144 710.554 Q194.144 703.424 192.315 699.883 Q190.51 696.318 186.876 696.318 M186.876 692.614 Q192.686 692.614 195.741 697.221 Q198.82 701.804 198.82 710.554 Q198.82 719.281 195.741 723.887 Q192.686 728.471 186.876 728.471 Q181.065 728.471 177.987 723.887 Q174.931 719.281 174.931 710.554 Q174.931 701.804 177.987 697.221 Q181.065 692.614 186.876 692.614 Z\" fill=\"#000000\" fill-rule=\"evenodd\" fill-opacity=\"1\" /><path clip-path=\"url(#clip310)\" d=\"M 0 0 M128.473 662.945 L144.792 662.945 L144.792 666.88 L122.848 666.88 L122.848 662.945 Q125.51 660.19 130.093 655.561 Q134.7 650.908 135.88 649.565 Q138.126 647.042 139.005 645.306 Q139.908 643.547 139.908 641.857 Q139.908 639.102 137.964 637.366 Q136.042 635.63 132.941 635.63 Q130.742 635.63 128.288 636.394 Q125.857 637.158 123.08 638.709 L123.08 633.987 Q125.904 632.852 128.357 632.274 Q130.811 631.695 132.848 631.695 Q138.218 631.695 141.413 634.38 Q144.607 637.065 144.607 641.556 Q144.607 643.686 143.797 645.607 Q143.01 647.505 140.904 650.098 Q140.325 650.769 137.223 653.987 Q134.121 657.181 128.473 662.945 Z\" fill=\"#000000\" fill-rule=\"evenodd\" fill-opacity=\"1\" /><path clip-path=\"url(#clip310)\" d=\"M 0 0 M159.862 635.399 Q156.251 635.399 154.422 638.963 Q152.616 642.505 152.616 649.635 Q152.616 656.741 154.422 660.306 Q156.251 663.848 159.862 663.848 Q163.496 663.848 165.302 660.306 Q167.13 656.741 167.13 649.635 Q167.13 642.505 165.302 638.963 Q163.496 635.399 159.862 635.399 M159.862 631.695 Q165.672 631.695 168.727 636.301 Q171.806 640.885 171.806 649.635 Q171.806 658.361 168.727 662.968 Q165.672 667.551 159.862 667.551 Q154.052 667.551 150.973 662.968 Q147.917 658.361 147.917 649.635 Q147.917 640.885 150.973 636.301 Q154.052 631.695 159.862 631.695 Z\" fill=\"#000000\" fill-rule=\"evenodd\" fill-opacity=\"1\" /><path clip-path=\"url(#clip310)\" d=\"M 0 0 M186.876 635.399 Q183.264 635.399 181.436 638.963 Q179.63 642.505 179.63 649.635 Q179.63 656.741 181.436 660.306 Q183.264 663.848 186.876 663.848 Q190.51 663.848 192.315 660.306 Q194.144 656.741 194.144 649.635 Q194.144 642.505 192.315 638.963 Q190.51 635.399 186.876 635.399 M186.876 631.695 Q192.686 631.695 195.741 636.301 Q198.82 640.885 198.82 649.635 Q198.82 658.361 195.741 662.968 Q192.686 667.551 186.876 667.551 Q181.065 667.551 177.987 662.968 Q174.931 658.361 174.931 649.635 Q174.931 640.885 177.987 636.301 Q181.065 631.695 186.876 631.695 Z\" fill=\"#000000\" fill-rule=\"evenodd\" fill-opacity=\"1\" /><path clip-path=\"url(#clip310)\" d=\"M 0 0 M129.468 602.025 L145.788 602.025 L145.788 605.961 L123.843 605.961 L123.843 602.025 Q126.505 599.271 131.089 594.641 Q135.695 589.988 136.876 588.646 Q139.121 586.123 140.001 584.387 Q140.904 582.627 140.904 580.938 Q140.904 578.183 138.959 576.447 Q137.038 574.711 133.936 574.711 Q131.737 574.711 129.283 575.475 Q126.853 576.239 124.075 577.789 L124.075 573.067 Q126.899 571.933 129.353 571.354 Q131.806 570.776 133.843 570.776 Q139.214 570.776 142.408 573.461 Q145.603 576.146 145.603 580.637 Q145.603 582.766 144.792 584.688 Q144.005 586.586 141.899 589.178 Q141.32 589.85 138.218 593.067 Q135.117 596.262 129.468 602.025 Z\" fill=\"#000000\" fill-rule=\"evenodd\" fill-opacity=\"1\" /><path clip-path=\"url(#clip310)\" d=\"M 0 0 M150.903 571.401 L169.26 571.401 L169.26 575.336 L155.186 575.336 L155.186 583.808 Q156.204 583.461 157.223 583.299 Q158.241 583.113 159.26 583.113 Q165.047 583.113 168.427 586.285 Q171.806 589.456 171.806 594.873 Q171.806 600.451 168.334 603.553 Q164.862 606.632 158.542 606.632 Q156.366 606.632 154.098 606.262 Q151.853 605.891 149.445 605.15 L149.445 600.451 Q151.528 601.586 153.751 602.141 Q155.973 602.697 158.45 602.697 Q162.454 602.697 164.792 600.59 Q167.13 598.484 167.13 594.873 Q167.13 591.262 164.792 589.155 Q162.454 587.049 158.45 587.049 Q156.575 587.049 154.7 587.465 Q152.848 587.882 150.903 588.762 L150.903 571.401 Z\" fill=\"#000000\" fill-rule=\"evenodd\" fill-opacity=\"1\" /><path clip-path=\"url(#clip310)\" d=\"M 0 0 M186.876 574.479 Q183.264 574.479 181.436 578.044 Q179.63 581.586 179.63 588.715 Q179.63 595.822 181.436 599.387 Q183.264 602.928 186.876 602.928 Q190.51 602.928 192.315 599.387 Q194.144 595.822 194.144 588.715 Q194.144 581.586 192.315 578.044 Q190.51 574.479 186.876 574.479 M186.876 570.776 Q192.686 570.776 195.741 575.382 Q198.82 579.965 198.82 588.715 Q198.82 597.442 195.741 602.049 Q192.686 606.632 186.876 606.632 Q181.065 606.632 177.987 602.049 Q174.931 597.442 174.931 588.715 Q174.931 579.965 177.987 575.382 Q181.065 570.776 186.876 570.776 Z\" fill=\"#000000\" fill-rule=\"evenodd\" fill-opacity=\"1\" /><path clip-path=\"url(#clip310)\" d=\"M 0 0 M74.3121 917.717 Q75.0123 915.648 77.304 913.706 Q79.5956 911.733 83.606 909.76 L96.5921 903.235 L96.5921 910.142 L84.4017 916.221 Q79.6275 918.576 78.0679 920.804 Q76.5083 923 76.5083 926.82 L76.5083 933.822 L96.5921 933.822 L96.5921 940.251 L49.0721 940.251 L49.0721 925.738 Q49.0721 917.589 52.4777 913.579 Q55.8834 909.569 62.7583 909.569 Q67.2462 909.569 70.2062 911.669 Q73.1663 913.738 74.3121 917.717 M54.3556 933.822 L71.2247 933.822 L71.2247 925.738 Q71.2247 921.091 69.0922 918.735 Q66.9279 916.348 62.7583 916.348 Q58.5888 916.348 56.4881 918.735 Q54.3556 921.091 54.3556 925.738 L54.3556 933.822 Z\" fill=\"#000000\" fill-rule=\"evenodd\" fill-opacity=\"1\" /><path clip-path=\"url(#clip310)\" d=\"M 0 0 M77.304 869.528 L80.1686 869.528 L80.1686 896.455 Q86.216 896.073 89.3988 892.827 Q92.5499 889.549 92.5499 883.724 Q92.5499 880.35 91.7223 877.199 Q90.8948 874.016 89.2397 870.897 L94.7778 870.897 Q96.1146 874.048 96.8149 877.358 Q97.5151 880.668 97.5151 884.074 Q97.5151 892.604 92.5499 897.601 Q87.5846 902.566 79.1182 902.566 Q70.3654 902.566 65.241 897.856 Q60.0847 893.113 60.0847 885.093 Q60.0847 877.899 64.7317 873.73 Q69.3469 869.528 77.304 869.528 M75.5852 875.385 Q70.7791 875.448 67.9146 878.09 Q65.05 880.7 65.05 885.029 Q65.05 889.93 67.8191 892.891 Q70.5882 895.819 75.6171 896.264 L75.5852 875.385 Z\" fill=\"#000000\" fill-rule=\"evenodd\" fill-opacity=\"1\" /><path clip-path=\"url(#clip310)\" d=\"M 0 0 M47.0669 845.339 L51.9366 845.339 L51.9366 850.941 Q51.9366 854.092 53.2098 855.333 Q54.4829 856.542 57.7931 856.542 L60.9441 856.542 L60.9441 846.898 L65.4956 846.898 L65.4956 856.542 L96.5921 856.542 L96.5921 862.431 L65.4956 862.431 L65.4956 868.032 L60.9441 868.032 L60.9441 862.431 L58.4615 862.431 Q52.5096 862.431 49.8041 859.662 Q47.0669 856.892 47.0669 850.877 L47.0669 845.339 Z\" fill=\"#000000\" fill-rule=\"evenodd\" fill-opacity=\"1\" /><path clip-path=\"url(#clip310)\" d=\"M 0 0 M77.304 808.704 L80.1686 808.704 L80.1686 835.631 Q86.216 835.249 89.3988 832.003 Q92.5499 828.724 92.5499 822.9 Q92.5499 819.526 91.7223 816.375 Q90.8948 813.192 89.2397 810.073 L94.7778 810.073 Q96.1146 813.224 96.8149 816.534 Q97.5151 819.844 97.5151 823.25 Q97.5151 831.78 92.5499 836.777 Q87.5846 841.742 79.1182 841.742 Q70.3654 841.742 65.241 837.031 Q60.0847 832.289 60.0847 824.268 Q60.0847 817.075 64.7317 812.905 Q69.3469 808.704 77.304 808.704 M75.5852 814.561 Q70.7791 814.624 67.9146 817.266 Q65.05 819.876 65.05 824.205 Q65.05 829.106 67.8191 832.066 Q70.5882 834.994 75.6171 835.44 L75.5852 814.561 Z\" fill=\"#000000\" fill-rule=\"evenodd\" fill-opacity=\"1\" /><path clip-path=\"url(#clip310)\" d=\"M 0 0 M66.4186 781.904 Q65.8457 782.891 65.5911 784.069 Q65.3046 785.215 65.3046 786.615 Q65.3046 791.58 68.5511 794.254 Q71.7658 796.896 77.8132 796.896 L96.5921 796.896 L96.5921 802.784 L60.9441 802.784 L60.9441 796.896 L66.4823 796.896 Q63.2358 795.05 61.6762 792.09 Q60.0847 789.13 60.0847 784.896 Q60.0847 784.292 60.1802 783.56 Q60.2439 782.827 60.403 781.936 L66.4186 781.904 Z\" fill=\"#000000\" fill-rule=\"evenodd\" fill-opacity=\"1\" /><path clip-path=\"url(#clip310)\" d=\"M 0 0 M77.304 746.702 L80.1686 746.702 L80.1686 773.629 Q86.216 773.247 89.3988 770.001 Q92.5499 766.722 92.5499 760.898 Q92.5499 757.524 91.7223 754.373 Q90.8948 751.19 89.2397 748.071 L94.7778 748.071 Q96.1146 751.222 96.8149 754.532 Q97.5151 757.842 97.5151 761.248 Q97.5151 769.778 92.5499 774.775 Q87.5846 779.74 79.1182 779.74 Q70.3654 779.74 65.241 775.029 Q60.0847 770.287 60.0847 762.266 Q60.0847 755.073 64.7317 750.903 Q69.3469 746.702 77.304 746.702 M75.5852 752.559 Q70.7791 752.622 67.9146 755.264 Q65.05 757.874 65.05 762.203 Q65.05 767.104 67.8191 770.064 Q70.5882 772.992 75.6171 773.438 L75.5852 752.559 Z\" fill=\"#000000\" fill-rule=\"evenodd\" fill-opacity=\"1\" /><path clip-path=\"url(#clip310)\" d=\"M 0 0 M75.076 710.927 L96.5921 710.927 L96.5921 716.783 L75.267 716.783 Q70.2062 716.783 67.6918 718.757 Q65.1773 720.73 65.1773 724.677 Q65.1773 729.419 68.201 732.156 Q71.2247 734.894 76.4446 734.894 L96.5921 734.894 L96.5921 740.782 L60.9441 740.782 L60.9441 734.894 L66.4823 734.894 Q63.2676 732.793 61.6762 729.96 Q60.0847 727.096 60.0847 723.372 Q60.0847 717.229 63.9042 714.078 Q67.6918 710.927 75.076 710.927 Z\" fill=\"#000000\" fill-rule=\"evenodd\" fill-opacity=\"1\" /><path clip-path=\"url(#clip310)\" d=\"M 0 0 M62.3127 679.13 L67.7873 679.13 Q66.4186 681.613 65.7502 684.127 Q65.05 686.61 65.05 689.156 Q65.05 694.853 68.6785 698.004 Q72.2751 701.155 78.7999 701.155 Q85.3248 701.155 88.9532 698.004 Q92.5499 694.853 92.5499 689.156 Q92.5499 686.61 91.8815 684.127 Q91.1812 681.613 89.8126 679.13 L95.2234 679.13 Q96.3693 681.581 96.9422 684.223 Q97.5151 686.833 97.5151 689.793 Q97.5151 697.845 92.4544 702.588 Q87.3936 707.33 78.7999 707.33 Q70.0789 707.33 65.0818 702.556 Q60.0847 697.75 60.0847 689.411 Q60.0847 686.705 60.6577 684.127 Q61.1987 681.549 62.3127 679.13 Z\" fill=\"#000000\" fill-rule=\"evenodd\" fill-opacity=\"1\" /><path clip-path=\"url(#clip310)\" d=\"M 0 0 M77.304 642.495 L80.1686 642.495 L80.1686 669.422 Q86.216 669.04 89.3988 665.794 Q92.5499 662.516 92.5499 656.691 Q92.5499 653.317 91.7223 650.166 Q90.8948 646.983 89.2397 643.864 L94.7778 643.864 Q96.1146 647.015 96.8149 650.325 Q97.5151 653.635 97.5151 657.041 Q97.5151 665.571 92.5499 670.568 Q87.5846 675.533 79.1182 675.533 Q70.3654 675.533 65.241 670.823 Q60.0847 666.08 60.0847 658.06 Q60.0847 650.866 64.7317 646.697 Q69.3469 642.495 77.304 642.495 M75.5852 648.352 Q70.7791 648.416 67.9146 651.057 Q65.05 653.667 65.05 657.996 Q65.05 662.898 67.8191 665.858 Q70.5882 668.786 75.6171 669.231 L75.5852 648.352 Z\" fill=\"#000000\" fill-rule=\"evenodd\" fill-opacity=\"1\" /><path clip-path=\"url(#clip310)\" d=\"M 0 0 M107.414 609.266 L111.965 609.266 L111.965 643.132 L107.414 643.132 L107.414 609.266 Z\" fill=\"#000000\" fill-rule=\"evenodd\" fill-opacity=\"1\" /><path clip-path=\"url(#clip310)\" d=\"M 0 0 M61.9945 580.398 L67.5326 580.398 Q66.2595 582.881 65.6229 585.554 Q64.9863 588.228 64.9863 591.092 Q64.9863 595.453 66.3231 597.649 Q67.6599 599.813 70.3335 599.813 Q72.3706 599.813 73.5482 598.254 Q74.694 596.694 75.7444 591.984 L76.19 589.978 Q77.5268 583.74 79.9776 581.13 Q82.3965 578.488 86.7571 578.488 Q91.7223 578.488 94.6187 582.435 Q97.5151 586.35 97.5151 593.225 Q97.5151 596.089 96.9422 599.209 Q96.4011 602.296 95.2871 605.733 L89.2397 605.733 Q90.9266 602.487 91.786 599.336 Q92.6135 596.185 92.6135 593.098 Q92.6135 588.96 91.2131 586.732 Q89.7808 584.504 87.2027 584.504 Q84.8155 584.504 83.5424 586.127 Q82.2692 587.719 81.0916 593.161 L80.6142 595.198 Q79.4683 600.641 77.113 603.06 Q74.7259 605.479 70.5882 605.479 Q65.5593 605.479 62.822 601.914 Q60.0847 598.349 60.0847 591.793 Q60.0847 588.546 60.5622 585.682 Q61.0396 582.817 61.9945 580.398 Z\" fill=\"#000000\" fill-rule=\"evenodd\" fill-opacity=\"1\" /><path clip-path=\"url(#clip310)\" d=\"M 0 0 M65.05 558.532 Q65.05 563.242 68.7421 565.98 Q72.4024 568.717 78.7999 568.717 Q85.1975 568.717 88.8896 566.011 Q92.5499 563.274 92.5499 558.532 Q92.5499 553.853 88.8577 551.116 Q85.1656 548.378 78.7999 548.378 Q72.466 548.378 68.7739 551.116 Q65.05 553.853 65.05 558.532 M60.0847 558.532 Q60.0847 550.893 65.05 546.532 Q70.0152 542.172 78.7999 542.172 Q87.5528 542.172 92.5499 546.532 Q97.5151 550.893 97.5151 558.532 Q97.5151 566.202 92.5499 570.563 Q87.5528 574.892 78.7999 574.892 Q70.0152 574.892 65.05 570.563 Q60.0847 566.202 60.0847 558.532 Z\" fill=\"#000000\" fill-rule=\"evenodd\" fill-opacity=\"1\" /><path clip-path=\"url(#clip310)\" d=\"M 0 0 M47.0669 536.029 L47.0669 530.173 L96.5921 530.173 L96.5921 536.029 L47.0669 536.029 Z\" fill=\"#000000\" fill-rule=\"evenodd\" fill-opacity=\"1\" /><polyline clip-path=\"url(#clip313)\" style=\"stroke:#ff0000; stroke-width:4; stroke-opacity:1; fill:none\" points=\"\n",
       "  294.761,881.094 314.742,877.151 334.723,873.209 354.703,869.266 374.684,865.324 394.664,861.381 414.645,857.439 434.625,853.496 454.606,849.554 474.586,845.611 \n",
       "  494.567,841.669 514.547,837.726 534.528,833.784 554.508,829.841 574.489,825.899 594.469,821.956 614.45,818.014 634.43,814.071 654.411,810.129 674.392,806.186 \n",
       "  694.372,802.244 714.353,798.301 734.333,794.359 754.314,790.416 774.294,786.474 794.275,782.531 814.255,778.589 834.236,774.646 854.216,770.704 874.197,766.761 \n",
       "  894.177,762.819 914.158,758.876 934.138,754.934 954.119,750.991 974.099,747.049 994.08,743.106 1014.06,739.164 1034.04,735.221 1054.02,731.279 1074,727.336 \n",
       "  1093.98,723.394 1113.96,719.451 1133.94,715.509 1153.92,711.566 1173.9,707.624 1193.89,703.681 1213.87,699.739 1233.85,695.796 1253.83,691.854 1273.81,687.911 \n",
       "  1293.79,683.969 1313.77,680.026 1333.75,676.084 1353.73,672.141 1373.71,668.199 1393.69,664.256 1413.67,660.314 1433.65,656.371 1453.63,652.429 1473.61,648.487 \n",
       "  1493.59,644.544 1513.57,640.602 1533.55,636.659 1553.53,632.717 1573.52,628.774 1593.5,624.832 1613.48,620.889 1633.46,616.947 1653.44,613.004 1673.42,609.062 \n",
       "  1693.4,605.119 1713.38,601.177 1733.36,597.234 1753.34,593.297 1773.32,589.686 1793.3,589.33 1813.28,595.622 1833.26,605.168 1853.24,615.041 1873.22,624.919 \n",
       "  1893.2,634.797 1913.18,644.675 1933.16,654.553 1953.15,664.431 1973.13,674.309 1993.11,684.187 2013.09,694.065 2033.07,703.943 2053.05,713.821 2073.03,723.699 \n",
       "  2093.01,733.578 2112.99,743.456 2132.97,753.334 2152.95,763.212 2172.93,773.09 2192.91,782.968 2212.89,792.846 2232.87,802.724 2252.85,812.602 2272.83,822.48 \n",
       "  2292.81,832.358 \n",
       "  \"/>\n",
       "<path clip-path=\"url(#clip310)\" d=\"\n",
       "M1830.28 711.846 L2282.16 711.846 L2282.16 590.886 L1830.28 590.886  Z\n",
       "  \" fill=\"#ffffff\" fill-rule=\"evenodd\" fill-opacity=\"1\"/>\n",
       "<polyline clip-path=\"url(#clip310)\" style=\"stroke:#000000; stroke-width:4; stroke-opacity:1; fill:none\" points=\"\n",
       "  1830.28,711.846 2282.16,711.846 2282.16,590.886 1830.28,590.886 1830.28,711.846 \n",
       "  \"/>\n",
       "<polyline clip-path=\"url(#clip310)\" style=\"stroke:#ff0000; stroke-width:4; stroke-opacity:1; fill:none\" points=\"\n",
       "  1853.81,651.366 1995.01,651.366 \n",
       "  \"/>\n",
       "<path clip-path=\"url(#clip310)\" d=\"M 0 0 M2034.93 652.443 Q2036.44 652.952 2037.85 654.619 Q2039.28 656.285 2040.72 659.202 L2045.46 668.646 L2040.44 668.646 L2036.02 659.781 Q2034.31 656.309 2032.69 655.174 Q2031.09 654.04 2028.31 654.04 L2023.22 654.04 L2023.22 668.646 L2018.54 668.646 L2018.54 634.086 L2029.1 634.086 Q2035.02 634.086 2037.94 636.563 Q2040.86 639.04 2040.86 644.04 Q2040.86 647.304 2039.33 649.457 Q2037.83 651.609 2034.93 652.443 M2023.22 637.929 L2023.22 650.197 L2029.1 650.197 Q2032.48 650.197 2034.19 648.647 Q2035.93 647.072 2035.93 644.04 Q2035.93 641.008 2034.19 639.48 Q2032.48 637.929 2029.1 637.929 L2023.22 637.929 Z\" fill=\"#000000\" fill-rule=\"evenodd\" fill-opacity=\"1\" /><path clip-path=\"url(#clip310)\" d=\"M 0 0 M2069.98 654.619 L2069.98 656.702 L2050.39 656.702 Q2050.67 661.1 2053.03 663.415 Q2055.42 665.707 2059.65 665.707 Q2062.11 665.707 2064.4 665.105 Q2066.71 664.503 2068.98 663.299 L2068.98 667.327 Q2066.69 668.299 2064.28 668.808 Q2061.88 669.318 2059.4 669.318 Q2053.2 669.318 2049.56 665.707 Q2045.95 662.096 2045.95 655.938 Q2045.95 649.572 2049.38 645.846 Q2052.83 642.096 2058.66 642.096 Q2063.89 642.096 2066.92 645.475 Q2069.98 648.832 2069.98 654.619 M2065.72 653.369 Q2065.67 649.873 2063.75 647.79 Q2061.85 645.707 2058.7 645.707 Q2055.14 645.707 2052.99 647.721 Q2050.86 649.734 2050.53 653.392 L2065.72 653.369 Z\" fill=\"#000000\" fill-rule=\"evenodd\" fill-opacity=\"1\" /><path clip-path=\"url(#clip310)\" d=\"M 0 0 M2087.57 632.628 L2087.57 636.17 L2083.5 636.17 Q2081.2 636.17 2080.3 637.096 Q2079.42 638.022 2079.42 640.429 L2079.42 642.721 L2086.44 642.721 L2086.44 646.031 L2079.42 646.031 L2079.42 668.646 L2075.14 668.646 L2075.14 646.031 L2071.07 646.031 L2071.07 642.721 L2075.14 642.721 L2075.14 640.915 Q2075.14 636.586 2077.15 634.619 Q2079.17 632.628 2083.54 632.628 L2087.57 632.628 Z\" fill=\"#000000\" fill-rule=\"evenodd\" fill-opacity=\"1\" /><path clip-path=\"url(#clip310)\" d=\"M 0 0 M2114.21 654.619 L2114.21 656.702 L2094.63 656.702 Q2094.91 661.1 2097.27 663.415 Q2099.65 665.707 2103.89 665.707 Q2106.34 665.707 2108.64 665.105 Q2110.95 664.503 2113.22 663.299 L2113.22 667.327 Q2110.93 668.299 2108.52 668.808 Q2106.11 669.318 2103.64 669.318 Q2097.43 669.318 2093.8 665.707 Q2090.19 662.096 2090.19 655.938 Q2090.19 649.572 2093.61 645.846 Q2097.06 642.096 2102.89 642.096 Q2108.13 642.096 2111.16 645.475 Q2114.21 648.832 2114.21 654.619 M2109.95 653.369 Q2109.91 649.873 2107.99 647.79 Q2106.09 645.707 2102.94 645.707 Q2099.38 645.707 2097.22 647.721 Q2095.09 649.734 2094.77 653.392 L2109.95 653.369 Z\" fill=\"#000000\" fill-rule=\"evenodd\" fill-opacity=\"1\" /><path clip-path=\"url(#clip310)\" d=\"M 0 0 M2133.7 646.702 Q2132.99 646.285 2132.13 646.1 Q2131.3 645.892 2130.28 645.892 Q2126.67 645.892 2124.72 648.253 Q2122.8 650.591 2122.8 654.989 L2122.8 668.646 L2118.52 668.646 L2118.52 642.721 L2122.8 642.721 L2122.8 646.748 Q2124.14 644.387 2126.3 643.253 Q2128.45 642.096 2131.53 642.096 Q2131.97 642.096 2132.5 642.165 Q2133.03 642.211 2133.68 642.327 L2133.7 646.702 Z\" fill=\"#000000\" fill-rule=\"evenodd\" fill-opacity=\"1\" /><path clip-path=\"url(#clip310)\" d=\"M 0 0 M2159.31 654.619 L2159.31 656.702 L2139.72 656.702 Q2140 661.1 2142.36 663.415 Q2144.75 665.707 2148.98 665.707 Q2151.44 665.707 2153.73 665.105 Q2156.04 664.503 2158.31 663.299 L2158.31 667.327 Q2156.02 668.299 2153.61 668.808 Q2151.2 669.318 2148.73 669.318 Q2142.52 669.318 2138.89 665.707 Q2135.28 662.096 2135.28 655.938 Q2135.28 649.572 2138.7 645.846 Q2142.15 642.096 2147.99 642.096 Q2153.22 642.096 2156.25 645.475 Q2159.31 648.832 2159.31 654.619 M2155.05 653.369 Q2155 649.873 2153.08 647.79 Q2151.18 645.707 2148.03 645.707 Q2144.47 645.707 2142.32 647.721 Q2140.19 649.734 2139.86 653.392 L2155.05 653.369 Z\" fill=\"#000000\" fill-rule=\"evenodd\" fill-opacity=\"1\" /><path clip-path=\"url(#clip310)\" d=\"M 0 0 M2185.32 652.998 L2185.32 668.646 L2181.07 668.646 L2181.07 653.137 Q2181.07 649.457 2179.63 647.628 Q2178.19 645.799 2175.32 645.799 Q2171.88 645.799 2169.88 647.998 Q2167.89 650.197 2167.89 653.994 L2167.89 668.646 L2163.61 668.646 L2163.61 642.721 L2167.89 642.721 L2167.89 646.748 Q2169.42 644.41 2171.48 643.253 Q2173.57 642.096 2176.27 642.096 Q2180.74 642.096 2183.03 644.873 Q2185.32 647.628 2185.32 652.998 Z\" fill=\"#000000\" fill-rule=\"evenodd\" fill-opacity=\"1\" /><path clip-path=\"url(#clip310)\" d=\"M 0 0 M2208.45 643.716 L2208.45 647.697 Q2206.64 646.702 2204.82 646.216 Q2203.01 645.707 2201.16 645.707 Q2197.01 645.707 2194.72 648.346 Q2192.43 650.961 2192.43 655.707 Q2192.43 660.452 2194.72 663.091 Q2197.01 665.707 2201.16 665.707 Q2203.01 665.707 2204.82 665.22 Q2206.64 664.711 2208.45 663.716 L2208.45 667.651 Q2206.67 668.484 2204.75 668.901 Q2202.85 669.318 2200.69 669.318 Q2194.84 669.318 2191.39 665.637 Q2187.94 661.957 2187.94 655.707 Q2187.94 649.364 2191.41 645.73 Q2194.91 642.096 2200.97 642.096 Q2202.94 642.096 2204.82 642.512 Q2206.69 642.906 2208.45 643.716 Z\" fill=\"#000000\" fill-rule=\"evenodd\" fill-opacity=\"1\" /><path clip-path=\"url(#clip310)\" d=\"M 0 0 M2235.09 654.619 L2235.09 656.702 L2215.51 656.702 Q2215.79 661.1 2218.15 663.415 Q2220.53 665.707 2224.77 665.707 Q2227.22 665.707 2229.51 665.105 Q2231.83 664.503 2234.1 663.299 L2234.1 667.327 Q2231.81 668.299 2229.4 668.808 Q2226.99 669.318 2224.51 669.318 Q2218.31 669.318 2214.68 665.707 Q2211.07 662.096 2211.07 655.938 Q2211.07 649.572 2214.49 645.846 Q2217.94 642.096 2223.77 642.096 Q2229 642.096 2232.04 645.475 Q2235.09 648.832 2235.09 654.619 M2230.83 653.369 Q2230.79 649.873 2228.87 647.79 Q2226.97 645.707 2223.82 645.707 Q2220.25 645.707 2218.1 647.721 Q2215.97 649.734 2215.65 653.392 L2230.83 653.369 Z\" fill=\"#000000\" fill-rule=\"evenodd\" fill-opacity=\"1\" /><path clip-path=\"url(#clip310)\" d=\"\n",
       "M234.82 1423.18 L2352.76 1423.18 L2352.76 1113.91 L234.82 1113.91  Z\n",
       "  \" fill=\"#ffffff\" fill-rule=\"evenodd\" fill-opacity=\"1\"/>\n",
       "<defs>\n",
       "  <clipPath id=\"clip314\">\n",
       "    <rect x=\"234\" y=\"1113\" width=\"2119\" height=\"310\"/>\n",
       "  </clipPath>\n",
       "</defs>\n",
       "<polyline clip-path=\"url(#clip314)\" style=\"stroke:#000000; stroke-width:2; stroke-opacity:0.1; fill:none\" points=\"\n",
       "  294.761,1423.18 294.761,1113.91 \n",
       "  \"/>\n",
       "<polyline clip-path=\"url(#clip314)\" style=\"stroke:#000000; stroke-width:2; stroke-opacity:0.1; fill:none\" points=\"\n",
       "  794.275,1423.18 794.275,1113.91 \n",
       "  \"/>\n",
       "<polyline clip-path=\"url(#clip314)\" style=\"stroke:#000000; stroke-width:2; stroke-opacity:0.1; fill:none\" points=\"\n",
       "  1293.79,1423.18 1293.79,1113.91 \n",
       "  \"/>\n",
       "<polyline clip-path=\"url(#clip314)\" style=\"stroke:#000000; stroke-width:2; stroke-opacity:0.1; fill:none\" points=\"\n",
       "  1793.3,1423.18 1793.3,1113.91 \n",
       "  \"/>\n",
       "<polyline clip-path=\"url(#clip314)\" style=\"stroke:#000000; stroke-width:2; stroke-opacity:0.1; fill:none\" points=\"\n",
       "  2292.81,1423.18 2292.81,1113.91 \n",
       "  \"/>\n",
       "<polyline clip-path=\"url(#clip310)\" style=\"stroke:#000000; stroke-width:4; stroke-opacity:1; fill:none\" points=\"\n",
       "  234.82,1423.18 2352.76,1423.18 \n",
       "  \"/>\n",
       "<polyline clip-path=\"url(#clip310)\" style=\"stroke:#000000; stroke-width:4; stroke-opacity:1; fill:none\" points=\"\n",
       "  294.761,1423.18 294.761,1419.47 \n",
       "  \"/>\n",
       "<polyline clip-path=\"url(#clip310)\" style=\"stroke:#000000; stroke-width:4; stroke-opacity:1; fill:none\" points=\"\n",
       "  794.275,1423.18 794.275,1419.47 \n",
       "  \"/>\n",
       "<polyline clip-path=\"url(#clip310)\" style=\"stroke:#000000; stroke-width:4; stroke-opacity:1; fill:none\" points=\"\n",
       "  1293.79,1423.18 1293.79,1419.47 \n",
       "  \"/>\n",
       "<polyline clip-path=\"url(#clip310)\" style=\"stroke:#000000; stroke-width:4; stroke-opacity:1; fill:none\" points=\"\n",
       "  1793.3,1423.18 1793.3,1419.47 \n",
       "  \"/>\n",
       "<polyline clip-path=\"url(#clip310)\" style=\"stroke:#000000; stroke-width:4; stroke-opacity:1; fill:none\" points=\"\n",
       "  2292.81,1423.18 2292.81,1419.47 \n",
       "  \"/>\n",
       "<path clip-path=\"url(#clip310)\" d=\"M 0 0 M294.761 1452.37 Q291.15 1452.37 289.322 1455.94 Q287.516 1459.48 287.516 1466.61 Q287.516 1473.71 289.322 1477.28 Q291.15 1480.82 294.761 1480.82 Q298.396 1480.82 300.201 1477.28 Q302.03 1473.71 302.03 1466.61 Q302.03 1459.48 300.201 1455.94 Q298.396 1452.37 294.761 1452.37 M294.761 1448.67 Q300.572 1448.67 303.627 1453.27 Q306.706 1457.86 306.706 1466.61 Q306.706 1475.33 303.627 1479.94 Q300.572 1484.52 294.761 1484.52 Q288.951 1484.52 285.873 1479.94 Q282.817 1475.33 282.817 1466.61 Q282.817 1457.86 285.873 1453.27 Q288.951 1448.67 294.761 1448.67 Z\" fill=\"#000000\" fill-rule=\"evenodd\" fill-opacity=\"1\" /><path clip-path=\"url(#clip310)\" d=\"M 0 0 M775.421 1479.92 L791.74 1479.92 L791.74 1483.85 L769.796 1483.85 L769.796 1479.92 Q772.458 1477.16 777.041 1472.53 Q781.647 1467.88 782.828 1466.54 Q785.073 1464.01 785.953 1462.28 Q786.856 1460.52 786.856 1458.83 Q786.856 1456.07 784.911 1454.34 Q782.99 1452.6 779.888 1452.6 Q777.689 1452.6 775.235 1453.37 Q772.805 1454.13 770.027 1455.68 L770.027 1450.96 Q772.851 1449.82 775.305 1449.25 Q777.759 1448.67 779.796 1448.67 Q785.166 1448.67 788.36 1451.35 Q791.555 1454.04 791.555 1458.53 Q791.555 1460.66 790.745 1462.58 Q789.958 1464.48 787.851 1467.07 Q787.272 1467.74 784.171 1470.96 Q781.069 1474.15 775.421 1479.92 Z\" fill=\"#000000\" fill-rule=\"evenodd\" fill-opacity=\"1\" /><path clip-path=\"url(#clip310)\" d=\"M 0 0 M806.809 1452.37 Q803.198 1452.37 801.37 1455.94 Q799.564 1459.48 799.564 1466.61 Q799.564 1473.71 801.37 1477.28 Q803.198 1480.82 806.809 1480.82 Q810.444 1480.82 812.249 1477.28 Q814.078 1473.71 814.078 1466.61 Q814.078 1459.48 812.249 1455.94 Q810.444 1452.37 806.809 1452.37 M806.809 1448.67 Q812.619 1448.67 815.675 1453.27 Q818.754 1457.86 818.754 1466.61 Q818.754 1475.33 815.675 1479.94 Q812.619 1484.52 806.809 1484.52 Q800.999 1484.52 797.921 1479.94 Q794.865 1475.33 794.865 1466.61 Q794.865 1457.86 797.921 1453.27 Q800.999 1448.67 806.809 1448.67 Z\" fill=\"#000000\" fill-rule=\"evenodd\" fill-opacity=\"1\" /><path clip-path=\"url(#clip310)\" d=\"M 0 0 M1283.29 1453.37 L1271.48 1471.81 L1283.29 1471.81 L1283.29 1453.37 M1282.06 1449.29 L1287.94 1449.29 L1287.94 1471.81 L1292.87 1471.81 L1292.87 1475.7 L1287.94 1475.7 L1287.94 1483.85 L1283.29 1483.85 L1283.29 1475.7 L1267.69 1475.7 L1267.69 1471.19 L1282.06 1449.29 Z\" fill=\"#000000\" fill-rule=\"evenodd\" fill-opacity=\"1\" /><path clip-path=\"url(#clip310)\" d=\"M 0 0 M1307.94 1452.37 Q1304.33 1452.37 1302.5 1455.94 Q1300.7 1459.48 1300.7 1466.61 Q1300.7 1473.71 1302.5 1477.28 Q1304.33 1480.82 1307.94 1480.82 Q1311.58 1480.82 1313.38 1477.28 Q1315.21 1473.71 1315.21 1466.61 Q1315.21 1459.48 1313.38 1455.94 Q1311.58 1452.37 1307.94 1452.37 M1307.94 1448.67 Q1313.75 1448.67 1316.81 1453.27 Q1319.89 1457.86 1319.89 1466.61 Q1319.89 1475.33 1316.81 1479.94 Q1313.75 1484.52 1307.94 1484.52 Q1302.13 1484.52 1299.05 1479.94 Q1296 1475.33 1296 1466.61 Q1296 1457.86 1299.05 1453.27 Q1302.13 1448.67 1307.94 1448.67 Z\" fill=\"#000000\" fill-rule=\"evenodd\" fill-opacity=\"1\" /><path clip-path=\"url(#clip310)\" d=\"M 0 0 M1780.2 1464.71 Q1777.05 1464.71 1775.2 1466.86 Q1773.37 1469.01 1773.37 1472.76 Q1773.37 1476.49 1775.2 1478.67 Q1777.05 1480.82 1780.2 1480.82 Q1783.35 1480.82 1785.18 1478.67 Q1787.03 1476.49 1787.03 1472.76 Q1787.03 1469.01 1785.18 1466.86 Q1783.35 1464.71 1780.2 1464.71 M1789.48 1450.06 L1789.48 1454.31 Q1787.72 1453.48 1785.92 1453.04 Q1784.13 1452.6 1782.38 1452.6 Q1777.75 1452.6 1775.29 1455.73 Q1772.86 1458.85 1772.51 1465.17 Q1773.88 1463.16 1775.94 1462.09 Q1778 1461 1780.48 1461 Q1785.69 1461 1788.69 1464.18 Q1791.73 1467.32 1791.73 1472.76 Q1791.73 1478.09 1788.58 1481.31 Q1785.43 1484.52 1780.2 1484.52 Q1774.2 1484.52 1771.03 1479.94 Q1767.86 1475.33 1767.86 1466.61 Q1767.86 1458.41 1771.75 1453.55 Q1775.64 1448.67 1782.19 1448.67 Q1783.95 1448.67 1785.73 1449.01 Q1787.54 1449.36 1789.48 1450.06 Z\" fill=\"#000000\" fill-rule=\"evenodd\" fill-opacity=\"1\" /><path clip-path=\"url(#clip310)\" d=\"M 0 0 M1806.8 1452.37 Q1803.19 1452.37 1801.36 1455.94 Q1799.55 1459.48 1799.55 1466.61 Q1799.55 1473.71 1801.36 1477.28 Q1803.19 1480.82 1806.8 1480.82 Q1810.43 1480.82 1812.24 1477.28 Q1814.06 1473.71 1814.06 1466.61 Q1814.06 1459.48 1812.24 1455.94 Q1810.43 1452.37 1806.8 1452.37 M1806.8 1448.67 Q1812.61 1448.67 1815.66 1453.27 Q1818.74 1457.86 1818.74 1466.61 Q1818.74 1475.33 1815.66 1479.94 Q1812.61 1484.52 1806.8 1484.52 Q1800.99 1484.52 1797.91 1479.94 Q1794.85 1475.33 1794.85 1466.61 Q1794.85 1457.86 1797.91 1453.27 Q1800.99 1448.67 1806.8 1448.67 Z\" fill=\"#000000\" fill-rule=\"evenodd\" fill-opacity=\"1\" /><path clip-path=\"url(#clip310)\" d=\"M 0 0 M2279.31 1467.44 Q2275.97 1467.44 2274.05 1469.22 Q2272.15 1471 2272.15 1474.13 Q2272.15 1477.25 2274.05 1479.04 Q2275.97 1480.82 2279.31 1480.82 Q2282.64 1480.82 2284.56 1479.04 Q2286.48 1477.23 2286.48 1474.13 Q2286.48 1471 2284.56 1469.22 Q2282.66 1467.44 2279.31 1467.44 M2274.63 1465.45 Q2271.62 1464.71 2269.93 1462.65 Q2268.27 1460.59 2268.27 1457.63 Q2268.27 1453.48 2271.21 1451.07 Q2274.17 1448.67 2279.31 1448.67 Q2284.47 1448.67 2287.41 1451.07 Q2290.35 1453.48 2290.35 1457.63 Q2290.35 1460.59 2288.66 1462.65 Q2286.99 1464.71 2284.01 1465.45 Q2287.39 1466.24 2289.26 1468.53 Q2291.16 1470.82 2291.16 1474.13 Q2291.16 1479.15 2288.08 1481.84 Q2285.03 1484.52 2279.31 1484.52 Q2273.59 1484.52 2270.51 1481.84 Q2267.46 1479.15 2267.46 1474.13 Q2267.46 1470.82 2269.35 1468.53 Q2271.25 1466.24 2274.63 1465.45 M2272.92 1458.06 Q2272.92 1460.75 2274.59 1462.25 Q2276.28 1463.76 2279.31 1463.76 Q2282.32 1463.76 2284.01 1462.25 Q2285.72 1460.75 2285.72 1458.06 Q2285.72 1455.38 2284.01 1453.88 Q2282.32 1452.37 2279.31 1452.37 Q2276.28 1452.37 2274.59 1453.88 Q2272.92 1455.38 2272.92 1458.06 Z\" fill=\"#000000\" fill-rule=\"evenodd\" fill-opacity=\"1\" /><path clip-path=\"url(#clip310)\" d=\"M 0 0 M2306.23 1452.37 Q2302.62 1452.37 2300.79 1455.94 Q2298.98 1459.48 2298.98 1466.61 Q2298.98 1473.71 2300.79 1477.28 Q2302.62 1480.82 2306.23 1480.82 Q2309.86 1480.82 2311.67 1477.28 Q2313.5 1473.71 2313.5 1466.61 Q2313.5 1459.48 2311.67 1455.94 Q2309.86 1452.37 2306.23 1452.37 M2306.23 1448.67 Q2312.04 1448.67 2315.09 1453.27 Q2318.17 1457.86 2318.17 1466.61 Q2318.17 1475.33 2315.09 1479.94 Q2312.04 1484.52 2306.23 1484.52 Q2300.42 1484.52 2297.34 1479.94 Q2294.28 1475.33 2294.28 1466.61 Q2294.28 1457.86 2297.34 1453.27 Q2300.42 1448.67 2306.23 1448.67 Z\" fill=\"#000000\" fill-rule=\"evenodd\" fill-opacity=\"1\" /><path clip-path=\"url(#clip310)\" d=\"M 0 0 M1310.4 1520.4 L1297.51 1537.74 L1311.07 1556.04 L1304.16 1556.04 L1293.79 1542.04 L1283.41 1556.04 L1276.51 1556.04 L1290.35 1537.39 L1277.68 1520.4 L1284.59 1520.4 L1294.04 1533.1 L1303.5 1520.4 L1310.4 1520.4 Z\" fill=\"#000000\" fill-rule=\"evenodd\" fill-opacity=\"1\" /><polyline clip-path=\"url(#clip314)\" style=\"stroke:#000000; stroke-width:2; stroke-opacity:0.1; fill:none\" points=\"\n",
       "  234.82,1365.83 2352.76,1365.83 \n",
       "  \"/>\n",
       "<polyline clip-path=\"url(#clip314)\" style=\"stroke:#000000; stroke-width:2; stroke-opacity:0.1; fill:none\" points=\"\n",
       "  234.82,1305.07 2352.76,1305.07 \n",
       "  \"/>\n",
       "<polyline clip-path=\"url(#clip314)\" style=\"stroke:#000000; stroke-width:2; stroke-opacity:0.1; fill:none\" points=\"\n",
       "  234.82,1244.32 2352.76,1244.32 \n",
       "  \"/>\n",
       "<polyline clip-path=\"url(#clip314)\" style=\"stroke:#000000; stroke-width:2; stroke-opacity:0.1; fill:none\" points=\"\n",
       "  234.82,1183.57 2352.76,1183.57 \n",
       "  \"/>\n",
       "<polyline clip-path=\"url(#clip314)\" style=\"stroke:#000000; stroke-width:2; stroke-opacity:0.1; fill:none\" points=\"\n",
       "  234.82,1122.82 2352.76,1122.82 \n",
       "  \"/>\n",
       "<polyline clip-path=\"url(#clip310)\" style=\"stroke:#000000; stroke-width:4; stroke-opacity:1; fill:none\" points=\"\n",
       "  234.82,1423.18 234.82,1113.91 \n",
       "  \"/>\n",
       "<polyline clip-path=\"url(#clip310)\" style=\"stroke:#000000; stroke-width:4; stroke-opacity:1; fill:none\" points=\"\n",
       "  234.82,1365.83 260.235,1365.83 \n",
       "  \"/>\n",
       "<polyline clip-path=\"url(#clip310)\" style=\"stroke:#000000; stroke-width:4; stroke-opacity:1; fill:none\" points=\"\n",
       "  234.82,1305.07 260.235,1305.07 \n",
       "  \"/>\n",
       "<polyline clip-path=\"url(#clip310)\" style=\"stroke:#000000; stroke-width:4; stroke-opacity:1; fill:none\" points=\"\n",
       "  234.82,1244.32 260.235,1244.32 \n",
       "  \"/>\n",
       "<polyline clip-path=\"url(#clip310)\" style=\"stroke:#000000; stroke-width:4; stroke-opacity:1; fill:none\" points=\"\n",
       "  234.82,1183.57 260.235,1183.57 \n",
       "  \"/>\n",
       "<polyline clip-path=\"url(#clip310)\" style=\"stroke:#000000; stroke-width:4; stroke-opacity:1; fill:none\" points=\"\n",
       "  234.82,1122.82 260.235,1122.82 \n",
       "  \"/>\n",
       "<path clip-path=\"url(#clip310)\" d=\"M 0 0 M150.903 1348.55 L169.26 1348.55 L169.26 1352.48 L155.186 1352.48 L155.186 1360.95 Q156.204 1360.61 157.223 1360.44 Q158.241 1360.26 159.26 1360.26 Q165.047 1360.26 168.427 1363.43 Q171.806 1366.6 171.806 1372.02 Q171.806 1377.6 168.334 1380.7 Q164.862 1383.78 158.542 1383.78 Q156.366 1383.78 154.098 1383.41 Q151.853 1383.04 149.445 1382.29 L149.445 1377.6 Q151.528 1378.73 153.751 1379.29 Q155.973 1379.84 158.45 1379.84 Q162.454 1379.84 164.792 1377.73 Q167.13 1375.63 167.13 1372.02 Q167.13 1368.41 164.792 1366.3 Q162.454 1364.19 158.45 1364.19 Q156.575 1364.19 154.7 1364.61 Q152.848 1365.03 150.903 1365.91 L150.903 1348.55 Z\" fill=\"#000000\" fill-rule=\"evenodd\" fill-opacity=\"1\" /><path clip-path=\"url(#clip310)\" d=\"M 0 0 M186.876 1351.62 Q183.264 1351.62 181.436 1355.19 Q179.63 1358.73 179.63 1365.86 Q179.63 1372.97 181.436 1376.53 Q183.264 1380.07 186.876 1380.07 Q190.51 1380.07 192.315 1376.53 Q194.144 1372.97 194.144 1365.86 Q194.144 1358.73 192.315 1355.19 Q190.51 1351.62 186.876 1351.62 M186.876 1347.92 Q192.686 1347.92 195.741 1352.53 Q198.82 1357.11 198.82 1365.86 Q198.82 1374.59 195.741 1379.19 Q192.686 1383.78 186.876 1383.78 Q181.065 1383.78 177.987 1379.19 Q174.931 1374.59 174.931 1365.86 Q174.931 1357.11 177.987 1352.53 Q181.065 1347.92 186.876 1347.92 Z\" fill=\"#000000\" fill-rule=\"evenodd\" fill-opacity=\"1\" /><path clip-path=\"url(#clip310)\" d=\"M 0 0 M124.885 1318.42 L132.524 1318.42 L132.524 1292.05 L124.214 1293.72 L124.214 1289.46 L132.478 1287.79 L137.154 1287.79 L137.154 1318.42 L144.792 1318.42 L144.792 1322.35 L124.885 1322.35 L124.885 1318.42 Z\" fill=\"#000000\" fill-rule=\"evenodd\" fill-opacity=\"1\" /><path clip-path=\"url(#clip310)\" d=\"M 0 0 M159.862 1290.87 Q156.251 1290.87 154.422 1294.44 Q152.616 1297.98 152.616 1305.11 Q152.616 1312.21 154.422 1315.78 Q156.251 1319.32 159.862 1319.32 Q163.496 1319.32 165.302 1315.78 Q167.13 1312.21 167.13 1305.11 Q167.13 1297.98 165.302 1294.44 Q163.496 1290.87 159.862 1290.87 M159.862 1287.17 Q165.672 1287.17 168.727 1291.77 Q171.806 1296.36 171.806 1305.11 Q171.806 1313.83 168.727 1318.44 Q165.672 1323.02 159.862 1323.02 Q154.052 1323.02 150.973 1318.44 Q147.917 1313.83 147.917 1305.11 Q147.917 1296.36 150.973 1291.77 Q154.052 1287.17 159.862 1287.17 Z\" fill=\"#000000\" fill-rule=\"evenodd\" fill-opacity=\"1\" /><path clip-path=\"url(#clip310)\" d=\"M 0 0 M186.876 1290.87 Q183.264 1290.87 181.436 1294.44 Q179.63 1297.98 179.63 1305.11 Q179.63 1312.21 181.436 1315.78 Q183.264 1319.32 186.876 1319.32 Q190.51 1319.32 192.315 1315.78 Q194.144 1312.21 194.144 1305.11 Q194.144 1297.98 192.315 1294.44 Q190.51 1290.87 186.876 1290.87 M186.876 1287.17 Q192.686 1287.17 195.741 1291.77 Q198.82 1296.36 198.82 1305.11 Q198.82 1313.83 195.741 1318.44 Q192.686 1323.02 186.876 1323.02 Q181.065 1323.02 177.987 1318.44 Q174.931 1313.83 174.931 1305.11 Q174.931 1296.36 177.987 1291.77 Q181.065 1287.17 186.876 1287.17 Z\" fill=\"#000000\" fill-rule=\"evenodd\" fill-opacity=\"1\" /><path clip-path=\"url(#clip310)\" d=\"M 0 0 M125.88 1257.67 L133.519 1257.67 L133.519 1231.3 L125.209 1232.97 L125.209 1228.71 L133.473 1227.04 L138.149 1227.04 L138.149 1257.67 L145.788 1257.67 L145.788 1261.6 L125.88 1261.6 L125.88 1257.67 Z\" fill=\"#000000\" fill-rule=\"evenodd\" fill-opacity=\"1\" /><path clip-path=\"url(#clip310)\" d=\"M 0 0 M150.903 1227.04 L169.26 1227.04 L169.26 1230.98 L155.186 1230.98 L155.186 1239.45 Q156.204 1239.1 157.223 1238.94 Q158.241 1238.75 159.26 1238.75 Q165.047 1238.75 168.427 1241.92 Q171.806 1245.1 171.806 1250.51 Q171.806 1256.09 168.334 1259.19 Q164.862 1262.27 158.542 1262.27 Q156.366 1262.27 154.098 1261.9 Q151.853 1261.53 149.445 1260.79 L149.445 1256.09 Q151.528 1257.23 153.751 1257.78 Q155.973 1258.34 158.45 1258.34 Q162.454 1258.34 164.792 1256.23 Q167.13 1254.12 167.13 1250.51 Q167.13 1246.9 164.792 1244.79 Q162.454 1242.69 158.45 1242.69 Q156.575 1242.69 154.7 1243.11 Q152.848 1243.52 150.903 1244.4 L150.903 1227.04 Z\" fill=\"#000000\" fill-rule=\"evenodd\" fill-opacity=\"1\" /><path clip-path=\"url(#clip310)\" d=\"M 0 0 M186.876 1230.12 Q183.264 1230.12 181.436 1233.68 Q179.63 1237.23 179.63 1244.36 Q179.63 1251.46 181.436 1255.03 Q183.264 1258.57 186.876 1258.57 Q190.51 1258.57 192.315 1255.03 Q194.144 1251.46 194.144 1244.36 Q194.144 1237.23 192.315 1233.68 Q190.51 1230.12 186.876 1230.12 M186.876 1226.42 Q192.686 1226.42 195.741 1231.02 Q198.82 1235.61 198.82 1244.36 Q198.82 1253.08 195.741 1257.69 Q192.686 1262.27 186.876 1262.27 Q181.065 1262.27 177.987 1257.69 Q174.931 1253.08 174.931 1244.36 Q174.931 1235.61 177.987 1231.02 Q181.065 1226.42 186.876 1226.42 Z\" fill=\"#000000\" fill-rule=\"evenodd\" fill-opacity=\"1\" /><path clip-path=\"url(#clip310)\" d=\"M 0 0 M128.473 1196.91 L144.792 1196.91 L144.792 1200.85 L122.848 1200.85 L122.848 1196.91 Q125.51 1194.16 130.093 1189.53 Q134.7 1184.88 135.88 1183.53 Q138.126 1181.01 139.005 1179.27 Q139.908 1177.51 139.908 1175.83 Q139.908 1173.07 137.964 1171.33 Q136.042 1169.6 132.941 1169.6 Q130.742 1169.6 128.288 1170.36 Q125.857 1171.13 123.08 1172.68 L123.08 1167.95 Q125.904 1166.82 128.357 1166.24 Q130.811 1165.66 132.848 1165.66 Q138.218 1165.66 141.413 1168.35 Q144.607 1171.03 144.607 1175.52 Q144.607 1177.65 143.797 1179.58 Q143.01 1181.47 140.904 1184.07 Q140.325 1184.74 137.223 1187.95 Q134.121 1191.15 128.473 1196.91 Z\" fill=\"#000000\" fill-rule=\"evenodd\" fill-opacity=\"1\" /><path clip-path=\"url(#clip310)\" d=\"M 0 0 M159.862 1169.37 Q156.251 1169.37 154.422 1172.93 Q152.616 1176.47 152.616 1183.6 Q152.616 1190.71 154.422 1194.27 Q156.251 1197.82 159.862 1197.82 Q163.496 1197.82 165.302 1194.27 Q167.13 1190.71 167.13 1183.6 Q167.13 1176.47 165.302 1172.93 Q163.496 1169.37 159.862 1169.37 M159.862 1165.66 Q165.672 1165.66 168.727 1170.27 Q171.806 1174.85 171.806 1183.6 Q171.806 1192.33 168.727 1196.94 Q165.672 1201.52 159.862 1201.52 Q154.052 1201.52 150.973 1196.94 Q147.917 1192.33 147.917 1183.6 Q147.917 1174.85 150.973 1170.27 Q154.052 1165.66 159.862 1165.66 Z\" fill=\"#000000\" fill-rule=\"evenodd\" fill-opacity=\"1\" /><path clip-path=\"url(#clip310)\" d=\"M 0 0 M186.876 1169.37 Q183.264 1169.37 181.436 1172.93 Q179.63 1176.47 179.63 1183.6 Q179.63 1190.71 181.436 1194.27 Q183.264 1197.82 186.876 1197.82 Q190.51 1197.82 192.315 1194.27 Q194.144 1190.71 194.144 1183.6 Q194.144 1176.47 192.315 1172.93 Q190.51 1169.37 186.876 1169.37 M186.876 1165.66 Q192.686 1165.66 195.741 1170.27 Q198.82 1174.85 198.82 1183.6 Q198.82 1192.33 195.741 1196.94 Q192.686 1201.52 186.876 1201.52 Q181.065 1201.52 177.987 1196.94 Q174.931 1192.33 174.931 1183.6 Q174.931 1174.85 177.987 1170.27 Q181.065 1165.66 186.876 1165.66 Z\" fill=\"#000000\" fill-rule=\"evenodd\" fill-opacity=\"1\" /><path clip-path=\"url(#clip310)\" d=\"M 0 0 M129.468 1136.16 L145.788 1136.16 L145.788 1140.1 L123.843 1140.1 L123.843 1136.16 Q126.505 1133.41 131.089 1128.78 Q135.695 1124.12 136.876 1122.78 Q139.121 1120.26 140.001 1118.52 Q140.904 1116.76 140.904 1115.07 Q140.904 1112.32 138.959 1110.58 Q137.038 1108.85 133.936 1108.85 Q131.737 1108.85 129.283 1109.61 Q126.853 1110.37 124.075 1111.92 L124.075 1107.2 Q126.899 1106.07 129.353 1105.49 Q131.806 1104.91 133.843 1104.91 Q139.214 1104.91 142.408 1107.6 Q145.603 1110.28 145.603 1114.77 Q145.603 1116.9 144.792 1118.82 Q144.005 1120.72 141.899 1123.31 Q141.32 1123.98 138.218 1127.2 Q135.117 1130.4 129.468 1136.16 Z\" fill=\"#000000\" fill-rule=\"evenodd\" fill-opacity=\"1\" /><path clip-path=\"url(#clip310)\" d=\"M 0 0 M150.903 1105.54 L169.26 1105.54 L169.26 1109.47 L155.186 1109.47 L155.186 1117.94 Q156.204 1117.6 157.223 1117.43 Q158.241 1117.25 159.26 1117.25 Q165.047 1117.25 168.427 1120.42 Q171.806 1123.59 171.806 1129.01 Q171.806 1134.59 168.334 1137.69 Q164.862 1140.77 158.542 1140.77 Q156.366 1140.77 154.098 1140.4 Q151.853 1140.03 149.445 1139.29 L149.445 1134.59 Q151.528 1135.72 153.751 1136.28 Q155.973 1136.83 158.45 1136.83 Q162.454 1136.83 164.792 1134.73 Q167.13 1132.62 167.13 1129.01 Q167.13 1125.4 164.792 1123.29 Q162.454 1121.18 158.45 1121.18 Q156.575 1121.18 154.7 1121.6 Q152.848 1122.02 150.903 1122.9 L150.903 1105.54 Z\" fill=\"#000000\" fill-rule=\"evenodd\" fill-opacity=\"1\" /><path clip-path=\"url(#clip310)\" d=\"M 0 0 M186.876 1108.61 Q183.264 1108.61 181.436 1112.18 Q179.63 1115.72 179.63 1122.85 Q179.63 1129.96 181.436 1133.52 Q183.264 1137.06 186.876 1137.06 Q190.51 1137.06 192.315 1133.52 Q194.144 1129.96 194.144 1122.85 Q194.144 1115.72 192.315 1112.18 Q190.51 1108.61 186.876 1108.61 M186.876 1104.91 Q192.686 1104.91 195.741 1109.52 Q198.82 1114.1 198.82 1122.85 Q198.82 1131.58 195.741 1136.18 Q192.686 1140.77 186.876 1140.77 Q181.065 1140.77 177.987 1136.18 Q174.931 1131.58 174.931 1122.85 Q174.931 1114.1 177.987 1109.52 Q181.065 1104.91 186.876 1104.91 Z\" fill=\"#000000\" fill-rule=\"evenodd\" fill-opacity=\"1\" /><path clip-path=\"url(#clip310)\" d=\"M 0 0 M49.0721 1424.97 L49.0721 1415.39 L81.4099 1403.26 L49.0721 1391.07 L49.0721 1381.49 L96.5921 1381.49 L96.5921 1387.76 L54.8649 1387.76 L87.4573 1400.01 L87.4573 1406.47 L54.8649 1418.73 L96.5921 1418.73 L96.5921 1424.97 L49.0721 1424.97 Z\" fill=\"#000000\" fill-rule=\"evenodd\" fill-opacity=\"1\" /><path clip-path=\"url(#clip310)\" d=\"M 0 0 M65.05 1361.53 Q65.05 1366.24 68.7421 1368.98 Q72.4024 1371.72 78.7999 1371.72 Q85.1975 1371.72 88.8896 1369.01 Q92.5499 1366.27 92.5499 1361.53 Q92.5499 1356.85 88.8577 1354.12 Q85.1656 1351.38 78.7999 1351.38 Q72.466 1351.38 68.7739 1354.12 Q65.05 1356.85 65.05 1361.53 M60.0847 1361.53 Q60.0847 1353.89 65.05 1349.53 Q70.0152 1345.17 78.7999 1345.17 Q87.5528 1345.17 92.5499 1349.53 Q97.5151 1353.89 97.5151 1361.53 Q97.5151 1369.2 92.5499 1373.56 Q87.5528 1377.89 78.7999 1377.89 Q70.0152 1377.89 65.05 1373.56 Q60.0847 1369.2 60.0847 1361.53 Z\" fill=\"#000000\" fill-rule=\"evenodd\" fill-opacity=\"1\" /><path clip-path=\"url(#clip310)\" d=\"M 0 0 M66.355 1315.57 L47.0669 1315.57 L47.0669 1309.72 L96.5921 1309.72 L96.5921 1315.57 L91.2449 1315.57 Q94.4277 1317.42 95.9873 1320.25 Q97.5151 1323.05 97.5151 1327 Q97.5151 1333.46 92.3589 1337.53 Q87.2027 1341.58 78.7999 1341.58 Q70.3972 1341.58 65.241 1337.53 Q60.0847 1333.46 60.0847 1327 Q60.0847 1323.05 61.6443 1320.25 Q63.1721 1317.42 66.355 1315.57 M78.7999 1335.53 Q85.2611 1335.53 88.9532 1332.89 Q92.6135 1330.21 92.6135 1325.57 Q92.6135 1320.92 88.9532 1318.25 Q85.2611 1315.57 78.7999 1315.57 Q72.3387 1315.57 68.6785 1318.25 Q64.9863 1320.92 64.9863 1325.57 Q64.9863 1330.21 68.6785 1332.89 Q72.3387 1335.53 78.7999 1335.53 Z\" fill=\"#000000\" fill-rule=\"evenodd\" fill-opacity=\"1\" /><path clip-path=\"url(#clip310)\" d=\"M 0 0 M77.304 1273.08 L80.1686 1273.08 L80.1686 1300.01 Q86.216 1299.63 89.3988 1296.38 Q92.5499 1293.1 92.5499 1287.28 Q92.5499 1283.9 91.7223 1280.75 Q90.8948 1277.57 89.2397 1274.45 L94.7778 1274.45 Q96.1146 1277.6 96.8149 1280.91 Q97.5151 1284.22 97.5151 1287.63 Q97.5151 1296.16 92.5499 1301.15 Q87.5846 1306.12 79.1182 1306.12 Q70.3654 1306.12 65.241 1301.41 Q60.0847 1296.67 60.0847 1288.65 Q60.0847 1281.45 64.7317 1277.28 Q69.3469 1273.08 77.304 1273.08 M75.5852 1278.94 Q70.7791 1279 67.9146 1281.64 Q65.05 1284.25 65.05 1288.58 Q65.05 1293.48 67.8191 1296.44 Q70.5882 1299.37 75.6171 1299.82 L75.5852 1278.94 Z\" fill=\"#000000\" fill-rule=\"evenodd\" fill-opacity=\"1\" /><path clip-path=\"url(#clip310)\" d=\"M 0 0 M47.0669 1266.94 L47.0669 1261.08 L96.5921 1261.08 L96.5921 1266.94 L47.0669 1266.94 Z\" fill=\"#000000\" fill-rule=\"evenodd\" fill-opacity=\"1\" /><path clip-path=\"url(#clip310)\" d=\"M 0 0 M77.304 1224.45 L80.1686 1224.45 L80.1686 1251.37 Q86.216 1250.99 89.3988 1247.75 Q92.5499 1244.47 92.5499 1238.64 Q92.5499 1235.27 91.7223 1232.12 Q90.8948 1228.93 89.2397 1225.82 L94.7778 1225.82 Q96.1146 1228.97 96.8149 1232.28 Q97.5151 1235.59 97.5151 1238.99 Q97.5151 1247.52 92.5499 1252.52 Q87.5846 1257.48 79.1182 1257.48 Q70.3654 1257.48 65.241 1252.77 Q60.0847 1248.03 60.0847 1240.01 Q60.0847 1232.82 64.7317 1228.65 Q69.3469 1224.45 77.304 1224.45 M75.5852 1230.3 Q70.7791 1230.37 67.9146 1233.01 Q65.05 1235.62 65.05 1239.95 Q65.05 1244.85 67.8191 1247.81 Q70.5882 1250.74 75.6171 1251.18 L75.5852 1230.3 Z\" fill=\"#000000\" fill-rule=\"evenodd\" fill-opacity=\"1\" /><path clip-path=\"url(#clip310)\" d=\"M 0 0 M107.414 1191.22 L111.965 1191.22 L111.965 1225.08 L107.414 1225.08 L107.414 1191.22 Z\" fill=\"#000000\" fill-rule=\"evenodd\" fill-opacity=\"1\" /><path clip-path=\"url(#clip310)\" d=\"M 0 0 M61.9945 1162.35 L67.5326 1162.35 Q66.2595 1164.83 65.6229 1167.51 Q64.9863 1170.18 64.9863 1173.04 Q64.9863 1177.4 66.3231 1179.6 Q67.6599 1181.76 70.3335 1181.76 Q72.3706 1181.76 73.5482 1180.21 Q74.694 1178.65 75.7444 1173.93 L76.19 1171.93 Q77.5268 1165.69 79.9776 1163.08 Q82.3965 1160.44 86.7571 1160.44 Q91.7223 1160.44 94.6187 1164.39 Q97.5151 1168.3 97.5151 1175.18 Q97.5151 1178.04 96.9422 1181.16 Q96.4011 1184.25 95.2871 1187.68 L89.2397 1187.68 Q90.9266 1184.44 91.786 1181.29 Q92.6135 1178.14 92.6135 1175.05 Q92.6135 1170.91 91.2131 1168.68 Q89.7808 1166.46 87.2027 1166.46 Q84.8155 1166.46 83.5424 1168.08 Q82.2692 1169.67 81.0916 1175.11 L80.6142 1177.15 Q79.4683 1182.59 77.113 1185.01 Q74.7259 1187.43 70.5882 1187.43 Q65.5593 1187.43 62.822 1183.87 Q60.0847 1180.3 60.0847 1173.74 Q60.0847 1170.5 60.5622 1167.63 Q61.0396 1164.77 61.9945 1162.35 Z\" fill=\"#000000\" fill-rule=\"evenodd\" fill-opacity=\"1\" /><path clip-path=\"url(#clip310)\" d=\"M 0 0 M65.05 1140.48 Q65.05 1145.19 68.7421 1147.93 Q72.4024 1150.67 78.7999 1150.67 Q85.1975 1150.67 88.8896 1147.96 Q92.5499 1145.23 92.5499 1140.48 Q92.5499 1135.8 88.8577 1133.07 Q85.1656 1130.33 78.7999 1130.33 Q72.466 1130.33 68.7739 1133.07 Q65.05 1135.8 65.05 1140.48 M60.0847 1140.48 Q60.0847 1132.84 65.05 1128.48 Q70.0152 1124.12 78.7999 1124.12 Q87.5528 1124.12 92.5499 1128.48 Q97.5151 1132.84 97.5151 1140.48 Q97.5151 1148.15 92.5499 1152.51 Q87.5528 1156.84 78.7999 1156.84 Q70.0152 1156.84 65.05 1152.51 Q60.0847 1148.15 60.0847 1140.48 Z\" fill=\"#000000\" fill-rule=\"evenodd\" fill-opacity=\"1\" /><path clip-path=\"url(#clip310)\" d=\"M 0 0 M47.0669 1117.98 L47.0669 1112.12 L96.5921 1112.12 L96.5921 1117.98 L47.0669 1117.98 Z\" fill=\"#000000\" fill-rule=\"evenodd\" fill-opacity=\"1\" /><polyline clip-path=\"url(#clip314)\" style=\"stroke:#008000; stroke-width:4; stroke-opacity:1; fill:none\" points=\"\n",
       "  294.761,1414.43 314.742,1410.49 334.723,1406.56 354.703,1402.63 374.684,1398.7 394.664,1394.77 414.645,1390.83 434.625,1386.9 454.606,1382.97 474.586,1379.04 \n",
       "  494.567,1375.11 514.547,1371.17 534.528,1367.24 554.508,1363.31 574.489,1359.38 594.469,1355.44 614.45,1351.51 634.43,1347.58 654.411,1343.65 674.392,1339.72 \n",
       "  694.372,1335.78 714.353,1331.85 734.333,1327.92 754.314,1323.99 774.294,1320.06 794.275,1316.12 814.255,1312.19 834.236,1308.26 854.216,1304.33 874.197,1300.39 \n",
       "  894.177,1296.46 914.158,1292.53 934.138,1288.6 954.119,1284.67 974.099,1280.73 994.08,1276.8 1014.06,1272.87 1034.04,1268.94 1054.02,1265 1074,1261.07 \n",
       "  1093.98,1257.14 1113.96,1253.21 1133.94,1249.28 1153.92,1245.34 1173.9,1241.41 1193.89,1237.48 1213.87,1233.55 1233.85,1229.62 1253.83,1225.68 1273.81,1221.75 \n",
       "  1293.79,1217.82 1313.77,1213.89 1333.75,1209.95 1353.73,1206.02 1373.71,1202.09 1393.69,1198.16 1413.67,1194.23 1433.65,1190.29 1453.63,1186.36 1473.61,1182.43 \n",
       "  1493.59,1178.5 1513.57,1174.57 1533.55,1170.63 1553.53,1166.7 1573.52,1162.77 1593.5,1158.84 1613.48,1154.9 1633.46,1150.97 1653.44,1147.04 1673.42,1143.11 \n",
       "  1693.4,1139.18 1713.38,1135.24 1733.36,1131.31 1753.34,1127.38 1773.32,1123.59 1793.3,1122.66 1813.28,1129.51 1833.26,1139.22 1853.24,1149.07 1873.22,1158.92 \n",
       "  1893.2,1168.78 1913.18,1178.63 1933.16,1188.48 1953.15,1198.33 1973.13,1208.19 1993.11,1218.04 2013.09,1227.89 2033.07,1237.74 2053.05,1247.6 2073.03,1257.45 \n",
       "  2093.01,1267.3 2112.99,1277.15 2132.97,1287.01 2152.95,1296.86 2172.93,1306.71 2192.91,1316.56 2212.89,1326.42 2232.87,1336.27 2252.85,1346.12 2272.83,1355.97 \n",
       "  2292.81,1365.83 \n",
       "  \"/>\n",
       "<path clip-path=\"url(#clip310)\" d=\"\n",
       "M1858.66 1245.18 L2282.16 1245.18 L2282.16 1124.22 L1858.66 1124.22  Z\n",
       "  \" fill=\"#ffffff\" fill-rule=\"evenodd\" fill-opacity=\"1\"/>\n",
       "<polyline clip-path=\"url(#clip310)\" style=\"stroke:#000000; stroke-width:4; stroke-opacity:1; fill:none\" points=\"\n",
       "  1858.66,1245.18 2282.16,1245.18 2282.16,1124.22 1858.66,1124.22 1858.66,1245.18 \n",
       "  \"/>\n",
       "<polyline clip-path=\"url(#clip310)\" style=\"stroke:#008000; stroke-width:4; stroke-opacity:1; fill:none\" points=\"\n",
       "  1882.19,1184.7 2023.39,1184.7 \n",
       "  \"/>\n",
       "<path clip-path=\"url(#clip310)\" d=\"M 0 0 M2046.92 1167.42 L2066.78 1167.42 L2066.78 1171.35 L2051.6 1171.35 L2051.6 1181.54 L2065.3 1181.54 L2065.3 1185.48 L2051.6 1185.48 L2051.6 1201.98 L2046.92 1201.98 L2046.92 1167.42 Z\" fill=\"#000000\" fill-rule=\"evenodd\" fill-opacity=\"1\" /><path clip-path=\"url(#clip310)\" d=\"M 0 0 M2067.8 1176.05 L2072.06 1176.05 L2072.06 1201.98 L2067.8 1201.98 L2067.8 1176.05 M2067.8 1165.96 L2072.06 1165.96 L2072.06 1171.35 L2067.8 1171.35 L2067.8 1165.96 Z\" fill=\"#000000\" fill-rule=\"evenodd\" fill-opacity=\"1\" /><path clip-path=\"url(#clip310)\" d=\"M 0 0 M2098.08 1186.33 L2098.08 1201.98 L2093.82 1201.98 L2093.82 1186.47 Q2093.82 1182.79 2092.39 1180.96 Q2090.95 1179.13 2088.08 1179.13 Q2084.63 1179.13 2082.64 1181.33 Q2080.65 1183.53 2080.65 1187.33 L2080.65 1201.98 L2076.37 1201.98 L2076.37 1176.05 L2080.65 1176.05 L2080.65 1180.08 Q2082.18 1177.74 2084.24 1176.59 Q2086.32 1175.43 2089.03 1175.43 Q2093.5 1175.43 2095.79 1178.21 Q2098.08 1180.96 2098.08 1186.33 Z\" fill=\"#000000\" fill-rule=\"evenodd\" fill-opacity=\"1\" /><path clip-path=\"url(#clip310)\" d=\"M 0 0 M2102.55 1176.05 L2106.81 1176.05 L2106.81 1201.98 L2102.55 1201.98 L2102.55 1176.05 M2102.55 1165.96 L2106.81 1165.96 L2106.81 1171.35 L2102.55 1171.35 L2102.55 1165.96 Z\" fill=\"#000000\" fill-rule=\"evenodd\" fill-opacity=\"1\" /><path clip-path=\"url(#clip310)\" d=\"M 0 0 M2115.49 1168.69 L2115.49 1176.05 L2124.26 1176.05 L2124.26 1179.36 L2115.49 1179.36 L2115.49 1193.44 Q2115.49 1196.61 2116.34 1197.51 Q2117.22 1198.41 2119.89 1198.41 L2124.26 1198.41 L2124.26 1201.98 L2119.89 1201.98 Q2114.95 1201.98 2113.08 1200.15 Q2111.2 1198.3 2111.2 1193.44 L2111.2 1179.36 L2108.08 1179.36 L2108.08 1176.05 L2111.2 1176.05 L2111.2 1168.69 L2115.49 1168.69 Z\" fill=\"#000000\" fill-rule=\"evenodd\" fill-opacity=\"1\" /><path clip-path=\"url(#clip310)\" d=\"M 0 0 M2150.9 1187.95 L2150.9 1190.04 L2131.32 1190.04 Q2131.6 1194.43 2133.96 1196.75 Q2136.34 1199.04 2140.58 1199.04 Q2143.03 1199.04 2145.32 1198.44 Q2147.64 1197.84 2149.91 1196.63 L2149.91 1200.66 Q2147.62 1201.63 2145.21 1202.14 Q2142.8 1202.65 2140.32 1202.65 Q2134.12 1202.65 2130.49 1199.04 Q2126.88 1195.43 2126.88 1189.27 Q2126.88 1182.91 2130.3 1179.18 Q2133.75 1175.43 2139.58 1175.43 Q2144.82 1175.43 2147.85 1178.81 Q2150.9 1182.17 2150.9 1187.95 M2146.64 1186.7 Q2146.6 1183.21 2144.68 1181.12 Q2142.78 1179.04 2139.63 1179.04 Q2136.07 1179.04 2133.91 1181.05 Q2131.78 1183.07 2131.46 1186.73 L2146.64 1186.7 Z\" fill=\"#000000\" fill-rule=\"evenodd\" fill-opacity=\"1\" /><path clip-path=\"url(#clip310)\" d=\"M 0 0 M2175.07 1209.85 L2175.07 1213.16 L2150.44 1213.16 L2150.44 1209.85 L2175.07 1209.85 Z\" fill=\"#000000\" fill-rule=\"evenodd\" fill-opacity=\"1\" /><path clip-path=\"url(#clip310)\" d=\"M 0 0 M2184.4 1171.26 L2184.4 1198.14 L2190.05 1198.14 Q2197.2 1198.14 2200.51 1194.9 Q2203.84 1191.66 2203.84 1184.67 Q2203.84 1177.72 2200.51 1174.5 Q2197.2 1171.26 2190.05 1171.26 L2184.4 1171.26 M2179.72 1167.42 L2189.33 1167.42 Q2199.38 1167.42 2204.07 1171.61 Q2208.77 1175.78 2208.77 1184.67 Q2208.77 1193.6 2204.05 1197.79 Q2199.33 1201.98 2189.33 1201.98 L2179.72 1201.98 L2179.72 1167.42 Z\" fill=\"#000000\" fill-rule=\"evenodd\" fill-opacity=\"1\" /><path clip-path=\"url(#clip310)\" d=\"M 0 0 M2213.24 1176.05 L2217.5 1176.05 L2217.5 1201.98 L2213.24 1201.98 L2213.24 1176.05 M2213.24 1165.96 L2217.5 1165.96 L2217.5 1171.35 L2213.24 1171.35 L2213.24 1165.96 Z\" fill=\"#000000\" fill-rule=\"evenodd\" fill-opacity=\"1\" /><path clip-path=\"url(#clip310)\" d=\"M 0 0 M2235.09 1165.96 L2235.09 1169.5 L2231.02 1169.5 Q2228.73 1169.5 2227.82 1170.43 Q2226.94 1171.35 2226.94 1173.76 L2226.94 1176.05 L2233.96 1176.05 L2233.96 1179.36 L2226.94 1179.36 L2226.94 1201.98 L2222.66 1201.98 L2222.66 1179.36 L2218.59 1179.36 L2218.59 1176.05 L2222.66 1176.05 L2222.66 1174.25 Q2222.66 1169.92 2224.68 1167.95 Q2226.69 1165.96 2231.07 1165.96 L2235.09 1165.96 Z\" fill=\"#000000\" fill-rule=\"evenodd\" fill-opacity=\"1\" /></svg>\n"
      ]
     },
     "execution_count": 62,
     "metadata": {},
     "output_type": "execute_result"
    }
   ],
   "source": [
    "xvec = Vector(0:dx:l)\n",
    "fvec = source_function.(xvec)\n",
    "\n",
    "p1 = plot(xvec, fvec, label = \"Source\", xlabel = \"x\", ylabel = \"Source\")\n",
    "\n",
    "p2 = plot(xvec, set_boundarys(N), label = \"Reference\", xlabel = \"x\", ylabel = \"Reference_sol\", linecolor = :red)\n",
    "\n",
    "p3 = plot(xvec, heat(N), label = \"Finite_Dif\", xlabel = \"x\", ylabel = \"Modele_sol\", linecolor = :green)\n",
    "\n",
    "plot(p1, p2, p3, layout = (3, 1))\n"
   ]
  },
  {
   "cell_type": "code",
   "execution_count": 63,
   "id": "5c622d7c",
   "metadata": {},
   "outputs": [
    {
     "data": {
      "image/svg+xml": [
       "<?xml version=\"1.0\" encoding=\"utf-8\"?>\n",
       "<svg xmlns=\"http://www.w3.org/2000/svg\" xmlns:xlink=\"http://www.w3.org/1999/xlink\" width=\"600\" height=\"400\" viewBox=\"0 0 2400 1600\">\n",
       "<defs>\n",
       "  <clipPath id=\"clip350\">\n",
       "    <rect x=\"0\" y=\"0\" width=\"2400\" height=\"1600\"/>\n",
       "  </clipPath>\n",
       "</defs>\n",
       "<path clip-path=\"url(#clip350)\" d=\"\n",
       "M0 1600 L2400 1600 L2400 0 L0 0  Z\n",
       "  \" fill=\"#ffffff\" fill-rule=\"evenodd\" fill-opacity=\"1\"/>\n",
       "<defs>\n",
       "  <clipPath id=\"clip351\">\n",
       "    <rect x=\"480\" y=\"0\" width=\"1681\" height=\"1600\"/>\n",
       "  </clipPath>\n",
       "</defs>\n",
       "<path clip-path=\"url(#clip350)\" d=\"\n",
       "M292.158 1423.18 L2352.76 1423.18 L2352.76 123.472 L292.158 123.472  Z\n",
       "  \" fill=\"#ffffff\" fill-rule=\"evenodd\" fill-opacity=\"1\"/>\n",
       "<defs>\n",
       "  <clipPath id=\"clip352\">\n",
       "    <rect x=\"292\" y=\"123\" width=\"2062\" height=\"1301\"/>\n",
       "  </clipPath>\n",
       "</defs>\n",
       "<polyline clip-path=\"url(#clip352)\" style=\"stroke:#000000; stroke-width:2; stroke-opacity:0.1; fill:none\" points=\"\n",
       "  350.476,1423.18 350.476,123.472 \n",
       "  \"/>\n",
       "<polyline clip-path=\"url(#clip352)\" style=\"stroke:#000000; stroke-width:2; stroke-opacity:0.1; fill:none\" points=\"\n",
       "  836.467,1423.18 836.467,123.472 \n",
       "  \"/>\n",
       "<polyline clip-path=\"url(#clip352)\" style=\"stroke:#000000; stroke-width:2; stroke-opacity:0.1; fill:none\" points=\"\n",
       "  1322.46,1423.18 1322.46,123.472 \n",
       "  \"/>\n",
       "<polyline clip-path=\"url(#clip352)\" style=\"stroke:#000000; stroke-width:2; stroke-opacity:0.1; fill:none\" points=\"\n",
       "  1808.45,1423.18 1808.45,123.472 \n",
       "  \"/>\n",
       "<polyline clip-path=\"url(#clip352)\" style=\"stroke:#000000; stroke-width:2; stroke-opacity:0.1; fill:none\" points=\"\n",
       "  2294.44,1423.18 2294.44,123.472 \n",
       "  \"/>\n",
       "<polyline clip-path=\"url(#clip350)\" style=\"stroke:#000000; stroke-width:4; stroke-opacity:1; fill:none\" points=\"\n",
       "  292.158,1423.18 2352.76,1423.18 \n",
       "  \"/>\n",
       "<polyline clip-path=\"url(#clip350)\" style=\"stroke:#000000; stroke-width:4; stroke-opacity:1; fill:none\" points=\"\n",
       "  350.476,1423.18 350.476,1407.58 \n",
       "  \"/>\n",
       "<polyline clip-path=\"url(#clip350)\" style=\"stroke:#000000; stroke-width:4; stroke-opacity:1; fill:none\" points=\"\n",
       "  836.467,1423.18 836.467,1407.58 \n",
       "  \"/>\n",
       "<polyline clip-path=\"url(#clip350)\" style=\"stroke:#000000; stroke-width:4; stroke-opacity:1; fill:none\" points=\"\n",
       "  1322.46,1423.18 1322.46,1407.58 \n",
       "  \"/>\n",
       "<polyline clip-path=\"url(#clip350)\" style=\"stroke:#000000; stroke-width:4; stroke-opacity:1; fill:none\" points=\"\n",
       "  1808.45,1423.18 1808.45,1407.58 \n",
       "  \"/>\n",
       "<polyline clip-path=\"url(#clip350)\" style=\"stroke:#000000; stroke-width:4; stroke-opacity:1; fill:none\" points=\"\n",
       "  2294.44,1423.18 2294.44,1407.58 \n",
       "  \"/>\n",
       "<path clip-path=\"url(#clip350)\" d=\"M 0 0 M350.476 1452.37 Q346.865 1452.37 345.037 1455.94 Q343.231 1459.48 343.231 1466.61 Q343.231 1473.71 345.037 1477.28 Q346.865 1480.82 350.476 1480.82 Q354.111 1480.82 355.916 1477.28 Q357.745 1473.71 357.745 1466.61 Q357.745 1459.48 355.916 1455.94 Q354.111 1452.37 350.476 1452.37 M350.476 1448.67 Q356.287 1448.67 359.342 1453.27 Q362.421 1457.86 362.421 1466.61 Q362.421 1475.33 359.342 1479.94 Q356.287 1484.52 350.476 1484.52 Q344.666 1484.52 341.588 1479.94 Q338.532 1475.33 338.532 1466.61 Q338.532 1457.86 341.588 1453.27 Q344.666 1448.67 350.476 1448.67 Z\" fill=\"#000000\" fill-rule=\"evenodd\" fill-opacity=\"1\" /><path clip-path=\"url(#clip350)\" d=\"M 0 0 M817.612 1479.92 L833.932 1479.92 L833.932 1483.85 L811.988 1483.85 L811.988 1479.92 Q814.65 1477.16 819.233 1472.53 Q823.839 1467.88 825.02 1466.54 Q827.265 1464.01 828.145 1462.28 Q829.048 1460.52 829.048 1458.83 Q829.048 1456.07 827.103 1454.34 Q825.182 1452.6 822.08 1452.6 Q819.881 1452.6 817.427 1453.37 Q814.997 1454.13 812.219 1455.68 L812.219 1450.96 Q815.043 1449.82 817.497 1449.25 Q819.95 1448.67 821.987 1448.67 Q827.358 1448.67 830.552 1451.35 Q833.747 1454.04 833.747 1458.53 Q833.747 1460.66 832.936 1462.58 Q832.149 1464.48 830.043 1467.07 Q829.464 1467.74 826.362 1470.96 Q823.261 1474.15 817.612 1479.92 Z\" fill=\"#000000\" fill-rule=\"evenodd\" fill-opacity=\"1\" /><path clip-path=\"url(#clip350)\" d=\"M 0 0 M849.001 1452.37 Q845.39 1452.37 843.561 1455.94 Q841.756 1459.48 841.756 1466.61 Q841.756 1473.71 843.561 1477.28 Q845.39 1480.82 849.001 1480.82 Q852.635 1480.82 854.441 1477.28 Q856.27 1473.71 856.27 1466.61 Q856.27 1459.48 854.441 1455.94 Q852.635 1452.37 849.001 1452.37 M849.001 1448.67 Q854.811 1448.67 857.867 1453.27 Q860.946 1457.86 860.946 1466.61 Q860.946 1475.33 857.867 1479.94 Q854.811 1484.52 849.001 1484.52 Q843.191 1484.52 840.112 1479.94 Q837.057 1475.33 837.057 1466.61 Q837.057 1457.86 840.112 1453.27 Q843.191 1448.67 849.001 1448.67 Z\" fill=\"#000000\" fill-rule=\"evenodd\" fill-opacity=\"1\" /><path clip-path=\"url(#clip350)\" d=\"M 0 0 M1311.96 1453.37 L1300.15 1471.81 L1311.96 1471.81 L1311.96 1453.37 M1310.73 1449.29 L1316.61 1449.29 L1316.61 1471.81 L1321.54 1471.81 L1321.54 1475.7 L1316.61 1475.7 L1316.61 1483.85 L1311.96 1483.85 L1311.96 1475.7 L1296.36 1475.7 L1296.36 1471.19 L1310.73 1449.29 Z\" fill=\"#000000\" fill-rule=\"evenodd\" fill-opacity=\"1\" /><path clip-path=\"url(#clip350)\" d=\"M 0 0 M1336.61 1452.37 Q1333 1452.37 1331.17 1455.94 Q1329.37 1459.48 1329.37 1466.61 Q1329.37 1473.71 1331.17 1477.28 Q1333 1480.82 1336.61 1480.82 Q1340.25 1480.82 1342.05 1477.28 Q1343.88 1473.71 1343.88 1466.61 Q1343.88 1459.48 1342.05 1455.94 Q1340.25 1452.37 1336.61 1452.37 M1336.61 1448.67 Q1342.42 1448.67 1345.48 1453.27 Q1348.56 1457.86 1348.56 1466.61 Q1348.56 1475.33 1345.48 1479.94 Q1342.42 1484.52 1336.61 1484.52 Q1330.8 1484.52 1327.72 1479.94 Q1324.67 1475.33 1324.67 1466.61 Q1324.67 1457.86 1327.72 1453.27 Q1330.8 1448.67 1336.61 1448.67 Z\" fill=\"#000000\" fill-rule=\"evenodd\" fill-opacity=\"1\" /><path clip-path=\"url(#clip350)\" d=\"M 0 0 M1795.35 1464.71 Q1792.2 1464.71 1790.35 1466.86 Q1788.52 1469.01 1788.52 1472.76 Q1788.52 1476.49 1790.35 1478.67 Q1792.2 1480.82 1795.35 1480.82 Q1798.49 1480.82 1800.32 1478.67 Q1802.17 1476.49 1802.17 1472.76 Q1802.17 1469.01 1800.32 1466.86 Q1798.49 1464.71 1795.35 1464.71 M1804.63 1450.06 L1804.63 1454.31 Q1802.87 1453.48 1801.06 1453.04 Q1799.28 1452.6 1797.52 1452.6 Q1792.89 1452.6 1790.44 1455.73 Q1788.01 1458.85 1787.66 1465.17 Q1789.03 1463.16 1791.09 1462.09 Q1793.15 1461 1795.62 1461 Q1800.83 1461 1803.84 1464.18 Q1806.87 1467.32 1806.87 1472.76 Q1806.87 1478.09 1803.72 1481.31 Q1800.58 1484.52 1795.35 1484.52 Q1789.35 1484.52 1786.18 1479.94 Q1783.01 1475.33 1783.01 1466.61 Q1783.01 1458.41 1786.9 1453.55 Q1790.78 1448.67 1797.34 1448.67 Q1799.1 1448.67 1800.88 1449.01 Q1802.68 1449.36 1804.63 1450.06 Z\" fill=\"#000000\" fill-rule=\"evenodd\" fill-opacity=\"1\" /><path clip-path=\"url(#clip350)\" d=\"M 0 0 M1821.94 1452.37 Q1818.33 1452.37 1816.5 1455.94 Q1814.7 1459.48 1814.7 1466.61 Q1814.7 1473.71 1816.5 1477.28 Q1818.33 1480.82 1821.94 1480.82 Q1825.58 1480.82 1827.38 1477.28 Q1829.21 1473.71 1829.21 1466.61 Q1829.21 1459.48 1827.38 1455.94 Q1825.58 1452.37 1821.94 1452.37 M1821.94 1448.67 Q1827.75 1448.67 1830.81 1453.27 Q1833.89 1457.86 1833.89 1466.61 Q1833.89 1475.33 1830.81 1479.94 Q1827.75 1484.52 1821.94 1484.52 Q1816.13 1484.52 1813.05 1479.94 Q1810 1475.33 1810 1466.61 Q1810 1457.86 1813.05 1453.27 Q1816.13 1448.67 1821.94 1448.67 Z\" fill=\"#000000\" fill-rule=\"evenodd\" fill-opacity=\"1\" /><path clip-path=\"url(#clip350)\" d=\"M 0 0 M2280.93 1467.44 Q2277.6 1467.44 2275.68 1469.22 Q2273.78 1471 2273.78 1474.13 Q2273.78 1477.25 2275.68 1479.04 Q2277.6 1480.82 2280.93 1480.82 Q2284.26 1480.82 2286.18 1479.04 Q2288.11 1477.23 2288.11 1474.13 Q2288.11 1471 2286.18 1469.22 Q2284.29 1467.44 2280.93 1467.44 M2276.25 1465.45 Q2273.25 1464.71 2271.56 1462.65 Q2269.89 1460.59 2269.89 1457.63 Q2269.89 1453.48 2272.83 1451.07 Q2275.79 1448.67 2280.93 1448.67 Q2286.09 1448.67 2289.03 1451.07 Q2291.97 1453.48 2291.97 1457.63 Q2291.97 1460.59 2290.28 1462.65 Q2288.62 1464.71 2285.63 1465.45 Q2289.01 1466.24 2290.88 1468.53 Q2292.78 1470.82 2292.78 1474.13 Q2292.78 1479.15 2289.7 1481.84 Q2286.65 1484.52 2280.93 1484.52 Q2275.21 1484.52 2272.13 1481.84 Q2269.08 1479.15 2269.08 1474.13 Q2269.08 1470.82 2270.98 1468.53 Q2272.87 1466.24 2276.25 1465.45 M2274.54 1458.06 Q2274.54 1460.75 2276.21 1462.25 Q2277.9 1463.76 2280.93 1463.76 Q2283.94 1463.76 2285.63 1462.25 Q2287.34 1460.75 2287.34 1458.06 Q2287.34 1455.38 2285.63 1453.88 Q2283.94 1452.37 2280.93 1452.37 Q2277.9 1452.37 2276.21 1453.88 Q2274.54 1455.38 2274.54 1458.06 Z\" fill=\"#000000\" fill-rule=\"evenodd\" fill-opacity=\"1\" /><path clip-path=\"url(#clip350)\" d=\"M 0 0 M2307.85 1452.37 Q2304.24 1452.37 2302.41 1455.94 Q2300.61 1459.48 2300.61 1466.61 Q2300.61 1473.71 2302.41 1477.28 Q2304.24 1480.82 2307.85 1480.82 Q2311.49 1480.82 2313.29 1477.28 Q2315.12 1473.71 2315.12 1466.61 Q2315.12 1459.48 2313.29 1455.94 Q2311.49 1452.37 2307.85 1452.37 M2307.85 1448.67 Q2313.66 1448.67 2316.72 1453.27 Q2319.8 1457.86 2319.8 1466.61 Q2319.8 1475.33 2316.72 1479.94 Q2313.66 1484.52 2307.85 1484.52 Q2302.04 1484.52 2298.96 1479.94 Q2295.91 1475.33 2295.91 1466.61 Q2295.91 1457.86 2298.96 1453.27 Q2302.04 1448.67 2307.85 1448.67 Z\" fill=\"#000000\" fill-rule=\"evenodd\" fill-opacity=\"1\" /><path clip-path=\"url(#clip350)\" d=\"M 0 0 M1031.67 1508.52 L1038.1 1508.52 L1038.1 1550.63 L1061.24 1550.63 L1061.24 1556.04 L1031.67 1556.04 L1031.67 1508.52 Z\" fill=\"#000000\" fill-rule=\"evenodd\" fill-opacity=\"1\" /><path clip-path=\"url(#clip350)\" d=\"M 0 0 M1096.73 1536.76 L1096.73 1539.62 L1069.8 1539.62 Q1070.18 1545.67 1073.43 1548.85 Q1076.71 1552 1082.53 1552 Q1085.91 1552 1089.06 1551.17 Q1092.24 1550.35 1095.36 1548.69 L1095.36 1554.23 Q1092.21 1555.57 1088.9 1556.27 Q1085.59 1556.97 1082.18 1556.97 Q1073.65 1556.97 1068.66 1552 Q1063.69 1547.04 1063.69 1538.57 Q1063.69 1529.82 1068.4 1524.69 Q1073.14 1519.54 1081.16 1519.54 Q1088.36 1519.54 1092.53 1524.18 Q1096.73 1528.8 1096.73 1536.76 M1090.87 1535.04 Q1090.81 1530.23 1088.17 1527.37 Q1085.56 1524.5 1081.23 1524.5 Q1076.33 1524.5 1073.37 1527.27 Q1070.44 1530.04 1069.99 1535.07 L1090.87 1535.04 Z\" fill=\"#000000\" fill-rule=\"evenodd\" fill-opacity=\"1\" /><path clip-path=\"url(#clip350)\" d=\"M 0 0 M1132.5 1534.53 L1132.5 1556.04 L1126.65 1556.04 L1126.65 1534.72 Q1126.65 1529.66 1124.67 1527.14 Q1122.7 1524.63 1118.75 1524.63 Q1114.01 1524.63 1111.27 1527.65 Q1108.54 1530.68 1108.54 1535.9 L1108.54 1556.04 L1102.65 1556.04 L1102.65 1520.4 L1108.54 1520.4 L1108.54 1525.93 Q1110.64 1522.72 1113.47 1521.13 Q1116.34 1519.54 1120.06 1519.54 Q1126.2 1519.54 1129.35 1523.36 Q1132.5 1527.14 1132.5 1534.53 Z\" fill=\"#000000\" fill-rule=\"evenodd\" fill-opacity=\"1\" /><path clip-path=\"url(#clip350)\" d=\"M 0 0 M1162.1 1537.81 Q1162.1 1531.44 1159.46 1527.94 Q1156.85 1524.44 1152.11 1524.44 Q1147.4 1524.44 1144.76 1527.94 Q1142.15 1531.44 1142.15 1537.81 Q1142.15 1544.14 1144.76 1547.64 Q1147.4 1551.14 1152.11 1551.14 Q1156.85 1551.14 1159.46 1547.64 Q1162.1 1544.14 1162.1 1537.81 M1167.96 1551.62 Q1167.96 1560.72 1163.92 1565.15 Q1159.88 1569.6 1151.54 1569.6 Q1148.45 1569.6 1145.71 1569.13 Q1142.98 1568.68 1140.4 1567.72 L1140.4 1562.03 Q1142.98 1563.43 1145.49 1564.1 Q1148 1564.76 1150.61 1564.76 Q1156.38 1564.76 1159.24 1561.74 Q1162.1 1558.75 1162.1 1552.67 L1162.1 1549.77 Q1160.29 1552.92 1157.46 1554.48 Q1154.62 1556.04 1150.68 1556.04 Q1144.12 1556.04 1140.11 1551.05 Q1136.1 1546.05 1136.1 1537.81 Q1136.1 1529.53 1140.11 1524.53 Q1144.12 1519.54 1150.68 1519.54 Q1154.62 1519.54 1157.46 1521.1 Q1160.29 1522.66 1162.1 1525.81 L1162.1 1520.4 L1167.96 1520.4 L1167.96 1551.62 Z\" fill=\"#000000\" fill-rule=\"evenodd\" fill-opacity=\"1\" /><path clip-path=\"url(#clip350)\" d=\"M 0 0 M1179.9 1510.27 L1179.9 1520.4 L1191.96 1520.4 L1191.96 1524.95 L1179.9 1524.95 L1179.9 1544.3 Q1179.9 1548.66 1181.07 1549.9 Q1182.28 1551.14 1185.94 1551.14 L1191.96 1551.14 L1191.96 1556.04 L1185.94 1556.04 Q1179.16 1556.04 1176.59 1553.53 Q1174.01 1550.98 1174.01 1544.3 L1174.01 1524.95 L1169.71 1524.95 L1169.71 1520.4 L1174.01 1520.4 L1174.01 1510.27 L1179.9 1510.27 Z\" fill=\"#000000\" fill-rule=\"evenodd\" fill-opacity=\"1\" /><path clip-path=\"url(#clip350)\" d=\"M 0 0 M1227.74 1534.53 L1227.74 1556.04 L1221.88 1556.04 L1221.88 1534.72 Q1221.88 1529.66 1219.91 1527.14 Q1217.93 1524.63 1213.99 1524.63 Q1209.24 1524.63 1206.51 1527.65 Q1203.77 1530.68 1203.77 1535.9 L1203.77 1556.04 L1197.88 1556.04 L1197.88 1506.52 L1203.77 1506.52 L1203.77 1525.93 Q1205.87 1522.72 1208.7 1521.13 Q1211.57 1519.54 1215.29 1519.54 Q1221.43 1519.54 1224.58 1523.36 Q1227.74 1527.14 1227.74 1534.53 Z\" fill=\"#000000\" fill-rule=\"evenodd\" fill-opacity=\"1\" /><path clip-path=\"url(#clip350)\" d=\"M 0 0 M1268.41 1524.5 Q1263.7 1524.5 1260.96 1528.19 Q1258.23 1531.85 1258.23 1538.25 Q1258.23 1544.65 1260.93 1548.34 Q1263.67 1552 1268.41 1552 Q1273.09 1552 1275.83 1548.31 Q1278.57 1544.62 1278.57 1538.25 Q1278.57 1531.92 1275.83 1528.23 Q1273.09 1524.5 1268.41 1524.5 M1268.41 1519.54 Q1276.05 1519.54 1280.41 1524.5 Q1284.77 1529.47 1284.77 1538.25 Q1284.77 1547 1280.41 1552 Q1276.05 1556.97 1268.41 1556.97 Q1260.74 1556.97 1256.38 1552 Q1252.05 1547 1252.05 1538.25 Q1252.05 1529.47 1256.38 1524.5 Q1260.74 1519.54 1268.41 1519.54 Z\" fill=\"#000000\" fill-rule=\"evenodd\" fill-opacity=\"1\" /><path clip-path=\"url(#clip350)\" d=\"M 0 0 M1308.96 1506.52 L1308.96 1511.39 L1303.36 1511.39 Q1300.21 1511.39 1298.97 1512.66 Q1297.76 1513.93 1297.76 1517.24 L1297.76 1520.4 L1307.4 1520.4 L1307.4 1524.95 L1297.76 1524.95 L1297.76 1556.04 L1291.87 1556.04 L1291.87 1524.95 L1286.27 1524.95 L1286.27 1520.4 L1291.87 1520.4 L1291.87 1517.91 Q1291.87 1511.96 1294.64 1509.26 Q1297.41 1506.52 1303.42 1506.52 L1308.96 1506.52 Z\" fill=\"#000000\" fill-rule=\"evenodd\" fill-opacity=\"1\" /><path clip-path=\"url(#clip350)\" d=\"M 0 0 M1341.62 1510.27 L1341.62 1520.4 L1353.68 1520.4 L1353.68 1524.95 L1341.62 1524.95 L1341.62 1544.3 Q1341.62 1548.66 1342.8 1549.9 Q1344 1551.14 1347.66 1551.14 L1353.68 1551.14 L1353.68 1556.04 L1347.66 1556.04 Q1340.89 1556.04 1338.31 1553.53 Q1335.73 1550.98 1335.73 1544.3 L1335.73 1524.95 L1331.43 1524.95 L1331.43 1520.4 L1335.73 1520.4 L1335.73 1510.27 L1341.62 1510.27 Z\" fill=\"#000000\" fill-rule=\"evenodd\" fill-opacity=\"1\" /><path clip-path=\"url(#clip350)\" d=\"M 0 0 M1389.46 1534.53 L1389.46 1556.04 L1383.6 1556.04 L1383.6 1534.72 Q1383.6 1529.66 1381.63 1527.14 Q1379.65 1524.63 1375.71 1524.63 Q1370.96 1524.63 1368.23 1527.65 Q1365.49 1530.68 1365.49 1535.9 L1365.49 1556.04 L1359.6 1556.04 L1359.6 1506.52 L1365.49 1506.52 L1365.49 1525.93 Q1367.59 1522.72 1370.42 1521.13 Q1373.29 1519.54 1377.01 1519.54 Q1383.15 1519.54 1386.3 1523.36 Q1389.46 1527.14 1389.46 1534.53 Z\" fill=\"#000000\" fill-rule=\"evenodd\" fill-opacity=\"1\" /><path clip-path=\"url(#clip350)\" d=\"M 0 0 M1426.09 1536.76 L1426.09 1539.62 L1399.16 1539.62 Q1399.55 1545.67 1402.79 1548.85 Q1406.07 1552 1411.89 1552 Q1415.27 1552 1418.42 1551.17 Q1421.6 1550.35 1424.72 1548.69 L1424.72 1554.23 Q1421.57 1555.57 1418.26 1556.27 Q1414.95 1556.97 1411.54 1556.97 Q1403.01 1556.97 1398.02 1552 Q1393.05 1547.04 1393.05 1538.57 Q1393.05 1529.82 1397.76 1524.69 Q1402.51 1519.54 1410.53 1519.54 Q1417.72 1519.54 1421.89 1524.18 Q1426.09 1528.8 1426.09 1536.76 M1420.23 1535.04 Q1420.17 1530.23 1417.53 1527.37 Q1414.92 1524.5 1410.59 1524.5 Q1405.69 1524.5 1402.73 1527.27 Q1399.8 1530.04 1399.35 1535.07 L1420.23 1535.04 Z\" fill=\"#000000\" fill-rule=\"evenodd\" fill-opacity=\"1\" /><path clip-path=\"url(#clip350)\" d=\"M 0 0 M1478.54 1538.25 Q1478.54 1531.79 1475.87 1528.13 Q1473.23 1524.44 1468.58 1524.44 Q1463.93 1524.44 1461.26 1528.13 Q1458.62 1531.79 1458.62 1538.25 Q1458.62 1544.71 1461.26 1548.4 Q1463.93 1552.07 1468.58 1552.07 Q1473.23 1552.07 1475.87 1548.4 Q1478.54 1544.71 1478.54 1538.25 M1458.62 1525.81 Q1460.47 1522.62 1463.27 1521.1 Q1466.1 1519.54 1470.01 1519.54 Q1476.51 1519.54 1480.55 1524.69 Q1484.62 1529.85 1484.62 1538.25 Q1484.62 1546.65 1480.55 1551.81 Q1476.51 1556.97 1470.01 1556.97 Q1466.1 1556.97 1463.27 1555.44 Q1460.47 1553.88 1458.62 1550.7 L1458.62 1556.04 L1452.73 1556.04 L1452.73 1506.52 L1458.62 1506.52 L1458.62 1525.81 Z\" fill=\"#000000\" fill-rule=\"evenodd\" fill-opacity=\"1\" /><path clip-path=\"url(#clip350)\" d=\"M 0 0 M1521.26 1536.76 L1521.26 1539.62 L1494.33 1539.62 Q1494.71 1545.67 1497.96 1548.85 Q1501.24 1552 1507.06 1552 Q1510.44 1552 1513.59 1551.17 Q1516.77 1550.35 1519.89 1548.69 L1519.89 1554.23 Q1516.74 1555.57 1513.43 1556.27 Q1510.12 1556.97 1506.71 1556.97 Q1498.18 1556.97 1493.18 1552 Q1488.22 1547.04 1488.22 1538.57 Q1488.22 1529.82 1492.93 1524.69 Q1497.67 1519.54 1505.69 1519.54 Q1512.89 1519.54 1517.06 1524.18 Q1521.26 1528.8 1521.26 1536.76 M1515.4 1535.04 Q1515.34 1530.23 1512.7 1527.37 Q1510.09 1524.5 1505.76 1524.5 Q1500.86 1524.5 1497.9 1527.27 Q1494.97 1530.04 1494.52 1535.07 L1515.4 1535.04 Z\" fill=\"#000000\" fill-rule=\"evenodd\" fill-opacity=\"1\" /><path clip-path=\"url(#clip350)\" d=\"M 0 0 M1543.6 1538.12 Q1536.5 1538.12 1533.77 1539.75 Q1531.03 1541.37 1531.03 1545.29 Q1531.03 1548.4 1533.07 1550.25 Q1535.13 1552.07 1538.67 1552.07 Q1543.54 1552.07 1546.47 1548.63 Q1549.43 1545.16 1549.43 1539.43 L1549.43 1538.12 L1543.6 1538.12 M1555.28 1535.71 L1555.28 1556.04 L1549.43 1556.04 L1549.43 1550.63 Q1547.42 1553.88 1544.43 1555.44 Q1541.44 1556.97 1537.11 1556.97 Q1531.63 1556.97 1528.39 1553.91 Q1525.17 1550.82 1525.17 1545.67 Q1525.17 1539.65 1529.18 1536.6 Q1533.23 1533.54 1541.21 1533.54 L1549.43 1533.54 L1549.43 1532.97 Q1549.43 1528.93 1546.75 1526.73 Q1544.11 1524.5 1539.3 1524.5 Q1536.25 1524.5 1533.35 1525.23 Q1530.46 1525.97 1527.78 1527.43 L1527.78 1522.02 Q1531 1520.78 1534.02 1520.17 Q1537.04 1519.54 1539.91 1519.54 Q1547.64 1519.54 1551.46 1523.55 Q1555.28 1527.56 1555.28 1535.71 Z\" fill=\"#000000\" fill-rule=\"evenodd\" fill-opacity=\"1\" /><path clip-path=\"url(#clip350)\" d=\"M 0 0 M1589.18 1527.24 Q1591.38 1523.29 1594.43 1521.41 Q1597.49 1519.54 1601.62 1519.54 Q1607.19 1519.54 1610.22 1523.45 Q1613.24 1527.33 1613.24 1534.53 L1613.24 1556.04 L1607.35 1556.04 L1607.35 1534.72 Q1607.35 1529.59 1605.54 1527.11 Q1603.73 1524.63 1600 1524.63 Q1595.45 1524.63 1592.81 1527.65 Q1590.17 1530.68 1590.17 1535.9 L1590.17 1556.04 L1584.28 1556.04 L1584.28 1534.72 Q1584.28 1529.56 1582.46 1527.11 Q1580.65 1524.63 1576.86 1524.63 Q1572.37 1524.63 1569.73 1527.68 Q1567.09 1530.71 1567.09 1535.9 L1567.09 1556.04 L1561.2 1556.04 L1561.2 1520.4 L1567.09 1520.4 L1567.09 1525.93 Q1569.1 1522.66 1571.9 1521.1 Q1574.7 1519.54 1578.55 1519.54 Q1582.43 1519.54 1585.14 1521.51 Q1587.87 1523.48 1589.18 1527.24 Z\" fill=\"#000000\" fill-rule=\"evenodd\" fill-opacity=\"1\" /><polyline clip-path=\"url(#clip352)\" style=\"stroke:#000000; stroke-width:2; stroke-opacity:0.1; fill:none\" points=\"\n",
       "  292.158,1386.4 2352.76,1386.4 \n",
       "  \"/>\n",
       "<polyline clip-path=\"url(#clip352)\" style=\"stroke:#000000; stroke-width:2; stroke-opacity:0.1; fill:none\" points=\"\n",
       "  292.158,1154.14 2352.76,1154.14 \n",
       "  \"/>\n",
       "<polyline clip-path=\"url(#clip352)\" style=\"stroke:#000000; stroke-width:2; stroke-opacity:0.1; fill:none\" points=\"\n",
       "  292.158,921.886 2352.76,921.886 \n",
       "  \"/>\n",
       "<polyline clip-path=\"url(#clip352)\" style=\"stroke:#000000; stroke-width:2; stroke-opacity:0.1; fill:none\" points=\"\n",
       "  292.158,689.631 2352.76,689.631 \n",
       "  \"/>\n",
       "<polyline clip-path=\"url(#clip352)\" style=\"stroke:#000000; stroke-width:2; stroke-opacity:0.1; fill:none\" points=\"\n",
       "  292.158,457.376 2352.76,457.376 \n",
       "  \"/>\n",
       "<polyline clip-path=\"url(#clip352)\" style=\"stroke:#000000; stroke-width:2; stroke-opacity:0.1; fill:none\" points=\"\n",
       "  292.158,225.121 2352.76,225.121 \n",
       "  \"/>\n",
       "<polyline clip-path=\"url(#clip350)\" style=\"stroke:#000000; stroke-width:4; stroke-opacity:1; fill:none\" points=\"\n",
       "  292.158,1423.18 292.158,123.472 \n",
       "  \"/>\n",
       "<polyline clip-path=\"url(#clip350)\" style=\"stroke:#000000; stroke-width:4; stroke-opacity:1; fill:none\" points=\"\n",
       "  292.158,1386.4 316.885,1386.4 \n",
       "  \"/>\n",
       "<polyline clip-path=\"url(#clip350)\" style=\"stroke:#000000; stroke-width:4; stroke-opacity:1; fill:none\" points=\"\n",
       "  292.158,1154.14 316.885,1154.14 \n",
       "  \"/>\n",
       "<polyline clip-path=\"url(#clip350)\" style=\"stroke:#000000; stroke-width:4; stroke-opacity:1; fill:none\" points=\"\n",
       "  292.158,921.886 316.885,921.886 \n",
       "  \"/>\n",
       "<polyline clip-path=\"url(#clip350)\" style=\"stroke:#000000; stroke-width:4; stroke-opacity:1; fill:none\" points=\"\n",
       "  292.158,689.631 316.885,689.631 \n",
       "  \"/>\n",
       "<polyline clip-path=\"url(#clip350)\" style=\"stroke:#000000; stroke-width:4; stroke-opacity:1; fill:none\" points=\"\n",
       "  292.158,457.376 316.885,457.376 \n",
       "  \"/>\n",
       "<polyline clip-path=\"url(#clip350)\" style=\"stroke:#000000; stroke-width:4; stroke-opacity:1; fill:none\" points=\"\n",
       "  292.158,225.121 316.885,225.121 \n",
       "  \"/>\n",
       "<path clip-path=\"url(#clip350)\" d=\"M 0 0 M126.205 1372.19 Q122.593 1372.19 120.765 1375.76 Q118.959 1379.3 118.959 1386.43 Q118.959 1393.54 120.765 1397.1 Q122.593 1400.64 126.205 1400.64 Q129.839 1400.64 131.644 1397.1 Q133.473 1393.54 133.473 1386.43 Q133.473 1379.3 131.644 1375.76 Q129.839 1372.19 126.205 1372.19 M126.205 1368.49 Q132.015 1368.49 135.07 1373.1 Q138.149 1377.68 138.149 1386.43 Q138.149 1395.16 135.07 1399.76 Q132.015 1404.35 126.205 1404.35 Q120.394 1404.35 117.316 1399.76 Q114.26 1395.16 114.26 1386.43 Q114.26 1377.68 117.316 1373.1 Q120.394 1368.49 126.205 1368.49 Z\" fill=\"#000000\" fill-rule=\"evenodd\" fill-opacity=\"1\" /><path clip-path=\"url(#clip350)\" d=\"M 0 0 M143.218 1397.8 L148.103 1397.8 L148.103 1403.68 L143.218 1403.68 L143.218 1397.8 Z\" fill=\"#000000\" fill-rule=\"evenodd\" fill-opacity=\"1\" /><path clip-path=\"url(#clip350)\" d=\"M 0 0 M163.172 1372.19 Q159.561 1372.19 157.732 1375.76 Q155.927 1379.3 155.927 1386.43 Q155.927 1393.54 157.732 1397.1 Q159.561 1400.64 163.172 1400.64 Q166.806 1400.64 168.612 1397.1 Q170.44 1393.54 170.44 1386.43 Q170.44 1379.3 168.612 1375.76 Q166.806 1372.19 163.172 1372.19 M163.172 1368.49 Q168.982 1368.49 172.038 1373.1 Q175.116 1377.68 175.116 1386.43 Q175.116 1395.16 172.038 1399.76 Q168.982 1404.35 163.172 1404.35 Q157.362 1404.35 154.283 1399.76 Q151.228 1395.16 151.228 1386.43 Q151.228 1377.68 154.283 1373.1 Q157.362 1368.49 163.172 1368.49 Z\" fill=\"#000000\" fill-rule=\"evenodd\" fill-opacity=\"1\" /><path clip-path=\"url(#clip350)\" d=\"M 0 0 M190.186 1372.19 Q186.575 1372.19 184.746 1375.76 Q182.94 1379.3 182.94 1386.43 Q182.94 1393.54 184.746 1397.1 Q186.575 1400.64 190.186 1400.64 Q193.82 1400.64 195.625 1397.1 Q197.454 1393.54 197.454 1386.43 Q197.454 1379.3 195.625 1375.76 Q193.82 1372.19 190.186 1372.19 M190.186 1368.49 Q195.996 1368.49 199.051 1373.1 Q202.13 1377.68 202.13 1386.43 Q202.13 1395.16 199.051 1399.76 Q195.996 1404.35 190.186 1404.35 Q184.376 1404.35 181.297 1399.76 Q178.241 1395.16 178.241 1386.43 Q178.241 1377.68 181.297 1373.1 Q184.376 1368.49 190.186 1368.49 Z\" fill=\"#000000\" fill-rule=\"evenodd\" fill-opacity=\"1\" /><path clip-path=\"url(#clip350)\" d=\"M 0 0 M217.199 1372.19 Q213.588 1372.19 211.76 1375.76 Q209.954 1379.3 209.954 1386.43 Q209.954 1393.54 211.76 1397.1 Q213.588 1400.64 217.199 1400.64 Q220.834 1400.64 222.639 1397.1 Q224.468 1393.54 224.468 1386.43 Q224.468 1379.3 222.639 1375.76 Q220.834 1372.19 217.199 1372.19 M217.199 1368.49 Q223.01 1368.49 226.065 1373.1 Q229.144 1377.68 229.144 1386.43 Q229.144 1395.16 226.065 1399.76 Q223.01 1404.35 217.199 1404.35 Q211.389 1404.35 208.311 1399.76 Q205.255 1395.16 205.255 1386.43 Q205.255 1377.68 208.311 1373.1 Q211.389 1368.49 217.199 1368.49 Z\" fill=\"#000000\" fill-rule=\"evenodd\" fill-opacity=\"1\" /><path clip-path=\"url(#clip350)\" d=\"M 0 0 M244.213 1372.19 Q240.602 1372.19 238.773 1375.76 Q236.968 1379.3 236.968 1386.43 Q236.968 1393.54 238.773 1397.1 Q240.602 1400.64 244.213 1400.64 Q247.847 1400.64 249.653 1397.1 Q251.482 1393.54 251.482 1386.43 Q251.482 1379.3 249.653 1375.76 Q247.847 1372.19 244.213 1372.19 M244.213 1368.49 Q250.023 1368.49 253.079 1373.1 Q256.158 1377.68 256.158 1386.43 Q256.158 1395.16 253.079 1399.76 Q250.023 1404.35 244.213 1404.35 Q238.403 1404.35 235.324 1399.76 Q232.269 1395.16 232.269 1386.43 Q232.269 1377.68 235.324 1373.1 Q238.403 1368.49 244.213 1368.49 Z\" fill=\"#000000\" fill-rule=\"evenodd\" fill-opacity=\"1\" /><path clip-path=\"url(#clip350)\" d=\"M 0 0 M127.2 1139.94 Q123.589 1139.94 121.76 1143.5 Q119.955 1147.05 119.955 1154.18 Q119.955 1161.28 121.76 1164.85 Q123.589 1168.39 127.2 1168.39 Q130.834 1168.39 132.64 1164.85 Q134.468 1161.28 134.468 1154.18 Q134.468 1147.05 132.64 1143.5 Q130.834 1139.94 127.2 1139.94 M127.2 1136.24 Q133.01 1136.24 136.066 1140.84 Q139.144 1145.43 139.144 1154.18 Q139.144 1162.9 136.066 1167.51 Q133.01 1172.09 127.2 1172.09 Q121.39 1172.09 118.311 1167.51 Q115.256 1162.9 115.256 1154.18 Q115.256 1145.43 118.311 1140.84 Q121.39 1136.24 127.2 1136.24 Z\" fill=\"#000000\" fill-rule=\"evenodd\" fill-opacity=\"1\" /><path clip-path=\"url(#clip350)\" d=\"M 0 0 M144.214 1165.54 L149.098 1165.54 L149.098 1171.42 L144.214 1171.42 L144.214 1165.54 Z\" fill=\"#000000\" fill-rule=\"evenodd\" fill-opacity=\"1\" /><path clip-path=\"url(#clip350)\" d=\"M 0 0 M164.167 1139.94 Q160.556 1139.94 158.728 1143.5 Q156.922 1147.05 156.922 1154.18 Q156.922 1161.28 158.728 1164.85 Q160.556 1168.39 164.167 1168.39 Q167.802 1168.39 169.607 1164.85 Q171.436 1161.28 171.436 1154.18 Q171.436 1147.05 169.607 1143.5 Q167.802 1139.94 164.167 1139.94 M164.167 1136.24 Q169.977 1136.24 173.033 1140.84 Q176.112 1145.43 176.112 1154.18 Q176.112 1162.9 173.033 1167.51 Q169.977 1172.09 164.167 1172.09 Q158.357 1172.09 155.278 1167.51 Q152.223 1162.9 152.223 1154.18 Q152.223 1145.43 155.278 1140.84 Q158.357 1136.24 164.167 1136.24 Z\" fill=\"#000000\" fill-rule=\"evenodd\" fill-opacity=\"1\" /><path clip-path=\"url(#clip350)\" d=\"M 0 0 M191.181 1139.94 Q187.57 1139.94 185.741 1143.5 Q183.936 1147.05 183.936 1154.18 Q183.936 1161.28 185.741 1164.85 Q187.57 1168.39 191.181 1168.39 Q194.815 1168.39 196.621 1164.85 Q198.45 1161.28 198.45 1154.18 Q198.45 1147.05 196.621 1143.5 Q194.815 1139.94 191.181 1139.94 M191.181 1136.24 Q196.991 1136.24 200.047 1140.84 Q203.125 1145.43 203.125 1154.18 Q203.125 1162.9 200.047 1167.51 Q196.991 1172.09 191.181 1172.09 Q185.371 1172.09 182.292 1167.51 Q179.237 1162.9 179.237 1154.18 Q179.237 1145.43 182.292 1140.84 Q185.371 1136.24 191.181 1136.24 Z\" fill=\"#000000\" fill-rule=\"evenodd\" fill-opacity=\"1\" /><path clip-path=\"url(#clip350)\" d=\"M 0 0 M218.195 1139.94 Q214.584 1139.94 212.755 1143.5 Q210.949 1147.05 210.949 1154.18 Q210.949 1161.28 212.755 1164.85 Q214.584 1168.39 218.195 1168.39 Q221.829 1168.39 223.635 1164.85 Q225.463 1161.28 225.463 1154.18 Q225.463 1147.05 223.635 1143.5 Q221.829 1139.94 218.195 1139.94 M218.195 1136.24 Q224.005 1136.24 227.06 1140.84 Q230.139 1145.43 230.139 1154.18 Q230.139 1162.9 227.06 1167.51 Q224.005 1172.09 218.195 1172.09 Q212.385 1172.09 209.306 1167.51 Q206.25 1162.9 206.25 1154.18 Q206.25 1145.43 209.306 1140.84 Q212.385 1136.24 218.195 1136.24 Z\" fill=\"#000000\" fill-rule=\"evenodd\" fill-opacity=\"1\" /><path clip-path=\"url(#clip350)\" d=\"M 0 0 M235.255 1136.86 L253.611 1136.86 L253.611 1140.8 L239.537 1140.8 L239.537 1149.27 Q240.556 1148.92 241.574 1148.76 Q242.593 1148.57 243.611 1148.57 Q249.398 1148.57 252.778 1151.74 Q256.158 1154.92 256.158 1160.33 Q256.158 1165.91 252.685 1169.01 Q249.213 1172.09 242.894 1172.09 Q240.718 1172.09 238.449 1171.72 Q236.204 1171.35 233.797 1170.61 L233.797 1165.91 Q235.88 1167.05 238.102 1167.6 Q240.324 1168.16 242.801 1168.16 Q246.806 1168.16 249.144 1166.05 Q251.482 1163.94 251.482 1160.33 Q251.482 1156.72 249.144 1154.62 Q246.806 1152.51 242.801 1152.51 Q240.926 1152.51 239.051 1152.93 Q237.199 1153.34 235.255 1154.22 L235.255 1136.86 Z\" fill=\"#000000\" fill-rule=\"evenodd\" fill-opacity=\"1\" /><path clip-path=\"url(#clip350)\" d=\"M 0 0 M127.431 907.684 Q123.82 907.684 121.992 911.249 Q120.186 914.791 120.186 921.92 Q120.186 929.027 121.992 932.592 Q123.82 936.133 127.431 936.133 Q131.066 936.133 132.871 932.592 Q134.7 929.027 134.7 921.92 Q134.7 914.791 132.871 911.249 Q131.066 907.684 127.431 907.684 M127.431 903.981 Q133.242 903.981 136.297 908.587 Q139.376 913.17 139.376 921.92 Q139.376 930.647 136.297 935.254 Q133.242 939.837 127.431 939.837 Q121.621 939.837 118.543 935.254 Q115.487 930.647 115.487 921.92 Q115.487 913.17 118.543 908.587 Q121.621 903.981 127.431 903.981 Z\" fill=\"#000000\" fill-rule=\"evenodd\" fill-opacity=\"1\" /><path clip-path=\"url(#clip350)\" d=\"M 0 0 M144.445 933.286 L149.329 933.286 L149.329 939.166 L144.445 939.166 L144.445 933.286 Z\" fill=\"#000000\" fill-rule=\"evenodd\" fill-opacity=\"1\" /><path clip-path=\"url(#clip350)\" d=\"M 0 0 M164.399 907.684 Q160.788 907.684 158.959 911.249 Q157.153 914.791 157.153 921.92 Q157.153 929.027 158.959 932.592 Q160.788 936.133 164.399 936.133 Q168.033 936.133 169.839 932.592 Q171.667 929.027 171.667 921.92 Q171.667 914.791 169.839 911.249 Q168.033 907.684 164.399 907.684 M164.399 903.981 Q170.209 903.981 173.264 908.587 Q176.343 913.17 176.343 921.92 Q176.343 930.647 173.264 935.254 Q170.209 939.837 164.399 939.837 Q158.589 939.837 155.51 935.254 Q152.454 930.647 152.454 921.92 Q152.454 913.17 155.51 908.587 Q158.589 903.981 164.399 903.981 Z\" fill=\"#000000\" fill-rule=\"evenodd\" fill-opacity=\"1\" /><path clip-path=\"url(#clip350)\" d=\"M 0 0 M191.413 907.684 Q187.801 907.684 185.973 911.249 Q184.167 914.791 184.167 921.92 Q184.167 929.027 185.973 932.592 Q187.801 936.133 191.413 936.133 Q195.047 936.133 196.852 932.592 Q198.681 929.027 198.681 921.92 Q198.681 914.791 196.852 911.249 Q195.047 907.684 191.413 907.684 M191.413 903.981 Q197.223 903.981 200.278 908.587 Q203.357 913.17 203.357 921.92 Q203.357 930.647 200.278 935.254 Q197.223 939.837 191.413 939.837 Q185.602 939.837 182.524 935.254 Q179.468 930.647 179.468 921.92 Q179.468 913.17 182.524 908.587 Q185.602 903.981 191.413 903.981 Z\" fill=\"#000000\" fill-rule=\"evenodd\" fill-opacity=\"1\" /><path clip-path=\"url(#clip350)\" d=\"M 0 0 M209.237 935.23 L216.875 935.23 L216.875 908.865 L208.565 910.532 L208.565 906.272 L216.829 904.606 L221.505 904.606 L221.505 935.23 L229.144 935.23 L229.144 939.166 L209.237 939.166 L209.237 935.23 Z\" fill=\"#000000\" fill-rule=\"evenodd\" fill-opacity=\"1\" /><path clip-path=\"url(#clip350)\" d=\"M 0 0 M244.213 907.684 Q240.602 907.684 238.773 911.249 Q236.968 914.791 236.968 921.92 Q236.968 929.027 238.773 932.592 Q240.602 936.133 244.213 936.133 Q247.847 936.133 249.653 932.592 Q251.482 929.027 251.482 921.92 Q251.482 914.791 249.653 911.249 Q247.847 907.684 244.213 907.684 M244.213 903.981 Q250.023 903.981 253.079 908.587 Q256.158 913.17 256.158 921.92 Q256.158 930.647 253.079 935.254 Q250.023 939.837 244.213 939.837 Q238.403 939.837 235.324 935.254 Q232.269 930.647 232.269 921.92 Q232.269 913.17 235.324 908.587 Q238.403 903.981 244.213 903.981 Z\" fill=\"#000000\" fill-rule=\"evenodd\" fill-opacity=\"1\" /><path clip-path=\"url(#clip350)\" d=\"M 0 0 M128.427 675.429 Q124.816 675.429 122.987 678.994 Q121.181 682.536 121.181 689.665 Q121.181 696.772 122.987 700.337 Q124.816 703.878 128.427 703.878 Q132.061 703.878 133.867 700.337 Q135.695 696.772 135.695 689.665 Q135.695 682.536 133.867 678.994 Q132.061 675.429 128.427 675.429 M128.427 671.726 Q134.237 671.726 137.292 676.332 Q140.371 680.915 140.371 689.665 Q140.371 698.392 137.292 702.999 Q134.237 707.582 128.427 707.582 Q122.617 707.582 119.538 702.999 Q116.482 698.392 116.482 689.665 Q116.482 680.915 119.538 676.332 Q122.617 671.726 128.427 671.726 Z\" fill=\"#000000\" fill-rule=\"evenodd\" fill-opacity=\"1\" /><path clip-path=\"url(#clip350)\" d=\"M 0 0 M145.441 701.031 L150.325 701.031 L150.325 706.911 L145.441 706.911 L145.441 701.031 Z\" fill=\"#000000\" fill-rule=\"evenodd\" fill-opacity=\"1\" /><path clip-path=\"url(#clip350)\" d=\"M 0 0 M165.394 675.429 Q161.783 675.429 159.954 678.994 Q158.149 682.536 158.149 689.665 Q158.149 696.772 159.954 700.337 Q161.783 703.878 165.394 703.878 Q169.028 703.878 170.834 700.337 Q172.663 696.772 172.663 689.665 Q172.663 682.536 170.834 678.994 Q169.028 675.429 165.394 675.429 M165.394 671.726 Q171.204 671.726 174.26 676.332 Q177.339 680.915 177.339 689.665 Q177.339 698.392 174.26 702.999 Q171.204 707.582 165.394 707.582 Q159.584 707.582 156.505 702.999 Q153.45 698.392 153.45 689.665 Q153.45 680.915 156.505 676.332 Q159.584 671.726 165.394 671.726 Z\" fill=\"#000000\" fill-rule=\"evenodd\" fill-opacity=\"1\" /><path clip-path=\"url(#clip350)\" d=\"M 0 0 M192.408 675.429 Q188.797 675.429 186.968 678.994 Q185.163 682.536 185.163 689.665 Q185.163 696.772 186.968 700.337 Q188.797 703.878 192.408 703.878 Q196.042 703.878 197.848 700.337 Q199.676 696.772 199.676 689.665 Q199.676 682.536 197.848 678.994 Q196.042 675.429 192.408 675.429 M192.408 671.726 Q198.218 671.726 201.274 676.332 Q204.352 680.915 204.352 689.665 Q204.352 698.392 201.274 702.999 Q198.218 707.582 192.408 707.582 Q186.598 707.582 183.519 702.999 Q180.464 698.392 180.464 689.665 Q180.464 680.915 183.519 676.332 Q186.598 671.726 192.408 671.726 Z\" fill=\"#000000\" fill-rule=\"evenodd\" fill-opacity=\"1\" /><path clip-path=\"url(#clip350)\" d=\"M 0 0 M210.232 702.975 L217.871 702.975 L217.871 676.61 L209.561 678.276 L209.561 674.017 L217.824 672.351 L222.5 672.351 L222.5 702.975 L230.139 702.975 L230.139 706.911 L210.232 706.911 L210.232 702.975 Z\" fill=\"#000000\" fill-rule=\"evenodd\" fill-opacity=\"1\" /><path clip-path=\"url(#clip350)\" d=\"M 0 0 M235.255 672.351 L253.611 672.351 L253.611 676.286 L239.537 676.286 L239.537 684.758 Q240.556 684.411 241.574 684.249 Q242.593 684.063 243.611 684.063 Q249.398 684.063 252.778 687.235 Q256.158 690.406 256.158 695.823 Q256.158 701.401 252.685 704.503 Q249.213 707.582 242.894 707.582 Q240.718 707.582 238.449 707.212 Q236.204 706.841 233.797 706.1 L233.797 701.401 Q235.88 702.536 238.102 703.091 Q240.324 703.647 242.801 703.647 Q246.806 703.647 249.144 701.54 Q251.482 699.434 251.482 695.823 Q251.482 692.212 249.144 690.105 Q246.806 687.999 242.801 687.999 Q240.926 687.999 239.051 688.415 Q237.199 688.832 235.255 689.712 L235.255 672.351 Z\" fill=\"#000000\" fill-rule=\"evenodd\" fill-opacity=\"1\" /><path clip-path=\"url(#clip350)\" d=\"M 0 0 M127.802 443.174 Q124.191 443.174 122.362 446.739 Q120.556 450.281 120.556 457.41 Q120.556 464.517 122.362 468.082 Q124.191 471.623 127.802 471.623 Q131.436 471.623 133.242 468.082 Q135.07 464.517 135.07 457.41 Q135.07 450.281 133.242 446.739 Q131.436 443.174 127.802 443.174 M127.802 439.471 Q133.612 439.471 136.667 444.077 Q139.746 448.66 139.746 457.41 Q139.746 466.137 136.667 470.744 Q133.612 475.327 127.802 475.327 Q121.992 475.327 118.913 470.744 Q115.857 466.137 115.857 457.41 Q115.857 448.66 118.913 444.077 Q121.992 439.471 127.802 439.471 Z\" fill=\"#000000\" fill-rule=\"evenodd\" fill-opacity=\"1\" /><path clip-path=\"url(#clip350)\" d=\"M 0 0 M144.816 468.776 L149.7 468.776 L149.7 474.656 L144.816 474.656 L144.816 468.776 Z\" fill=\"#000000\" fill-rule=\"evenodd\" fill-opacity=\"1\" /><path clip-path=\"url(#clip350)\" d=\"M 0 0 M164.769 443.174 Q161.158 443.174 159.329 446.739 Q157.524 450.281 157.524 457.41 Q157.524 464.517 159.329 468.082 Q161.158 471.623 164.769 471.623 Q168.403 471.623 170.209 468.082 Q172.038 464.517 172.038 457.41 Q172.038 450.281 170.209 446.739 Q168.403 443.174 164.769 443.174 M164.769 439.471 Q170.579 439.471 173.635 444.077 Q176.714 448.66 176.714 457.41 Q176.714 466.137 173.635 470.744 Q170.579 475.327 164.769 475.327 Q158.959 475.327 155.88 470.744 Q152.825 466.137 152.825 457.41 Q152.825 448.66 155.88 444.077 Q158.959 439.471 164.769 439.471 Z\" fill=\"#000000\" fill-rule=\"evenodd\" fill-opacity=\"1\" /><path clip-path=\"url(#clip350)\" d=\"M 0 0 M191.783 443.174 Q188.172 443.174 186.343 446.739 Q184.538 450.281 184.538 457.41 Q184.538 464.517 186.343 468.082 Q188.172 471.623 191.783 471.623 Q195.417 471.623 197.223 468.082 Q199.051 464.517 199.051 457.41 Q199.051 450.281 197.223 446.739 Q195.417 443.174 191.783 443.174 M191.783 439.471 Q197.593 439.471 200.649 444.077 Q203.727 448.66 203.727 457.41 Q203.727 466.137 200.649 470.744 Q197.593 475.327 191.783 475.327 Q185.973 475.327 182.894 470.744 Q179.839 466.137 179.839 457.41 Q179.839 448.66 182.894 444.077 Q185.973 439.471 191.783 439.471 Z\" fill=\"#000000\" fill-rule=\"evenodd\" fill-opacity=\"1\" /><path clip-path=\"url(#clip350)\" d=\"M 0 0 M212.824 470.72 L229.144 470.72 L229.144 474.656 L207.199 474.656 L207.199 470.72 Q209.861 467.966 214.445 463.336 Q219.051 458.683 220.232 457.341 Q222.477 454.818 223.357 453.082 Q224.26 451.322 224.26 449.633 Q224.26 446.878 222.315 445.142 Q220.394 443.406 217.292 443.406 Q215.093 443.406 212.639 444.17 Q210.209 444.934 207.431 446.484 L207.431 441.762 Q210.255 440.628 212.709 440.049 Q215.162 439.471 217.199 439.471 Q222.57 439.471 225.764 442.156 Q228.959 444.841 228.959 449.332 Q228.959 451.461 228.148 453.383 Q227.361 455.281 225.255 457.873 Q224.676 458.545 221.574 461.762 Q218.473 464.957 212.824 470.72 Z\" fill=\"#000000\" fill-rule=\"evenodd\" fill-opacity=\"1\" /><path clip-path=\"url(#clip350)\" d=\"M 0 0 M244.213 443.174 Q240.602 443.174 238.773 446.739 Q236.968 450.281 236.968 457.41 Q236.968 464.517 238.773 468.082 Q240.602 471.623 244.213 471.623 Q247.847 471.623 249.653 468.082 Q251.482 464.517 251.482 457.41 Q251.482 450.281 249.653 446.739 Q247.847 443.174 244.213 443.174 M244.213 439.471 Q250.023 439.471 253.079 444.077 Q256.158 448.66 256.158 457.41 Q256.158 466.137 253.079 470.744 Q250.023 475.327 244.213 475.327 Q238.403 475.327 235.324 470.744 Q232.269 466.137 232.269 457.41 Q232.269 448.66 235.324 444.077 Q238.403 439.471 244.213 439.471 Z\" fill=\"#000000\" fill-rule=\"evenodd\" fill-opacity=\"1\" /><path clip-path=\"url(#clip350)\" d=\"M 0 0 M128.797 210.919 Q125.186 210.919 123.357 214.484 Q121.552 218.026 121.552 225.155 Q121.552 232.262 123.357 235.827 Q125.186 239.368 128.797 239.368 Q132.431 239.368 134.237 235.827 Q136.066 232.262 136.066 225.155 Q136.066 218.026 134.237 214.484 Q132.431 210.919 128.797 210.919 M128.797 207.216 Q134.607 207.216 137.663 211.822 Q140.741 216.405 140.741 225.155 Q140.741 233.882 137.663 238.489 Q134.607 243.072 128.797 243.072 Q122.987 243.072 119.908 238.489 Q116.853 233.882 116.853 225.155 Q116.853 216.405 119.908 211.822 Q122.987 207.216 128.797 207.216 Z\" fill=\"#000000\" fill-rule=\"evenodd\" fill-opacity=\"1\" /><path clip-path=\"url(#clip350)\" d=\"M 0 0 M145.811 236.521 L150.695 236.521 L150.695 242.401 L145.811 242.401 L145.811 236.521 Z\" fill=\"#000000\" fill-rule=\"evenodd\" fill-opacity=\"1\" /><path clip-path=\"url(#clip350)\" d=\"M 0 0 M165.765 210.919 Q162.153 210.919 160.325 214.484 Q158.519 218.026 158.519 225.155 Q158.519 232.262 160.325 235.827 Q162.153 239.368 165.765 239.368 Q169.399 239.368 171.204 235.827 Q173.033 232.262 173.033 225.155 Q173.033 218.026 171.204 214.484 Q169.399 210.919 165.765 210.919 M165.765 207.216 Q171.575 207.216 174.63 211.822 Q177.709 216.405 177.709 225.155 Q177.709 233.882 174.63 238.489 Q171.575 243.072 165.765 243.072 Q159.954 243.072 156.876 238.489 Q153.82 233.882 153.82 225.155 Q153.82 216.405 156.876 211.822 Q159.954 207.216 165.765 207.216 Z\" fill=\"#000000\" fill-rule=\"evenodd\" fill-opacity=\"1\" /><path clip-path=\"url(#clip350)\" d=\"M 0 0 M192.778 210.919 Q189.167 210.919 187.338 214.484 Q185.533 218.026 185.533 225.155 Q185.533 232.262 187.338 235.827 Q189.167 239.368 192.778 239.368 Q196.412 239.368 198.218 235.827 Q200.047 232.262 200.047 225.155 Q200.047 218.026 198.218 214.484 Q196.412 210.919 192.778 210.919 M192.778 207.216 Q198.588 207.216 201.644 211.822 Q204.723 216.405 204.723 225.155 Q204.723 233.882 201.644 238.489 Q198.588 243.072 192.778 243.072 Q186.968 243.072 183.889 238.489 Q180.834 233.882 180.834 225.155 Q180.834 216.405 183.889 211.822 Q186.968 207.216 192.778 207.216 Z\" fill=\"#000000\" fill-rule=\"evenodd\" fill-opacity=\"1\" /><path clip-path=\"url(#clip350)\" d=\"M 0 0 M213.82 238.465 L230.139 238.465 L230.139 242.401 L208.195 242.401 L208.195 238.465 Q210.857 235.711 215.44 231.081 Q220.047 226.428 221.227 225.086 Q223.473 222.563 224.352 220.827 Q225.255 219.067 225.255 217.378 Q225.255 214.623 223.31 212.887 Q221.389 211.151 218.287 211.151 Q216.088 211.151 213.635 211.915 Q211.204 212.678 208.426 214.229 L208.426 209.507 Q211.25 208.373 213.704 207.794 Q216.158 207.216 218.195 207.216 Q223.565 207.216 226.76 209.901 Q229.954 212.586 229.954 217.077 Q229.954 219.206 229.144 221.128 Q228.357 223.026 226.25 225.618 Q225.672 226.29 222.57 229.507 Q219.468 232.702 213.82 238.465 Z\" fill=\"#000000\" fill-rule=\"evenodd\" fill-opacity=\"1\" /><path clip-path=\"url(#clip350)\" d=\"M 0 0 M235.255 207.841 L253.611 207.841 L253.611 211.776 L239.537 211.776 L239.537 220.248 Q240.556 219.901 241.574 219.739 Q242.593 219.553 243.611 219.553 Q249.398 219.553 252.778 222.725 Q256.158 225.896 256.158 231.313 Q256.158 236.891 252.685 239.993 Q249.213 243.072 242.894 243.072 Q240.718 243.072 238.449 242.701 Q236.204 242.331 233.797 241.59 L233.797 236.891 Q235.88 238.026 238.102 238.581 Q240.324 239.137 242.801 239.137 Q246.806 239.137 249.144 237.03 Q251.482 234.924 251.482 231.313 Q251.482 227.702 249.144 225.595 Q246.806 223.489 242.801 223.489 Q240.926 223.489 239.051 223.905 Q237.199 224.322 235.255 225.202 L235.255 207.841 Z\" fill=\"#000000\" fill-rule=\"evenodd\" fill-opacity=\"1\" /><path clip-path=\"url(#clip350)\" d=\"M 0 0 M40.4842 845.704 L40.4842 815.658 L45.895 815.658 L45.895 839.275 L59.9632 839.275 L59.9632 816.645 L65.3741 816.645 L65.3741 839.275 L82.5933 839.275 L82.5933 815.085 L88.0042 815.085 L88.0042 845.704 L40.4842 845.704 Z\" fill=\"#000000\" fill-rule=\"evenodd\" fill-opacity=\"1\" /><path clip-path=\"url(#clip350)\" d=\"M 0 0 M57.8307 788.285 Q57.2578 789.272 57.0032 790.45 Q56.7167 791.596 56.7167 792.996 Q56.7167 797.961 59.9632 800.635 Q63.1779 803.277 69.2253 803.277 L88.0042 803.277 L88.0042 809.165 L52.3562 809.165 L52.3562 803.277 L57.8944 803.277 Q54.6479 801.431 53.0883 798.471 Q51.4968 795.51 51.4968 791.277 Q51.4968 790.673 51.5923 789.94 Q51.656 789.208 51.8151 788.317 L57.8307 788.285 Z\" fill=\"#000000\" fill-rule=\"evenodd\" fill-opacity=\"1\" /><path clip-path=\"url(#clip350)\" d=\"M 0 0 M57.8307 762.632 Q57.2578 763.618 57.0032 764.796 Q56.7167 765.942 56.7167 767.342 Q56.7167 772.307 59.9632 774.981 Q63.1779 777.623 69.2253 777.623 L88.0042 777.623 L88.0042 783.511 L52.3562 783.511 L52.3562 777.623 L57.8944 777.623 Q54.6479 775.777 53.0883 772.817 Q51.4968 769.857 51.4968 765.623 Q51.4968 765.019 51.5923 764.287 Q51.656 763.555 51.8151 762.663 L57.8307 762.632 Z\" fill=\"#000000\" fill-rule=\"evenodd\" fill-opacity=\"1\" /><path clip-path=\"url(#clip350)\" d=\"M 0 0 M56.4621 744.107 Q56.4621 748.818 60.1542 751.555 Q63.8145 754.293 70.212 754.293 Q76.6095 754.293 80.3017 751.587 Q83.9619 748.85 83.9619 744.107 Q83.9619 739.429 80.2698 736.691 Q76.5777 733.954 70.212 733.954 Q63.8781 733.954 60.186 736.691 Q56.4621 739.429 56.4621 744.107 M51.4968 744.107 Q51.4968 736.469 56.4621 732.108 Q61.4273 727.748 70.212 727.748 Q78.9649 727.748 83.9619 732.108 Q88.9272 736.469 88.9272 744.107 Q88.9272 751.778 83.9619 756.139 Q78.9649 760.467 70.212 760.467 Q61.4273 760.467 56.4621 756.139 Q51.4968 751.778 51.4968 744.107 Z\" fill=\"#000000\" fill-rule=\"evenodd\" fill-opacity=\"1\" /><path clip-path=\"url(#clip350)\" d=\"M 0 0 M57.8307 700.948 Q57.2578 701.935 57.0032 703.112 Q56.7167 704.258 56.7167 705.659 Q56.7167 710.624 59.9632 713.297 Q63.1779 715.939 69.2253 715.939 L88.0042 715.939 L88.0042 721.827 L52.3562 721.827 L52.3562 715.939 L57.8944 715.939 Q54.6479 714.093 53.0883 711.133 Q51.4968 708.173 51.4968 703.94 Q51.4968 703.335 51.5923 702.603 Q51.656 701.871 51.8151 700.98 L57.8307 700.948 Z\" fill=\"#000000\" fill-rule=\"evenodd\" fill-opacity=\"1\" /><path clip-path=\"url(#clip350)\" d=\"M 0 0 M820.793 44.2197 Q823.426 45.1109 825.897 48.0275 Q828.408 50.9442 830.92 56.0483 L839.224 72.576 L830.434 72.576 L822.697 57.061 Q819.699 50.9847 816.863 48.9997 Q814.068 47.0148 809.207 47.0148 L800.295 47.0148 L800.295 72.576 L792.112 72.576 L792.112 12.096 L810.584 12.096 Q820.955 12.096 826.059 16.4305 Q831.163 20.7649 831.163 29.5149 Q831.163 35.2267 828.489 38.994 Q825.856 42.7613 820.793 44.2197 M800.295 18.8205 L800.295 40.2903 L810.584 40.2903 Q816.499 40.2903 819.496 37.5762 Q822.535 34.8216 822.535 29.5149 Q822.535 24.2082 819.496 21.5346 Q816.499 18.8205 810.584 18.8205 L800.295 18.8205 Z\" fill=\"#000000\" fill-rule=\"evenodd\" fill-opacity=\"1\" /><path clip-path=\"url(#clip350)\" d=\"M 0 0 M882.123 48.0275 L882.123 51.6733 L847.853 51.6733 Q848.339 59.3701 852.471 63.421 Q856.643 67.4314 864.056 67.4314 Q868.35 67.4314 872.361 66.3781 Q876.412 65.3249 880.382 63.2184 L880.382 70.267 Q876.371 71.9684 872.158 72.8596 Q867.945 73.7508 863.611 73.7508 Q852.754 73.7508 846.394 67.4314 Q840.075 61.1119 840.075 50.3365 Q840.075 39.1965 846.07 32.6746 Q852.106 26.1121 862.315 26.1121 Q871.47 26.1121 876.776 32.0264 Q882.123 37.9003 882.123 48.0275 M874.67 45.84 Q874.589 39.7232 871.227 36.0774 Q867.905 32.4315 862.396 32.4315 Q856.157 32.4315 852.39 35.9558 Q848.663 39.4801 848.096 45.8805 L874.67 45.84 Z\" fill=\"#000000\" fill-rule=\"evenodd\" fill-opacity=\"1\" /><path clip-path=\"url(#clip350)\" d=\"M 0 0 M889.942 9.54393 L897.395 9.54393 L897.395 72.576 L889.942 72.576 L889.942 9.54393 Z\" fill=\"#000000\" fill-rule=\"evenodd\" fill-opacity=\"1\" /><path clip-path=\"url(#clip350)\" d=\"M 0 0 M925.833 49.7694 Q916.799 49.7694 913.315 51.8354 Q909.832 53.9013 909.832 58.8839 Q909.832 62.8538 912.424 65.2034 Q915.057 67.5124 919.554 67.5124 Q925.752 67.5124 929.479 63.1374 Q933.246 58.7219 933.246 51.4303 L933.246 49.7694 L925.833 49.7694 M940.7 46.6907 L940.7 72.576 L933.246 72.576 L933.246 65.6895 Q930.694 69.8214 926.886 71.8063 Q923.078 73.7508 917.569 73.7508 Q910.601 73.7508 906.469 69.8619 Q902.378 65.9325 902.378 59.3701 Q902.378 51.7138 907.482 47.825 Q912.627 43.9361 922.795 43.9361 L933.246 43.9361 L933.246 43.2069 Q933.246 38.0623 929.843 35.2672 Q926.481 32.4315 920.364 32.4315 Q916.475 32.4315 912.789 33.3632 Q909.102 34.295 905.7 36.1584 L905.7 29.2718 Q909.791 27.692 913.639 26.9223 Q917.488 26.1121 921.134 26.1121 Q930.977 26.1121 935.838 31.2163 Q940.7 36.3204 940.7 46.6907 Z\" fill=\"#000000\" fill-rule=\"evenodd\" fill-opacity=\"1\" /><path clip-path=\"url(#clip350)\" d=\"M 0 0 M955.89 14.324 L955.89 27.2059 L971.243 27.2059 L971.243 32.9987 L955.89 32.9987 L955.89 57.6282 Q955.89 63.1779 957.389 64.7578 Q958.929 66.3376 963.587 66.3376 L971.243 66.3376 L971.243 72.576 L963.587 72.576 Q954.959 72.576 951.677 69.3758 Q948.396 66.1351 948.396 57.6282 L948.396 32.9987 L942.928 32.9987 L942.928 27.2059 L948.396 27.2059 L948.396 14.324 L955.89 14.324 Z\" fill=\"#000000\" fill-rule=\"evenodd\" fill-opacity=\"1\" /><path clip-path=\"url(#clip350)\" d=\"M 0 0 M979.062 27.2059 L986.515 27.2059 L986.515 72.576 L979.062 72.576 L979.062 27.2059 M979.062 9.54393 L986.515 9.54393 L986.515 18.9825 L979.062 18.9825 L979.062 9.54393 Z\" fill=\"#000000\" fill-rule=\"evenodd\" fill-opacity=\"1\" /><path clip-path=\"url(#clip350)\" d=\"M 0 0 M988.986 27.2059 L996.886 27.2059 L1011.06 65.2844 L1025.24 27.2059 L1033.14 27.2059 L1016.13 72.576 L1006 72.576 L988.986 27.2059 Z\" fill=\"#000000\" fill-rule=\"evenodd\" fill-opacity=\"1\" /><path clip-path=\"url(#clip350)\" d=\"M 0 0 M1079.77 48.0275 L1079.77 51.6733 L1045.5 51.6733 Q1045.98 59.3701 1050.11 63.421 Q1054.29 67.4314 1061.7 67.4314 Q1065.99 67.4314 1070 66.3781 Q1074.06 65.3249 1078.03 63.2184 L1078.03 70.267 Q1074.01 71.9684 1069.8 72.8596 Q1065.59 73.7508 1061.25 73.7508 Q1050.4 73.7508 1044.04 67.4314 Q1037.72 61.1119 1037.72 50.3365 Q1037.72 39.1965 1043.71 32.6746 Q1049.75 26.1121 1059.96 26.1121 Q1069.11 26.1121 1074.42 32.0264 Q1079.77 37.9003 1079.77 48.0275 M1072.31 45.84 Q1072.23 39.7232 1068.87 36.0774 Q1065.55 32.4315 1060.04 32.4315 Q1053.8 32.4315 1050.03 35.9558 Q1046.31 39.4801 1045.74 45.8805 L1072.31 45.84 Z\" fill=\"#000000\" fill-rule=\"evenodd\" fill-opacity=\"1\" /><path clip-path=\"url(#clip350)\" d=\"M 0 0 M1152.76 48.0275 L1152.76 51.6733 L1118.49 51.6733 Q1118.98 59.3701 1123.11 63.421 Q1127.28 67.4314 1134.7 67.4314 Q1138.99 67.4314 1143 66.3781 Q1147.05 65.3249 1151.02 63.2184 L1151.02 70.267 Q1147.01 71.9684 1142.8 72.8596 Q1138.59 73.7508 1134.25 73.7508 Q1123.4 73.7508 1117.04 67.4314 Q1110.72 61.1119 1110.72 50.3365 Q1110.72 39.1965 1116.71 32.6746 Q1122.75 26.1121 1132.96 26.1121 Q1142.11 26.1121 1147.42 32.0264 Q1152.76 37.9003 1152.76 48.0275 M1145.31 45.84 Q1145.23 39.7232 1141.87 36.0774 Q1138.55 32.4315 1133.04 32.4315 Q1126.8 32.4315 1123.03 35.9558 Q1119.3 39.4801 1118.74 45.8805 L1145.31 45.84 Z\" fill=\"#000000\" fill-rule=\"evenodd\" fill-opacity=\"1\" /><path clip-path=\"url(#clip350)\" d=\"M 0 0 M1186.87 34.1734 Q1185.62 33.4443 1184.12 33.1202 Q1182.66 32.7556 1180.88 32.7556 Q1174.56 32.7556 1171.16 36.8875 Q1167.79 40.9789 1167.79 48.6757 L1167.79 72.576 L1160.3 72.576 L1160.3 27.2059 L1167.79 27.2059 L1167.79 34.2544 Q1170.14 30.1225 1173.91 28.1376 Q1177.68 26.1121 1183.07 26.1121 Q1183.83 26.1121 1184.77 26.2337 Q1185.7 26.3147 1186.83 26.5172 L1186.87 34.1734 Z\" fill=\"#000000\" fill-rule=\"evenodd\" fill-opacity=\"1\" /><path clip-path=\"url(#clip350)\" d=\"M 0 0 M1219.52 34.1734 Q1218.27 33.4443 1216.77 33.1202 Q1215.31 32.7556 1213.53 32.7556 Q1207.21 32.7556 1203.81 36.8875 Q1200.44 40.9789 1200.44 48.6757 L1200.44 72.576 L1192.95 72.576 L1192.95 27.2059 L1200.44 27.2059 L1200.44 34.2544 Q1202.79 30.1225 1206.56 28.1376 Q1210.33 26.1121 1215.72 26.1121 Q1216.49 26.1121 1217.42 26.2337 Q1218.35 26.3147 1219.48 26.5172 L1219.52 34.1734 Z\" fill=\"#000000\" fill-rule=\"evenodd\" fill-opacity=\"1\" /><path clip-path=\"url(#clip350)\" d=\"M 0 0 M1243.1 32.4315 Q1237.1 32.4315 1233.62 37.1306 Q1230.14 41.7891 1230.14 49.9314 Q1230.14 58.0738 1233.58 62.7728 Q1237.06 67.4314 1243.1 67.4314 Q1249.05 67.4314 1252.54 62.7323 Q1256.02 58.0333 1256.02 49.9314 Q1256.02 41.8701 1252.54 37.1711 Q1249.05 32.4315 1243.1 32.4315 M1243.1 26.1121 Q1252.82 26.1121 1258.37 32.4315 Q1263.92 38.7509 1263.92 49.9314 Q1263.92 61.0714 1258.37 67.4314 Q1252.82 73.7508 1243.1 73.7508 Q1233.34 73.7508 1227.79 67.4314 Q1222.28 61.0714 1222.28 49.9314 Q1222.28 38.7509 1227.79 32.4315 Q1233.34 26.1121 1243.1 26.1121 Z\" fill=\"#000000\" fill-rule=\"evenodd\" fill-opacity=\"1\" /><path clip-path=\"url(#clip350)\" d=\"M 0 0 M1298.03 34.1734 Q1296.77 33.4443 1295.28 33.1202 Q1293.82 32.7556 1292.03 32.7556 Q1285.72 32.7556 1282.31 36.8875 Q1278.95 40.9789 1278.95 48.6757 L1278.95 72.576 L1271.46 72.576 L1271.46 27.2059 L1278.95 27.2059 L1278.95 34.2544 Q1281.3 30.1225 1285.07 28.1376 Q1288.83 26.1121 1294.22 26.1121 Q1294.99 26.1121 1295.92 26.2337 Q1296.86 26.3147 1297.99 26.5172 L1298.03 34.1734 Z\" fill=\"#000000\" fill-rule=\"evenodd\" fill-opacity=\"1\" /><path clip-path=\"url(#clip350)\" d=\"M 0 0 M1355.19 9.54393 L1355.19 15.7418 L1348.06 15.7418 Q1344.05 15.7418 1342.47 17.3622 Q1340.93 18.9825 1340.93 23.1955 L1340.93 27.2059 L1353.2 27.2059 L1353.2 32.9987 L1340.93 32.9987 L1340.93 72.576 L1333.43 72.576 L1333.43 32.9987 L1326.31 32.9987 L1326.31 27.2059 L1333.43 27.2059 L1333.43 24.0462 Q1333.43 16.471 1336.96 13.0277 Q1340.48 9.54393 1348.14 9.54393 L1355.19 9.54393 Z\" fill=\"#000000\" fill-rule=\"evenodd\" fill-opacity=\"1\" /><path clip-path=\"url(#clip350)\" d=\"M 0 0 M1380.59 32.4315 Q1374.59 32.4315 1371.11 37.1306 Q1367.62 41.7891 1367.62 49.9314 Q1367.62 58.0738 1371.07 62.7728 Q1374.55 67.4314 1380.59 67.4314 Q1386.54 67.4314 1390.03 62.7323 Q1393.51 58.0333 1393.51 49.9314 Q1393.51 41.8701 1390.03 37.1711 Q1386.54 32.4315 1380.59 32.4315 M1380.59 26.1121 Q1390.31 26.1121 1395.86 32.4315 Q1401.41 38.7509 1401.41 49.9314 Q1401.41 61.0714 1395.86 67.4314 Q1390.31 73.7508 1380.59 73.7508 Q1370.82 73.7508 1365.27 67.4314 Q1359.77 61.0714 1359.77 49.9314 Q1359.77 38.7509 1365.27 32.4315 Q1370.82 26.1121 1380.59 26.1121 Z\" fill=\"#000000\" fill-rule=\"evenodd\" fill-opacity=\"1\" /><path clip-path=\"url(#clip350)\" d=\"M 0 0 M1435.52 34.1734 Q1434.26 33.4443 1432.76 33.1202 Q1431.3 32.7556 1429.52 32.7556 Q1423.2 32.7556 1419.8 36.8875 Q1416.44 40.9789 1416.44 48.6757 L1416.44 72.576 L1408.94 72.576 L1408.94 27.2059 L1416.44 27.2059 L1416.44 34.2544 Q1418.79 30.1225 1422.55 28.1376 Q1426.32 26.1121 1431.71 26.1121 Q1432.48 26.1121 1433.41 26.2337 Q1434.34 26.3147 1435.48 26.5172 L1435.52 34.1734 Z\" fill=\"#000000\" fill-rule=\"evenodd\" fill-opacity=\"1\" /><path clip-path=\"url(#clip350)\" d=\"M 0 0 M1472.18 65.6895 L1485.55 65.6895 L1485.55 19.5497 L1471 22.4663 L1471 15.0127 L1485.47 12.096 L1493.65 12.096 L1493.65 65.6895 L1507.02 65.6895 L1507.02 72.576 L1472.18 72.576 L1472.18 65.6895 Z\" fill=\"#000000\" fill-rule=\"evenodd\" fill-opacity=\"1\" /><path clip-path=\"url(#clip350)\" d=\"M 0 0 M1533.39 17.4837 Q1527.07 17.4837 1523.87 23.7221 Q1520.71 29.92 1520.71 42.3968 Q1520.71 54.833 1523.87 61.0714 Q1527.07 67.2693 1533.39 67.2693 Q1539.75 67.2693 1542.91 61.0714 Q1546.11 54.833 1546.11 42.3968 Q1546.11 29.92 1542.91 23.7221 Q1539.75 17.4837 1533.39 17.4837 M1533.39 11.0023 Q1543.56 11.0023 1548.9 19.0636 Q1554.29 27.0843 1554.29 42.3968 Q1554.29 57.6687 1548.9 65.73 Q1543.56 73.7508 1533.39 73.7508 Q1523.22 73.7508 1517.83 65.73 Q1512.48 57.6687 1512.48 42.3968 Q1512.48 27.0843 1517.83 19.0636 Q1523.22 11.0023 1533.39 11.0023 Z\" fill=\"#000000\" fill-rule=\"evenodd\" fill-opacity=\"1\" /><path clip-path=\"url(#clip350)\" d=\"M 0 0 M1580.66 17.4837 Q1574.34 17.4837 1571.14 23.7221 Q1567.98 29.92 1567.98 42.3968 Q1567.98 54.833 1571.14 61.0714 Q1574.34 67.2693 1580.66 67.2693 Q1587.02 67.2693 1590.18 61.0714 Q1593.38 54.833 1593.38 42.3968 Q1593.38 29.92 1590.18 23.7221 Q1587.02 17.4837 1580.66 17.4837 M1580.66 11.0023 Q1590.83 11.0023 1596.18 19.0636 Q1601.56 27.0843 1601.56 42.3968 Q1601.56 57.6687 1596.18 65.73 Q1590.83 73.7508 1580.66 73.7508 Q1570.49 73.7508 1565.11 65.73 Q1559.76 57.6687 1559.76 42.3968 Q1559.76 27.0843 1565.11 19.0636 Q1570.49 11.0023 1580.66 11.0023 Z\" fill=\"#000000\" fill-rule=\"evenodd\" fill-opacity=\"1\" /><path clip-path=\"url(#clip350)\" d=\"M 0 0 M1642.96 65.7705 L1642.96 89.8329 L1635.47 89.8329 L1635.47 27.2059 L1642.96 27.2059 L1642.96 34.0924 Q1645.31 30.0415 1648.88 28.0971 Q1652.48 26.1121 1657.47 26.1121 Q1665.73 26.1121 1670.87 32.6746 Q1676.06 39.2371 1676.06 49.9314 Q1676.06 60.6258 1670.87 67.1883 Q1665.73 73.7508 1657.47 73.7508 Q1652.48 73.7508 1648.88 71.8063 Q1645.31 69.8214 1642.96 65.7705 M1668.32 49.9314 Q1668.32 41.7081 1664.92 37.0496 Q1661.56 32.3505 1655.64 32.3505 Q1649.73 32.3505 1646.33 37.0496 Q1642.96 41.7081 1642.96 49.9314 Q1642.96 58.1548 1646.33 62.8538 Q1649.73 67.5124 1655.64 67.5124 Q1661.56 67.5124 1664.92 62.8538 Q1668.32 58.1548 1668.32 49.9314 Z\" fill=\"#000000\" fill-rule=\"evenodd\" fill-opacity=\"1\" /><path clip-path=\"url(#clip350)\" d=\"M 0 0 M1701.46 32.4315 Q1695.46 32.4315 1691.98 37.1306 Q1688.5 41.7891 1688.5 49.9314 Q1688.5 58.0738 1691.94 62.7728 Q1695.42 67.4314 1701.46 67.4314 Q1707.41 67.4314 1710.9 62.7323 Q1714.38 58.0333 1714.38 49.9314 Q1714.38 41.8701 1710.9 37.1711 Q1707.41 32.4315 1701.46 32.4315 M1701.46 26.1121 Q1711.18 26.1121 1716.73 32.4315 Q1722.28 38.7509 1722.28 49.9314 Q1722.28 61.0714 1716.73 67.4314 Q1711.18 73.7508 1701.46 73.7508 Q1691.7 73.7508 1686.15 67.4314 Q1680.64 61.0714 1680.64 49.9314 Q1680.64 38.7509 1686.15 32.4315 Q1691.7 26.1121 1701.46 26.1121 Z\" fill=\"#000000\" fill-rule=\"evenodd\" fill-opacity=\"1\" /><path clip-path=\"url(#clip350)\" d=\"M 0 0 M1730.1 27.2059 L1737.55 27.2059 L1737.55 72.576 L1730.1 72.576 L1730.1 27.2059 M1730.1 9.54393 L1737.55 9.54393 L1737.55 18.9825 L1730.1 18.9825 L1730.1 9.54393 Z\" fill=\"#000000\" fill-rule=\"evenodd\" fill-opacity=\"1\" /><path clip-path=\"url(#clip350)\" d=\"M 0 0 M1783.09 45.1919 L1783.09 72.576 L1775.63 72.576 L1775.63 45.4349 Q1775.63 38.994 1773.12 35.7938 Q1770.61 32.5936 1765.59 32.5936 Q1759.55 32.5936 1756.07 36.4419 Q1752.58 40.2903 1752.58 46.9338 L1752.58 72.576 L1745.09 72.576 L1745.09 27.2059 L1752.58 27.2059 L1752.58 34.2544 Q1755.26 30.163 1758.86 28.1376 Q1762.51 26.1121 1767.25 26.1121 Q1775.06 26.1121 1779.07 30.9732 Q1783.09 35.7938 1783.09 45.1919 Z\" fill=\"#000000\" fill-rule=\"evenodd\" fill-opacity=\"1\" /><path clip-path=\"url(#clip350)\" d=\"M 0 0 M1798.28 14.324 L1798.28 27.2059 L1813.63 27.2059 L1813.63 32.9987 L1798.28 32.9987 L1798.28 57.6282 Q1798.28 63.1779 1799.77 64.7578 Q1801.31 66.3376 1805.97 66.3376 L1813.63 66.3376 L1813.63 72.576 L1805.97 72.576 Q1797.34 72.576 1794.06 69.3758 Q1790.78 66.1351 1790.78 57.6282 L1790.78 32.9987 L1785.31 32.9987 L1785.31 27.2059 L1790.78 27.2059 L1790.78 14.324 L1798.28 14.324 Z\" fill=\"#000000\" fill-rule=\"evenodd\" fill-opacity=\"1\" /><path clip-path=\"url(#clip350)\" d=\"M 0 0 M1850.37 28.5427 L1850.37 35.5912 Q1847.21 33.9709 1843.81 33.1607 Q1840.41 32.3505 1836.76 32.3505 Q1831.21 32.3505 1828.41 34.0519 Q1825.66 35.7533 1825.66 39.156 Q1825.66 41.7486 1827.64 43.2475 Q1829.63 44.7058 1835.63 46.0426 L1838.18 46.6097 Q1846.12 48.3111 1849.44 51.4303 Q1852.8 54.509 1852.8 60.0587 Q1852.8 66.3781 1847.78 70.0644 Q1842.8 73.7508 1834.05 73.7508 Q1830.4 73.7508 1826.43 73.0216 Q1822.5 72.3329 1818.13 70.9151 L1818.13 63.2184 Q1822.26 65.3654 1826.27 66.4591 Q1830.28 67.5124 1834.21 67.5124 Q1839.47 67.5124 1842.31 65.73 Q1845.14 63.9071 1845.14 60.6258 Q1845.14 57.5877 1843.08 55.9673 Q1841.05 54.3469 1834.13 52.8481 L1831.53 52.2405 Q1824.61 50.7821 1821.53 47.7845 Q1818.45 44.7463 1818.45 39.4801 Q1818.45 33.0797 1822.99 29.5959 Q1827.52 26.1121 1835.87 26.1121 Q1840 26.1121 1843.65 26.7198 Q1847.29 27.3274 1850.37 28.5427 Z\" fill=\"#000000\" fill-rule=\"evenodd\" fill-opacity=\"1\" /><polyline clip-path=\"url(#clip352)\" style=\"stroke:#009af9; stroke-width:4; stroke-opacity:1; fill:none\" points=\"\n",
       "  350.476,1386.4 369.916,1372.67 389.356,1364.33 408.795,1358.74 428.235,1354.72 447.674,1351.69 467.114,1349.33 486.554,1347.44 505.993,1345.89 525.433,1344.6 \n",
       "  544.872,1343.5 564.312,1342.56 583.752,1341.74 603.191,1341.03 622.631,1340.4 642.07,1339.84 661.51,1339.33 680.95,1338.88 700.389,1338.47 719.829,1338.1 \n",
       "  739.269,1337.76 758.708,1337.45 778.148,1337.16 797.587,1336.9 817.027,1336.65 836.467,1336.42 855.906,1336.21 875.346,1336.01 894.785,1335.83 914.225,1335.65 \n",
       "  933.665,1335.49 953.104,1335.33 972.544,1335.19 991.983,1335.05 1011.42,1334.92 1030.86,1334.8 1050.3,1334.68 1069.74,1334.57 1089.18,1334.47 1108.62,1334.37 \n",
       "  1128.06,1334.27 1147.5,1334.18 1166.94,1334.09 1186.38,1334.01 1205.82,1333.93 1225.26,1333.85 1244.7,1333.78 1264.14,1333.71 1283.58,1333.64 1303.02,1333.58 \n",
       "  1322.46,1333.51 1341.9,1333.45 1361.34,1333.39 1380.78,1333.34 1400.22,1333.28 1419.65,1333.23 1439.09,1333.18 1458.53,1333.13 1477.97,1333.09 1497.41,1333.04 \n",
       "  1516.85,1333 1536.29,1332.95 1555.73,1332.91 1575.17,1332.87 1594.61,1332.83 1614.05,1332.79 1633.49,1332.76 1652.93,1332.72 1672.37,1332.69 1691.81,1332.65 \n",
       "  1711.25,1332.62 1730.69,1332.59 1750.13,1332.54 1769.57,1325.69 1789.01,1037.79 1808.45,160.256 1827.89,1032.32 1847.33,1326.26 1866.77,1333.86 1886.21,1334.43 \n",
       "  1905.64,1335.01 1925.08,1335.64 1944.52,1336.32 1963.96,1337.06 1983.4,1337.87 2002.84,1338.75 2022.28,1339.72 2041.72,1340.8 2061.16,1341.99 2080.6,1343.32 \n",
       "  2100.04,1344.81 2119.48,1346.5 2138.92,1348.43 2158.36,1350.65 2177.8,1353.24 2197.24,1356.29 2216.68,1359.94 2236.12,1364.39 2255.56,1369.93 2275,1377.02 \n",
       "  2294.44,1386.4 \n",
       "  \"/>\n",
       "<path clip-path=\"url(#clip350)\" d=\"\n",
       "M1766.02 287.756 L2284.07 287.756 L2284.07 166.796 L1766.02 166.796  Z\n",
       "  \" fill=\"#ffffff\" fill-rule=\"evenodd\" fill-opacity=\"1\"/>\n",
       "<polyline clip-path=\"url(#clip350)\" style=\"stroke:#000000; stroke-width:4; stroke-opacity:1; fill:none\" points=\"\n",
       "  1766.02,287.756 2284.07,287.756 2284.07,166.796 1766.02,166.796 1766.02,287.756 \n",
       "  \"/>\n",
       "<polyline clip-path=\"url(#clip350)\" style=\"stroke:#009af9; stroke-width:4; stroke-opacity:1; fill:none\" points=\"\n",
       "  1788.91,227.276 1926.29,227.276 \n",
       "  \"/>\n",
       "<path clip-path=\"url(#clip350)\" d=\"M 0 0 M1965.57 228.352 Q1967.08 228.861 1968.49 230.528 Q1969.92 232.195 1971.36 235.111 L1976.1 244.556 L1971.08 244.556 L1966.66 235.69 Q1964.95 232.218 1963.33 231.084 Q1961.73 229.949 1958.95 229.949 L1953.86 229.949 L1953.86 244.556 L1949.18 244.556 L1949.18 209.996 L1959.74 209.996 Q1965.66 209.996 1968.58 212.473 Q1971.5 214.949 1971.5 219.949 Q1971.5 223.213 1969.97 225.366 Q1968.46 227.519 1965.57 228.352 M1953.86 213.838 L1953.86 226.107 L1959.74 226.107 Q1963.12 226.107 1964.83 224.556 Q1966.57 222.982 1966.57 219.949 Q1966.57 216.917 1964.83 215.389 Q1963.12 213.838 1959.74 213.838 L1953.86 213.838 Z\" fill=\"#000000\" fill-rule=\"evenodd\" fill-opacity=\"1\" /><path clip-path=\"url(#clip350)\" d=\"M 0 0 M2000.62 230.528 L2000.62 232.611 L1981.03 232.611 Q1981.31 237.009 1983.67 239.324 Q1986.06 241.616 1990.29 241.616 Q1992.75 241.616 1995.04 241.014 Q1997.35 240.412 1999.62 239.209 L1999.62 243.236 Q1997.33 244.208 1994.92 244.718 Q1992.52 245.227 1990.04 245.227 Q1983.84 245.227 1980.2 241.616 Q1976.59 238.005 1976.59 231.847 Q1976.59 225.482 1980.02 221.755 Q1983.46 218.005 1989.3 218.005 Q1994.53 218.005 1997.56 221.385 Q2000.62 224.741 2000.62 230.528 M1996.36 229.278 Q1996.31 225.783 1994.39 223.699 Q1992.49 221.616 1989.34 221.616 Q1985.78 221.616 1983.63 223.63 Q1981.5 225.644 1981.17 229.301 L1996.36 229.278 Z\" fill=\"#000000\" fill-rule=\"evenodd\" fill-opacity=\"1\" /><path clip-path=\"url(#clip350)\" d=\"M 0 0 M2005.09 208.537 L2009.34 208.537 L2009.34 244.556 L2005.09 244.556 L2005.09 208.537 Z\" fill=\"#000000\" fill-rule=\"evenodd\" fill-opacity=\"1\" /><path clip-path=\"url(#clip350)\" d=\"M 0 0 M2025.59 231.523 Q2020.43 231.523 2018.44 232.704 Q2016.45 233.884 2016.45 236.732 Q2016.45 239 2017.93 240.343 Q2019.44 241.662 2022.01 241.662 Q2025.55 241.662 2027.68 239.162 Q2029.83 236.639 2029.83 232.472 L2029.83 231.523 L2025.59 231.523 M2034.09 229.764 L2034.09 244.556 L2029.83 244.556 L2029.83 240.621 Q2028.37 242.982 2026.2 244.116 Q2024.02 245.227 2020.87 245.227 Q2016.89 245.227 2014.53 243.005 Q2012.19 240.759 2012.19 237.009 Q2012.19 232.634 2015.11 230.412 Q2018.05 228.19 2023.86 228.19 L2029.83 228.19 L2029.83 227.773 Q2029.83 224.834 2027.89 223.236 Q2025.96 221.616 2022.47 221.616 Q2020.25 221.616 2018.14 222.148 Q2016.03 222.681 2014.09 223.746 L2014.09 219.81 Q2016.43 218.908 2018.63 218.468 Q2020.83 218.005 2022.91 218.005 Q2028.53 218.005 2031.31 220.922 Q2034.09 223.838 2034.09 229.764 Z\" fill=\"#000000\" fill-rule=\"evenodd\" fill-opacity=\"1\" /><path clip-path=\"url(#clip350)\" d=\"M 0 0 M2042.77 211.269 L2042.77 218.63 L2051.54 218.63 L2051.54 221.94 L2042.77 221.94 L2042.77 236.014 Q2042.77 239.185 2043.63 240.088 Q2044.51 240.991 2047.17 240.991 L2051.54 240.991 L2051.54 244.556 L2047.17 244.556 Q2042.24 244.556 2040.36 242.727 Q2038.49 240.875 2038.49 236.014 L2038.49 221.94 L2035.36 221.94 L2035.36 218.63 L2038.49 218.63 L2038.49 211.269 L2042.77 211.269 Z\" fill=\"#000000\" fill-rule=\"evenodd\" fill-opacity=\"1\" /><path clip-path=\"url(#clip350)\" d=\"M 0 0 M2056.01 218.63 L2060.27 218.63 L2060.27 244.556 L2056.01 244.556 L2056.01 218.63 M2056.01 208.537 L2060.27 208.537 L2060.27 213.931 L2056.01 213.931 L2056.01 208.537 Z\" fill=\"#000000\" fill-rule=\"evenodd\" fill-opacity=\"1\" /><path clip-path=\"url(#clip350)\" d=\"M 0 0 M2061.68 218.63 L2066.2 218.63 L2074.3 240.389 L2082.4 218.63 L2086.91 218.63 L2077.19 244.556 L2071.4 244.556 L2061.68 218.63 Z\" fill=\"#000000\" fill-rule=\"evenodd\" fill-opacity=\"1\" /><path clip-path=\"url(#clip350)\" d=\"M 0 0 M2113.56 230.528 L2113.56 232.611 L2093.97 232.611 Q2094.25 237.009 2096.61 239.324 Q2099 241.616 2103.23 241.616 Q2105.69 241.616 2107.98 241.014 Q2110.29 240.412 2112.56 239.209 L2112.56 243.236 Q2110.27 244.208 2107.86 244.718 Q2105.45 245.227 2102.98 245.227 Q2096.77 245.227 2093.14 241.616 Q2089.53 238.005 2089.53 231.847 Q2089.53 225.482 2092.95 221.755 Q2096.4 218.005 2102.24 218.005 Q2107.47 218.005 2110.5 221.385 Q2113.56 224.741 2113.56 230.528 M2109.3 229.278 Q2109.25 225.783 2107.33 223.699 Q2105.43 221.616 2102.28 221.616 Q2098.72 221.616 2096.57 223.63 Q2094.44 225.644 2094.11 229.301 L2109.3 229.278 Z\" fill=\"#000000\" fill-rule=\"evenodd\" fill-opacity=\"1\" /><path clip-path=\"url(#clip350)\" d=\"M 0 0 M2155.27 230.528 L2155.27 232.611 L2135.69 232.611 Q2135.96 237.009 2138.33 239.324 Q2140.71 241.616 2144.95 241.616 Q2147.4 241.616 2149.69 241.014 Q2152.01 240.412 2154.27 239.209 L2154.27 243.236 Q2151.98 244.208 2149.57 244.718 Q2147.17 245.227 2144.69 245.227 Q2138.49 245.227 2134.85 241.616 Q2131.24 238.005 2131.24 231.847 Q2131.24 225.482 2134.67 221.755 Q2138.12 218.005 2143.95 218.005 Q2149.18 218.005 2152.21 221.385 Q2155.27 224.741 2155.27 230.528 M2151.01 229.278 Q2150.96 225.783 2149.04 223.699 Q2147.14 221.616 2144 221.616 Q2140.43 221.616 2138.28 223.63 Q2136.15 225.644 2135.83 229.301 L2151.01 229.278 Z\" fill=\"#000000\" fill-rule=\"evenodd\" fill-opacity=\"1\" /><path clip-path=\"url(#clip350)\" d=\"M 0 0 M2174.76 222.611 Q2174.04 222.195 2173.19 222.01 Q2172.35 221.801 2171.33 221.801 Q2167.72 221.801 2165.78 224.162 Q2163.86 226.5 2163.86 230.898 L2163.86 244.556 L2159.57 244.556 L2159.57 218.63 L2163.86 218.63 L2163.86 222.658 Q2165.2 220.297 2167.35 219.162 Q2169.51 218.005 2172.58 218.005 Q2173.02 218.005 2173.56 218.074 Q2174.09 218.121 2174.74 218.236 L2174.76 222.611 Z\" fill=\"#000000\" fill-rule=\"evenodd\" fill-opacity=\"1\" /><path clip-path=\"url(#clip350)\" d=\"M 0 0 M2193.42 222.611 Q2192.7 222.195 2191.84 222.01 Q2191.01 221.801 2189.99 221.801 Q2186.38 221.801 2184.44 224.162 Q2182.51 226.5 2182.51 230.898 L2182.51 244.556 L2178.23 244.556 L2178.23 218.63 L2182.51 218.63 L2182.51 222.658 Q2183.86 220.297 2186.01 219.162 Q2188.16 218.005 2191.24 218.005 Q2191.68 218.005 2192.21 218.074 Q2192.75 218.121 2193.39 218.236 L2193.42 222.611 Z\" fill=\"#000000\" fill-rule=\"evenodd\" fill-opacity=\"1\" /><path clip-path=\"url(#clip350)\" d=\"M 0 0 M2206.89 221.616 Q2203.46 221.616 2201.47 224.301 Q2199.48 226.963 2199.48 231.616 Q2199.48 236.269 2201.45 238.954 Q2203.44 241.616 2206.89 241.616 Q2210.29 241.616 2212.28 238.931 Q2214.27 236.246 2214.27 231.616 Q2214.27 227.01 2212.28 224.324 Q2210.29 221.616 2206.89 221.616 M2206.89 218.005 Q2212.45 218.005 2215.62 221.616 Q2218.79 225.227 2218.79 231.616 Q2218.79 237.982 2215.62 241.616 Q2212.45 245.227 2206.89 245.227 Q2201.31 245.227 2198.14 241.616 Q2194.99 237.982 2194.99 231.616 Q2194.99 225.227 2198.14 221.616 Q2201.31 218.005 2206.89 218.005 Z\" fill=\"#000000\" fill-rule=\"evenodd\" fill-opacity=\"1\" /><path clip-path=\"url(#clip350)\" d=\"M 0 0 M2238.28 222.611 Q2237.56 222.195 2236.7 222.01 Q2235.87 221.801 2234.85 221.801 Q2231.24 221.801 2229.3 224.162 Q2227.38 226.5 2227.38 230.898 L2227.38 244.556 L2223.09 244.556 L2223.09 218.63 L2227.38 218.63 L2227.38 222.658 Q2228.72 220.297 2230.87 219.162 Q2233.02 218.005 2236.1 218.005 Q2236.54 218.005 2237.07 218.074 Q2237.61 218.121 2238.26 218.236 L2238.28 222.611 Z\" fill=\"#000000\" fill-rule=\"evenodd\" fill-opacity=\"1\" /></svg>\n"
      ]
     },
     "execution_count": 63,
     "metadata": {},
     "output_type": "execute_result"
    }
   ],
   "source": [
    "exact = set_boundarys(N)\n",
    "modele = heat(N)\n",
    "error = (abs.(exact .- modele) ./ exact) \n",
    "title = \"Relative error for $N points\"\n",
    "plot(xvec, error, label = \"Relative error\", xlabel = \"Length of the beam\", ylabel = \"Error\", title = title)"
   ]
  },
  {
   "cell_type": "code",
   "execution_count": null,
   "id": "2baaa8c6",
   "metadata": {},
   "outputs": [],
   "source": []
  }
 ],
 "metadata": {
  "kernelspec": {
   "display_name": "Julia 1.4.1",
   "language": "julia",
   "name": "julia-1.4"
  },
  "language_info": {
   "file_extension": ".jl",
   "mimetype": "application/julia",
   "name": "julia",
   "version": "1.4.1"
  }
 },
 "nbformat": 4,
 "nbformat_minor": 5
}
