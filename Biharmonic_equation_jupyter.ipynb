{
 "cells": [
  {
   "cell_type": "code",
   "execution_count": 2,
   "id": "ac86b0d5",
   "metadata": {},
   "outputs": [],
   "source": [
    "using Plots\n",
    "using SparseArrays\n",
    "using LinearAlgebra"
   ]
  },
  {
   "cell_type": "code",
   "execution_count": 3,
   "id": "6ddba9e6",
   "metadata": {},
   "outputs": [
    {
     "data": {
      "text/plain": [
       "source_function (generic function with 1 method)"
      ]
     },
     "execution_count": 3,
     "metadata": {},
     "output_type": "execute_result"
    }
   ],
   "source": [
    "function source_function(x) #To change tomorrow but it works \n",
    "   #= X0 = 20.0\n",
    "    σ = 0.8\n",
    "    A = 10.\n",
    "    return  A .* exp.(.-((x .- X0).^2)./σ^2)  =#\n",
    "    return 10. .+( x .* 0.)\n",
    "end"
   ]
  },
  {
   "cell_type": "code",
   "execution_count": 6,
   "id": "bdb3a42d",
   "metadata": {},
   "outputs": [
    {
     "data": {
      "text/plain": [
       "source (generic function with 1 method)"
      ]
     },
     "execution_count": 6,
     "metadata": {},
     "output_type": "execute_result"
    }
   ],
   "source": [
    "function source(N)\n",
    "#Parameter\n",
    "    l = 80.\n",
    "    dx = l/N\n",
    "    \n",
    "#Mesh\n",
    "    X_vect = Vector(0:dx:l)\n",
    "    #print(X_vect) \n",
    "    \n",
    "# Function source\n",
    "    f = source_function(X_vect)\n",
    "    #plot(X_vect,f)\n",
    "    return f\n",
    "    \n",
    "end"
   ]
  },
  {
   "cell_type": "code",
   "execution_count": 7,
   "id": "aa4a5f4d",
   "metadata": {},
   "outputs": [
    {
     "data": {
      "text/plain": [
       "matrix (generic function with 1 method)"
      ]
     },
     "execution_count": 7,
     "metadata": {},
     "output_type": "execute_result"
    }
   ],
   "source": [
    "function matrix(n)\n",
    "#Parameter\n",
    "    l = 80.\n",
    "    σ = 10 #contrainte GPa\n",
    "    E = 128 #contrainte Gpa\n",
    "    ϵ = σ/E #Hooke \n",
    "    dx = l/n\n",
    "    α = ϵ / dx^4\n",
    "    \n",
    "\n",
    "# Build the matrix\n",
    "    A = spdiagm( -1 => -4 *α* ones(n-1), -2 =>  α* ones(n-2), 0 =>  6  *α* ones(n)   , 1 => - 4 *α* ones(n-1), 2 =>   α*ones(n-2) )\n",
    "\n",
    "# Coefficient that change in the  matrix \n",
    "    A[1,2] = 0\n",
    "    A[2,1] = 0\n",
    "    A[1,1]= 1\n",
    "    A[1,3] = 0\n",
    "    A[2,2] = 1\n",
    "    A[2,3] = 0\n",
    "    A[2,4] = 0\n",
    "    A[n-1, n-3] = 0\n",
    "    A[n-1,n-2] = 0\n",
    "    A[n-1,n-1] = 1\n",
    "    A[n-1,n] = 0\n",
    "    A[n,n-2] = 0\n",
    "    A[n,n-1] = 0\n",
    "    A[n,n]= 1\n",
    "\n",
    "#time 135.690 microseconds and 65 allocations for n= 2000\n",
    "    return A\n",
    "end"
   ]
  },
  {
   "cell_type": "code",
   "execution_count": 8,
   "id": "f1789a52",
   "metadata": {},
   "outputs": [
    {
     "data": {
      "text/plain": [
       "exact_solution (generic function with 1 method)"
      ]
     },
     "execution_count": 8,
     "metadata": {},
     "output_type": "execute_result"
    }
   ],
   "source": [
    "function exact_solution(N) #With a constant source F=10 for example\n",
    "    l= 80 #length\n",
    "    dx = l/ N\n",
    "    σ = 10 #contrainte Gpa\n",
    "    E = 128 #contrainte GPA\n",
    "    ϵ = σ/E #hooke \n",
    "    u_exact = zeros(N+1)\n",
    "    x = 0\n",
    "    for i in 1:N+1\n",
    "        u_exact[i] = (10/(24*ϵ))* x^2 * (x-l)^2 #To change tomorrow to suppress the loop for but it works \n",
    "        x = x + dx     \n",
    "    end\n",
    "    return u_exact\n",
    "end"
   ]
  },
  {
   "cell_type": "code",
   "execution_count": 9,
   "id": "610c933f",
   "metadata": {},
   "outputs": [
    {
     "data": {
      "text/plain": [
       "biharmonic (generic function with 1 method)"
      ]
     },
     "execution_count": 9,
     "metadata": {},
     "output_type": "execute_result"
    }
   ],
   "source": [
    "function biharmonic(N)\n",
    "\n",
    "    #Parameter of the beam\n",
    "        l= 80 #length\n",
    "        dx = l/ N  \n",
    "\n",
    "    # Build of the matrix A\n",
    "        A = matrix(N+1)\n",
    "        #print(A)\n",
    "\n",
    "    # Vector B from Au = B (Boundary)\n",
    "        b = zeros(N+1)\n",
    "        b[1] = 0\n",
    "        b[2] = 0\n",
    "        b[N] = 0\n",
    "        b[end] = 0\n",
    "        #print(b)\n",
    "\n",
    "    # Vector S for the source power\n",
    "        X_vect = Vector(0:dx:l)\n",
    "        #print(length(X_vect))\n",
    "        S = source_function(X_vect) \n",
    "        #print(length(S))\n",
    "        \n",
    "    # Solving of the Linear System\n",
    "        u = A \\ (b+S) \n",
    "        #u = A \\ b  \n",
    "        #plot(X_vect, u)\n",
    "        return u \n",
    "    end \n"
   ]
  },
  {
   "cell_type": "code",
   "execution_count": 10,
   "id": "31284d3f",
   "metadata": {},
   "outputs": [
    {
     "data": {
      "text/plain": [
       "curves (generic function with 1 method)"
      ]
     },
     "execution_count": 10,
     "metadata": {},
     "output_type": "execute_result"
    }
   ],
   "source": [
    "function curves(N) #with 500 points, the two curves overlap so the resoltion works \n",
    "        l = 80.0\n",
    "        dx = l/ N \n",
    "        exact = exact_solution(N)\n",
    "        modele = biharmonic(N)\n",
    "        X = [i for i in 0:dx:l] \n",
    "        plot(X, [exact,modele])\n",
    "        #print(length(exact), length(modele), length(X))\n",
    "        #print(X)\n",
    "    end "
   ]
  }
 ],
 "metadata": {
  "kernelspec": {
   "display_name": "Julia 1.4.1",
   "language": "julia",
   "name": "julia-1.4"
  },
  "language_info": {
   "file_extension": ".jl",
   "mimetype": "application/julia",
   "name": "julia",
   "version": "1.4.1"
  }
 },
 "nbformat": 4,
 "nbformat_minor": 5
}
