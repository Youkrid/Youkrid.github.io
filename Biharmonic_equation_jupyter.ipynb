{
 "cells": [
  {
   "cell_type": "code",
   "execution_count": 2,
   "id": "ac86b0d5",
   "metadata": {},
   "outputs": [],
   "source": [
    "using Plots\n",
    "using SparseArrays\n",
    "using LinearAlgebra"
   ]
  },
  {
   "cell_type": "code",
   "execution_count": 6,
   "id": "6ddba9e6",
   "metadata": {},
   "outputs": [
    {
     "data": {
      "text/plain": [
       "source_function (generic function with 1 method)"
      ]
     },
     "execution_count": 6,
     "metadata": {},
     "output_type": "execute_result"
    }
   ],
   "source": [
    "function source_function(x) #To change for the next day but it works \n",
    "    #=X0 = 20.0\n",
    "    σ = 0.8\n",
    "    A = 10.\n",
    "    return  A .* exp.(.-((x .- X0).^2)./σ^2)  =#\n",
    "    return 10. .+( x .* 0.)\n",
    "end"
   ]
  },
  {
   "cell_type": "code",
   "execution_count": 6,
   "id": "bdb3a42d",
   "metadata": {},
   "outputs": [
    {
     "data": {
      "text/plain": [
       "source (generic function with 1 method)"
      ]
     },
     "execution_count": 6,
     "metadata": {},
     "output_type": "execute_result"
    }
   ],
   "source": [
    "function source(N)   \n",
    "#Parameter\n",
    "    l = 80.\n",
    "    dx = l/N\n",
    "    \n",
    "#Mesh\n",
    "    X_vect = Vector(0:dx:l)\n",
    "    \n",
    "# Function source\n",
    "    f = source_function(X_vect)\n",
    "    return f\n",
    "    \n",
    "end"
   ]
  },
  {
   "cell_type": "code",
   "execution_count": 1,
   "id": "f1789a52",
   "metadata": {},
   "outputs": [
    {
     "data": {
      "text/plain": [
       "exact_function (generic function with 1 method)"
      ]
     },
     "execution_count": 1,
     "metadata": {},
     "output_type": "execute_result"
    }
   ],
   "source": [
    "function exact_function(x)\n",
    "    l= 80 #length\n",
    "    σ = 10 #contrainte Gpa\n",
    "    E = 128 #contrainte GPA\n",
    "    ϵ = σ/E #hooke \n",
    "    A = 10.\n",
    "    return  (A ./ (24 .*ϵ)).* x.^2 .* (x.-l).^2 #exact solution for a source function constant (example : f = 10)\n",
    "end\n"
   ]
  },
  {
   "cell_type": "code",
   "execution_count": 2,
   "id": "bcaddda0",
   "metadata": {},
   "outputs": [
    {
     "data": {
      "text/plain": [
       "exact_solution (generic function with 1 method)"
      ]
     },
     "execution_count": 2,
     "metadata": {},
     "output_type": "execute_result"
    }
   ],
   "source": [
    "function exact_solution(N)\n",
    "\n",
    "#Parameter\n",
    "    l = 80.\n",
    "    dx = l/N\n",
    "#Mesh\n",
    "    X_vect = Vector(0:dx:l)\n",
    "# Function source\n",
    "    f = exact_function(X_vect)\n",
    "    return f\n",
    "end"
   ]
  },
  {
   "cell_type": "code",
   "execution_count": 3,
   "id": "aa4a5f4d",
   "metadata": {},
   "outputs": [
    {
     "data": {
      "text/plain": [
       "matrix (generic function with 1 method)"
      ]
     },
     "execution_count": 3,
     "metadata": {},
     "output_type": "execute_result"
    }
   ],
   "source": [
    "function matrix(n)\n",
    "#Parameter\n",
    "    l = 80.#length \n",
    "    σ = 10 #contrainte GPa\n",
    "    E = 128 #cYoung module \n",
    "    ϵ = σ/E #Hooke \n",
    "    dx = l/n\n",
    "    α = ϵ / dx^4\n",
    "    \n",
    "\n",
    "# Build the matrix\n",
    "    A = spdiagm( -1 => -4 *α* ones(n-1), -2 =>  α* ones(n-2), 0 =>  6  *α* ones(n)   , 1 => - 4 *α* ones(n-1), 2 =>   α*ones(n-2) )\n",
    "\n",
    "# Coefficient that change in the  matrix (TRIED SOMETHING THAT WORK BETTER)\n",
    "    A[1,2] = 0\n",
    "    A[1,1]= 1\n",
    "    A[1,3] = 0\n",
    "    #A[2,1] = 0\n",
    "    #A[2,2] = 1\n",
    "    #A[2,3] = 0\n",
    "    #A[2,4] = 0\n",
    "    #A[n-1, n-3] = 0\n",
    "    #A[n-1,n-2] = 0\n",
    "    #A[n-1,n-1] = 1\n",
    "    #A[n-1,n] = 0\n",
    "    A[n,n-2] = 0\n",
    "    A[n,n-1] = 0\n",
    "    A[n,n]= 1\n",
    "\n",
    "#time 135.690 microseconds and 65 allocations for n= 2000\n",
    "    return A\n",
    "end"
   ]
  },
  {
   "cell_type": "code",
   "execution_count": 5,
   "id": "610c933f",
   "metadata": {},
   "outputs": [
    {
     "data": {
      "text/plain": [
       "biharmonic (generic function with 1 method)"
      ]
     },
     "execution_count": 5,
     "metadata": {},
     "output_type": "execute_result"
    }
   ],
   "source": [
    "function biharmonic(N)\n",
    "    #Parameter of the beam\n",
    "        l= 80 #length\n",
    "        dx = l/ N  \n",
    "\n",
    "    # Build of the matrix A\n",
    "        A = matrix(N+1)\n",
    "\n",
    "    # Vector B from Au = B (Boundary)\n",
    "        b = zeros(N+1)\n",
    "        b[1] = 0 #encastrement \n",
    "        #b[2] = 0     Not sure about this\n",
    "        #b[end-1] = 0 Not sure about this \n",
    "        b[end] = 0 #encastrement\n",
    "\n",
    "    # Vector S for the source power\n",
    "        X_vect = Vector(0:dx:l)\n",
    "        S = source_function(X_vect) \n",
    "        S[1] = 0                       #Not sure about this \n",
    "        S[end] = 0                     #Not sure about this\n",
    "\n",
    "    # Solving of the Linear System\n",
    "        u = A \\ (b+S) \n",
    "        return u\n",
    "end"
   ]
  },
  {
   "cell_type": "code",
   "execution_count": 7,
   "id": "31284d3f",
   "metadata": {},
   "outputs": [
    {
     "data": {
      "text/plain": [
       "curves (generic function with 1 method)"
      ]
     },
     "execution_count": 7,
     "metadata": {},
     "output_type": "execute_result"
    }
   ],
   "source": [
    "function curves(N)\n",
    "    l = 80.0\n",
    "    dx = l/ N \n",
    "    exact = exact_solution(N)\n",
    "    modele = biharmonic(N)\n",
    "    title = \"Biharmonic modelisation for $N points\"\n",
    "    title_2 = \"plot_biharmonic_$N.png\"\n",
    "    X = Vector(0:dx:l)\n",
    "    plot(X, exact, label = \"exact_solution\", xlabel = \"Lenght of the beam\", ylabel = \"Déplacement\", title = title)\n",
    "    plot!(X, modele, label = \"modele\")\n",
    "    #savefig(title_2)\n",
    "end "
   ]
  },
  {
   "cell_type": "code",
   "execution_count": 8,
   "id": "88c96e16",
   "metadata": {},
   "outputs": [
    {
     "data": {
      "text/plain": [
       "error_relative (generic function with 1 method)"
      ]
     },
     "execution_count": 8,
     "metadata": {},
     "output_type": "execute_result"
    }
   ],
   "source": [
    "function error_relative(N)\n",
    "    exact = exact_solution(N)\n",
    "    modele = biharmonic(N)\n",
    "    l = 80.\n",
    "    dx = l / N\n",
    "    X = Vector(0:dx:l)\n",
    "    error = (abs.(exact .- modele) ./ exact) * 100\n",
    "    title = \"Percenatge of the relative error for $N points\"\n",
    "    title_2 = \"plot_biharmonic_error_$N.png\"\n",
    "    plot(X, error, label = \"Percentage of the relative error\", xlabel = \"Length of the beam\", ylabel = \"Error\", title = title)\n",
    "    #savefig(title_2)\n",
    "end"
   ]
  }
 ],
 "metadata": {
  "kernelspec": {
   "display_name": "Julia 1.4.1",
   "language": "julia",
   "name": "julia-1.4"
  },
  "language_info": {
   "file_extension": ".jl",
   "mimetype": "application/julia",
   "name": "julia",
   "version": "1.4.1"
  }
 },
 "nbformat": 4,
 "nbformat_minor": 5
}
