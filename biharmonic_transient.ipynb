{
 "cells": [
  {
   "cell_type": "code",
   "execution_count": 1,
   "metadata": {},
   "outputs": [],
   "source": [
    "using Plots\n",
    "using SparseArrays\n",
    "using LinearAlgebra\n",
    "using BenchmarkTools\n",
    "using DifferentialEquations"
   ]
  },
  {
   "cell_type": "code",
   "execution_count": 2,
   "metadata": {},
   "outputs": [
    {
     "data": {
      "text/plain": [
       "set_initial_condition_1 (generic function with 1 method)"
      ]
     },
     "metadata": {},
     "output_type": "display_data"
    }
   ],
   "source": [
    "function set_initial_condition_1(x)\n",
    "    A = 1.\n",
    "    l = 80\n",
    "    #-A * sin((pi / l ) * x)\n",
    "    0 * x + 10\n",
    "end"
   ]
  },
  {
   "attachments": {},
   "cell_type": "markdown",
   "metadata": {},
   "source": [
    "# A) Define function "
   ]
  },
  {
   "attachments": {},
   "cell_type": "markdown",
   "metadata": {},
   "source": [
    "$$ \n",
    "\n",
    "\\frac{\\partial ^2 W}{\\partial t^2} = \\alpha \\frac{\\partial ^4 W}{\\partial x^4} \n",
    "$$\n",
    "$$\n",
    "\\Leftrightarrow\n",
    "\n",
    "\\frac{\\partial ^2 W}{\\partial t^2} = \\alpha  \\times f(ddu,du,u,p,t)\n",
    "$$\n",
    "\n",
    "With the function $ f(du,u,p,t) $ for i in [1,N+1] : \n",
    "\n",
    "$$\n",
    "ddu[1] = \\frac{u_2 - u_1}{dx}\n",
    "$$\n",
    "\n",
    "$$\n",
    "ddu[2] = \\frac{u_3 - 2u_2 + u_1}{dx^2}\n",
    "$$\n",
    "\n",
    "$$\n",
    "ddu[3:length(u)-2] = \\frac{u_{i+2} - 4u_{i+1} + 6u_{i} -4u_{i-1} + u_{i-2}}{dx^4}\n",
    "$$\n",
    "\n",
    "$$\n",
    "ddu[N] = \\frac{u_{N+1}- 2u_N + u_{N-1}}{dx^2}\n",
    "$$\n",
    "\n",
    "$$\n",
    "ddu[N+1] = \\frac{u_{N+1} - u_N}{dx}\n",
    "$$\n",
    "\n",
    "Morover, the CFL condition is $ \\frac{dx^2}{2C} > dt $\n"
   ]
  },
  {
   "cell_type": "code",
   "execution_count": 1,
   "metadata": {},
   "outputs": [
    {
     "data": {
      "text/plain": [
       "matrix (generic function with 1 method)"
      ]
     },
     "metadata": {},
     "output_type": "display_data"
    }
   ],
   "source": [
    "function matrix(n)\n",
    "    #Parameter\n",
    "        l = 80.#length \n",
    "        dx = l/n\n",
    "        E = 1.9 * 10^7\n",
    "        I = 117.8 \n",
    "       # α = E * I / dx^4\n",
    "       α = E *I / dx^4\n",
    "    \n",
    "        \n",
    "    \n",
    "    # Build the matrix\n",
    "        A = spdiagm( -1 => -4 *α* ones(n-1), -2 =>  α* ones(n-2), 0 =>  6  *α* ones(n)   , 1 => - 4 *α* ones(n-1), 2 =>   α*ones(n-2) )\n",
    "    \n",
    "    # Coefficient that change in the  matrix \n",
    "        A[1,2] = -1/dx\n",
    "        A[1,1]=  1/dx\n",
    "        A[1,3] = 0.\n",
    "\n",
    "        A[2,1] = 1/dx^2\n",
    "        A[2,2] = -2/dx^2\n",
    "        A[2,3] = 1/dx^2\n",
    "        A[2,4] = 0.\n",
    "\n",
    "        A[n-1, n-3] = 0.\n",
    "        A[n-1,n-2] = 1/dx\n",
    "        A[n-1,n-1] =-2/dx\n",
    "        A[n-1,n] = 1/dx\n",
    "        \n",
    "        A[n,n-2] = 0.\n",
    "        A[n,n-1] = -1/dx\n",
    "        A[n,n]= 1/dx\n",
    "    \n",
    "    #time 135.690 microseconds and 65 allocations for n= 2000\n",
    "        return A\n",
    "    end"
   ]
  },
  {
   "cell_type": "code",
   "execution_count": 5,
   "metadata": {},
   "outputs": [
    {
     "data": {
      "text/plain": [
       "biharmonic! (generic function with 1 method)"
      ]
     },
     "metadata": {},
     "output_type": "display_data"
    }
   ],
   "source": [
    "function biharmonic!(ddu,du,u,p,t)\n",
    "    n = 81\n",
    "    A = matrix(n)\n",
    "    ddu .=  A * u\n",
    "end"
   ]
  },
  {
   "cell_type": "code",
   "execution_count": 6,
   "metadata": {},
   "outputs": [],
   "source": [
    "N = 81\n",
    "L = 80.0\n",
    "dx = 1\n",
    "x = Vector(0.0:dx:L)\n",
    "\n",
    "\n",
    "init_t = set_initial_condition_1.(x)\n",
    "init_dt = zeros(length(init_t))   # no initial speed\n",
    "\n",
    "\n",
    "t_begin  = 0.0\n",
    "t_end = 10\n",
    "tspan = (t_begin, t_end)\n",
    "\n",
    "\n",
    "prob = SecondOrderODEProblem(biharmonic!,init_dt, init_t, tspan)\n",
    "sol = DifferentialEquations.solve(prob)"
   ]
  },
  {
   "cell_type": "code",
   "execution_count": null,
   "metadata": {},
   "outputs": [],
   "source": [
    "\n",
    "plot(sol(10), label = \"1000s\")\n",
    "plot!(sol(8), label = \"800s\")\n",
    "plot!(sol(7), label = \"700s\")\n",
    "plot!(sol(6), label = \"600s\")\n",
    "plot!(sol(4), label = \"400s\")\n",
    "plot!(sol(3), label=\"300s\")\n",
    "plot!(sol(2), label = \"200s\")\n",
    "plot!(sol(t_begin), label = \"0s\")"
   ]
  },
  {
   "cell_type": "code",
   "execution_count": null,
   "metadata": {},
   "outputs": [],
   "source": []
  }
 ],
 "metadata": {
  "kernelspec": {
   "display_name": "Julia 1.9.2",
   "language": "julia",
   "name": "julia-1.9"
  },
  "language_info": {
   "file_extension": ".jl",
   "mimetype": "application/julia",
   "name": "julia",
   "version": "1.9.2"
  },
  "orig_nbformat": 4
 },
 "nbformat": 4,
 "nbformat_minor": 2
}
