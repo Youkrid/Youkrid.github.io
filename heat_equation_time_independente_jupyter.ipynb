{
 "cells": [
  {
   "cell_type": "code",
   "execution_count": 1,
   "id": "edd78ee1",
   "metadata": {},
   "outputs": [],
   "source": [
    "using Plots\n",
    "using SparseArrays\n",
    "using LinearAlgebra"
   ]
  },
  {
   "cell_type": "code",
   "execution_count": 1,
   "id": "ad2c3ebe",
   "metadata": {},
   "outputs": [
    {
     "data": {
      "text/plain": [
       "source_function (generic function with 1 method)"
      ]
     },
     "execution_count": 1,
     "metadata": {},
     "output_type": "execute_result"
    }
   ],
   "source": [
    "function source_function(x)\n",
    "    #=X0 = 60.0\n",
    "    σ = 0.8\n",
    "    A = 10.\n",
    "    return  A .* exp.(.-((x .- X0).^2)./σ^2)=#\n",
    "    return 0. .* x\n",
    "end"
   ]
  },
  {
   "cell_type": "code",
   "execution_count": 3,
   "id": "6ca523a7",
   "metadata": {},
   "outputs": [
    {
     "data": {
      "text/plain": [
       "source (generic function with 1 method)"
      ]
     },
     "execution_count": 3,
     "metadata": {},
     "output_type": "execute_result"
    }
   ],
   "source": [
    "function source(N)\n",
    "#Parameter\n",
    "    l = 80.\n",
    "    dx = l/N\n",
    "#Mesh\n",
    "    X_vect = Vector(0:dx:l)\n",
    "# Function source\n",
    "    f = source_function(X_vect)\n",
    "    return f\n",
    "end"
   ]
  },
  {
   "cell_type": "code",
   "execution_count": 3,
   "id": "29b60f6f",
   "metadata": {},
   "outputs": [
    {
     "data": {
      "text/plain": [
       "exact_function (generic function with 1 method)"
      ]
     },
     "execution_count": 3,
     "metadata": {},
     "output_type": "execute_result"
    }
   ],
   "source": [
    "function exact_function(x) #Without Source \n",
    "    return 0.5 .* x .+ 10\n",
    "end"
   ]
  },
  {
   "cell_type": "code",
   "execution_count": 4,
   "id": "9d3b024a",
   "metadata": {},
   "outputs": [
    {
     "data": {
      "text/plain": [
       "exact_solution (generic function with 1 method)"
      ]
     },
     "execution_count": 4,
     "metadata": {},
     "output_type": "execute_result"
    }
   ],
   "source": [
    "function exact_solution(N)\n",
    "#Parameter\n",
    "    l = 80.\n",
    "    dx = l/N\n",
    "#Mesh\n",
    "    X  = Vector(0:dx:l)\n",
    "#Function \n",
    "    f = exact_function(X)\n",
    "    return f \n",
    "end"
   ]
  },
  {
   "cell_type": "code",
   "execution_count": 3,
   "id": "29dfd183",
   "metadata": {},
   "outputs": [
    {
     "data": {
      "text/plain": [
       "matrix (generic function with 1 method)"
      ]
     },
     "execution_count": 3,
     "metadata": {},
     "output_type": "execute_result"
    }
   ],
   "source": [
    "function matrix(n) #8 times faster than before (calculate with @btime)\n",
    "\n",
    "# Parameter for a copper bar \n",
    "    d= 8.92 #density \n",
    "    sh= 0.092 #specific_heat\n",
    "    tc= 0.95 #thermal_conductivity\n",
    "    l= 80 #length\n",
    "    c = ( tc / (sh * d))^(1/2)\n",
    "    dx = l/ n  \n",
    "    \n",
    "# Build of the tridiagonal Matrix\n",
    "    A = spdiagm(-1 =>  -(c^2 / dx^2)* ones(n), 0 => 2 * (c^2 / dx^2) * ones(n+1), 1 => - (c^2 / dx^2) * ones(n)) \n",
    "    A[1,1] = 1\n",
    "    A[1,2] = 0\n",
    "    A[n+1,n+1] = 1 \n",
    "    A[n+1,n] = 0\n",
    "    return A\n",
    "end"
   ]
  },
  {
   "cell_type": "code",
   "execution_count": 6,
   "id": "ef0e0aa4",
   "metadata": {},
   "outputs": [
    {
     "data": {
      "text/plain": [
       "heat (generic function with 1 method)"
      ]
     },
     "execution_count": 6,
     "metadata": {},
     "output_type": "execute_result"
    }
   ],
   "source": [
    "function heat(N)\n",
    "\n",
    "#Parameter of the bar \n",
    "    l= 80 #length\n",
    "    dx = l/ N  \n",
    "\n",
    "# Build of the matrix A\n",
    "    A = matrix(N)\n",
    "    #print(A)\n",
    "\n",
    "# Vector B from Au = B (Boundary)\n",
    "    b = zeros(N+1)\n",
    "    b[1] = 10\n",
    "    b[end] = 50\n",
    "\n",
    "# Vector S for the source power\n",
    "    X_vect = Vector(0:dx:l)\n",
    "    S = source_function(X_vect) \n",
    "    S[1] = 0                        #Not sure about this \n",
    "    S[end] = 0                      #Not sure about this \n",
    "                                    #Dont know if it's B[1] = 10 or S[1] + B[1] = U[1] = 50 same for n\n",
    "    \n",
    "# Solving of the Linear System\n",
    "    u = A \\ (b+S)   \n",
    "    return u \n",
    "end "
   ]
  },
  {
   "cell_type": "code",
   "execution_count": null,
   "id": "effe2d00",
   "metadata": {},
   "outputs": [],
   "source": [
    "function error_relative(N)\n",
    "    exact = exact_solution(N)\n",
    "    modele = heat(N)\n",
    "    l = 80.\n",
    "    dx = l / N\n",
    "    X = Vector(0:dx:l)\n",
    "    error = (abs.(exact .- modele) ./ exact) * 100\n",
    "    title = \"Percenatge of the relative error for $N points\"\n",
    "    title_2 = \"plot_heat_error_$N.png\"\n",
    "    plot(X, error, label = \"Percentage of the relative error\", xlabel = \"Length of the beam\", ylabel = \"Error\", title = title)\n",
    "    #savefig(title_2)\n",
    "end"
   ]
  },
  {
   "cell_type": "code",
   "execution_count": 2,
   "id": "1cf70282",
   "metadata": {},
   "outputs": [
    {
     "data": {
      "text/plain": [
       "curves (generic function with 1 method)"
      ]
     },
     "execution_count": 2,
     "metadata": {},
     "output_type": "execute_result"
    }
   ],
   "source": [
    "function curves(N)\n",
    "    l = 80.0\n",
    "    dx = l/ N \n",
    "    exact = exact_solution(N)\n",
    "    modele = heat(N)\n",
    "    title = \"Heat modelisation for $N points\"\n",
    "    title_2 = \"plot_heat_$N.png\"\n",
    "    X = Vector(0:dx:l)\n",
    "    plot(X, exact, label = \"exact_solution\", xlabel = \"Lenght of the beam\", ylabel = \"Heat\", title = title)\n",
    "    plot!(X, modele, label = \"modele\")\n",
    "    #savefig(title_2)\n",
    "end "
   ]
  }
 ],
 "metadata": {
  "kernelspec": {
   "display_name": "Julia 1.4.1",
   "language": "julia",
   "name": "julia-1.4"
  },
  "language_info": {
   "file_extension": ".jl",
   "mimetype": "application/julia",
   "name": "julia",
   "version": "1.4.1"
  }
 },
 "nbformat": 4,
 "nbformat_minor": 5
}
